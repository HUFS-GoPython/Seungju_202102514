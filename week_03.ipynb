{
 "cells": [
  {
   "cell_type": "markdown",
   "id": "fb9ef183-2131-47a4-8175-d6b8bee8610d",
   "metadata": {},
   "source": [
    "## 중첩조건문 | nested conditional\n",
    "- if 블록 안에 또 if 블록이 만들어지는 경우\n",
    "    - 예: if ...\n",
    "            if ...\n",
    "                    if...\n",
    "    - 구분은 들여쓰기로 한다.\n",
    "    - 조건이 여러 개일 경우 사용한다.\n",
    "    - 지양. 더 예쁜 방법을 찾아본다."
   ]
  },
  {
   "cell_type": "code",
   "execution_count": 4,
   "id": "b5e4b8b4-b127-42df-b695-86eb1906f59f",
   "metadata": {
    "tags": []
   },
   "outputs": [
    {
     "name": "stdout",
     "output_type": "stream",
     "text": [
      "Block B\n"
     ]
    }
   ],
   "source": [
    "# 가독성이 좋지 않다!\n",
    "x = 0\n",
    "y = 4\n",
    "\n",
    "if x == y:\n",
    "    print(\"Block A\")\n",
    "else: \n",
    "    if x < y:\n",
    "        print(\"Block B\")\n",
    "    else: \n",
    "        print(\"Block C\")"
   ]
  },
  {
   "cell_type": "code",
   "execution_count": 5,
   "id": "b6ee39ce-11eb-4e7d-a8ad-821e33657aba",
   "metadata": {},
   "outputs": [
    {
     "name": "stdout",
     "output_type": "stream",
     "text": [
      "Block B\n"
     ]
    }
   ],
   "source": [
    "# 좋은 방법 -> elif 사용\n",
    "if x == y:\n",
    "    print(\"Block A\")\n",
    "elif x < y:\n",
    "    print(\"Block B\")\n",
    "else:\n",
    "    print(\"Block C\")"
   ]
  },
  {
   "cell_type": "code",
   "execution_count": 2,
   "id": "913bb000-6a40-486e-9b32-e3596b65c3b0",
   "metadata": {
    "tags": []
   },
   "outputs": [
    {
     "name": "stdout",
     "output_type": "stream",
     "text": [
      "D\n"
     ]
    }
   ],
   "source": [
    "# x < 0 < 10\n",
    "\n",
    "if x > 0:\n",
    "    print('A')\n",
    "    if x < 10:\n",
    "        print('B')\n",
    "    else: \n",
    "        print('C')\n",
    "else: \n",
    "    print('D')"
   ]
  },
  {
   "cell_type": "code",
   "execution_count": 10,
   "id": "488f7b07-9e16-4c8c-9dc8-ef5ed5c2bfb0",
   "metadata": {},
   "outputs": [
    {
     "name": "stdout",
     "output_type": "stream",
     "text": [
      "Block B\n",
      "Block B\n"
     ]
    }
   ],
   "source": [
    "# 방법 1\n",
    "if (x > 0) and (x < 10): # 논리연산자 사용하는 방법\n",
    "    print(\"Block A\")\n",
    "else:\n",
    "    print(\"Block B\")\n",
    "    \n",
    "# 방법 2\n",
    "if 0 < x < 10: # 파이썬에서만 가능함\n",
    "    print(\"Block A\")\n",
    "else:\n",
    "    print(\"Block B\")"
   ]
  },
  {
   "cell_type": "markdown",
   "id": "26eeba99-1dec-412c-9dd9-3293b0feaf75",
   "metadata": {},
   "source": [
    "### 논리연산자\n",
    "- 비교연산 조건을 여러 번 사용하는 경우\n",
    "    - x > 0, x < 10\n",
    "- and, or, not\n",
    "    - A and B: A 그리고 B, A, B 둘 다 참일 때 True (&)\n",
    "    - A or B: A 혹은 B, A, B 둘 중 하나만 참일 때 True (|)\n",
    "    - not A: A가 참이면 False, 거짓이면 True (~)"
   ]
  },
  {
   "cell_type": "markdown",
   "id": "1cb7a9f1-922c-4ff1-bf1a-e9fcf3ac56f2",
   "metadata": {},
   "source": [
    "### True/False\n",
    "- A = True\n",
    "- \"만약 A가 참이면, ...\""
   ]
  },
  {
   "cell_type": "code",
   "execution_count": null,
   "id": "f65cd24b-0b87-4260-b816-c0b06c7b1c9f",
   "metadata": {
    "tags": []
   },
   "outputs": [],
   "source": [
    "if a == True:# 이렇게 쓰는 거 아니고\n",
    "    print()\n",
    "if a: # 이렇게 쓴다.\n",
    "    print()"
   ]
  },
  {
   "cell_type": "markdown",
   "id": "f356dec5-4d2f-40a5-8469-ca5671ec6b3c",
   "metadata": {},
   "source": [
    "### in\n",
    "- membership operator\n",
    "- 요소가 안에 포함되어 있는가 or 비슷한 조건문이 여럿일 때\n",
    "- A in B = A가 B에 포함되어 있냐"
   ]
  },
  {
   "cell_type": "code",
   "execution_count": 15,
   "id": "b62d6d41-e28c-46b2-bee7-b4aa65593445",
   "metadata": {},
   "outputs": [
    {
     "name": "stdout",
     "output_type": "stream",
     "text": [
      "자음\n"
     ]
    }
   ],
   "source": [
    "# ex1. 모음인지 아닌지 판별해라 (a, e, i, o, u)\n",
    "letter = 'k'\n",
    "# if letter == 'a' or letter == 'e', ... 이렇게 비슷한게 반복되면\n",
    "if letter in ['a', 'e', 'i', 'o', 'u']: # 이렇게 리스트로 가져가는 게 낫다.\n",
    "    print(\"모음\")\n",
    "else: \n",
    "    print(\"자음\")"
   ]
  },
  {
   "cell_type": "code",
   "execution_count": 21,
   "id": "5b4a67d3-a9bb-4bb3-b70a-646c0a3b67fb",
   "metadata": {},
   "outputs": [],
   "source": [
    "# 단어에 모음이 있냐 없냐\n",
    "word = 'apple'\n",
    "\n",
    "# 틀린 예시 1\n",
    "if word in ['a', 'e', 'i', 'o', 'u']: # 반대로\n",
    "    print(\"yes\")\n",
    "    "
   ]
  },
  {
   "cell_type": "code",
   "execution_count": 1,
   "id": "81c7f53f-d6f0-4df8-9b77-63bd2b29969e",
   "metadata": {},
   "outputs": [
    {
     "ename": "IndentationError",
     "evalue": "expected an indented block (Temp/ipykernel_13960/3404174195.py, line 3)",
     "output_type": "error",
     "traceback": [
      "\u001b[1;36m  File \u001b[1;32m\"C:\\Users\\SJLEE\\AppData\\Local\\Temp/ipykernel_13960/3404174195.py\"\u001b[1;36m, line \u001b[1;32m3\u001b[0m\n\u001b[1;33m    # left 는 list 인데 word 는 string 이라 리스트 전체로 알아보기 때문에 타입 에러\u001b[0m\n\u001b[1;37m                                                            ^\u001b[0m\n\u001b[1;31mIndentationError\u001b[0m\u001b[1;31m:\u001b[0m expected an indented block\n"
     ]
    }
   ],
   "source": [
    "# 틀린 예시 2\n",
    "if ['a', 'e', 'i', 'o', 'u'] in word: \n",
    "# left 는 list 인데 word 는 string 이라 리스트 전체로 알아보기 때문에 타입 에러"
   ]
  },
  {
   "cell_type": "code",
   "execution_count": 2,
   "id": "8738ac81-5682-44c4-88e0-16ef978484e8",
   "metadata": {},
   "outputs": [
    {
     "name": "stdout",
     "output_type": "stream",
     "text": [
      "있다\n"
     ]
    }
   ],
   "source": [
    "# 정답\n",
    "if 'a'or 'e'or 'i'or 'o'or 'u' in word:\n",
    "    print(\"있다\")\n",
    "else: \n",
    "    print(\"없다\")"
   ]
  },
  {
   "cell_type": "markdown",
   "id": "045d01a1-29e0-4397-9f8e-edf26b92cfe7",
   "metadata": {},
   "source": [
    "### 코끼리 연산자\n",
    "- walrus operator\n",
    "-:=\n",
    "- 할당과 테스트를 동시에 하는 기능"
   ]
  },
  {
   "cell_type": "code",
   "execution_count": 5,
   "id": "16606162-0e54-494d-a5a7-7ef74238c81d",
   "metadata": {},
   "outputs": [
    {
     "data": {
      "text/plain": [
       "'blahblahblahblahblahblahblahblahblahblahblahblahblahblahblahblahblahblahblahblahblahblahblahblahblahblahblahblahblahblahblahblahblahblahblahblahblahblahblahblahblahblahblahblahblahblahblahblahblahblah'"
      ]
     },
     "execution_count": 5,
     "metadata": {},
     "output_type": "execute_result"
    }
   ],
   "source": [
    "tweet_limit = 200\n",
    "tweet_string = 'blah' * 50 # 4 * 50 = 200\n",
    "tweet_string"
   ]
  },
  {
   "cell_type": "code",
   "execution_count": 7,
   "id": "4d233158-6abc-48f2-9094-670aab983457",
   "metadata": {},
   "outputs": [
    {
     "name": "stdout",
     "output_type": "stream",
     "text": [
      "불가능하다\n"
     ]
    }
   ],
   "source": [
    "diff = tweet_limit -  len(tweet_string)\n",
    "if diff > 0:\n",
    "    print(\"가능하다\")\n",
    "else:\n",
    "    print(\"불가능하다\")"
   ]
  },
  {
   "cell_type": "code",
   "execution_count": 9,
   "id": "613f86c5-a65b-4c61-a5a3-5ea234b11ad2",
   "metadata": {},
   "outputs": [
    {
     "name": "stdout",
     "output_type": "stream",
     "text": [
      "불가능하다\n"
     ]
    }
   ],
   "source": [
    "# 이것들을 한 줄로 줄이기 위해 사용하는 게 코끼리 연산자임\n",
    "\n",
    "if diff := tweet_limit -  len(tweet_string) > 0:\n",
    "    print(\"가능하다\")\n",
    "else:\n",
    "    print(\"불가능하다\")"
   ]
  },
  {
   "cell_type": "markdown",
   "id": "4c2ee43c-b77e-4ea3-be6d-ec16d20a7470",
   "metadata": {},
   "source": [
    "### 퀴즈\n",
    "- 윤년을 구해봅시다. \n",
    "    - 연도를 입력받는다.\n",
    "    - 4로 나눠지면 윤년\n",
    "    - 100으로 나눠지면 안 된다.\n",
    "    - 400으로 나눠지면 윤년\n",
    "- 출력: '{}년은 윤년입니다.'/'-아닙니다.'"
   ]
  },
  {
   "cell_type": "code",
   "execution_count": 14,
   "id": "1a948c77-4df7-4558-8569-2fe164c80d39",
   "metadata": {},
   "outputs": [
    {
     "name": "stdin",
     "output_type": "stream",
     "text": [
      "연도를 입력하세요: 4000\n"
     ]
    },
    {
     "name": "stdout",
     "output_type": "stream",
     "text": [
      "4000년은 윤년입니다.\n"
     ]
    }
   ],
   "source": [
    "year = int(input(\"연도를 입력하세요:\"))\n",
    "if (year % 4 == 0 and year % 100 != 0) or (year % 400) == 0:\n",
    "    print(f'{year}년은 윤년입니다.')\n",
    "else:\n",
    "    print(f'{year}년은 윤년이 아닙니다.')"
   ]
  },
  {
   "cell_type": "markdown",
   "id": "32e7c8f0-c0ba-408c-8d3e-e9b4c5855885",
   "metadata": {},
   "source": [
    "## String | 문자열\n",
    "- 시스템에서 가장 작은 단위\n",
    "- 불변적인 성격을 가진다. immutable\n",
    "    - 예: jack -> jeck\n",
    "- ', \"으로 선언한다.\n",
    "    -예: \"25.5\"\n",
    "    - ''',\"\"\" 주석이다.\n",
    "- 형변환은 str()\n",
    "\n",
    "\n",
    "### escape character | 이스케이프 문자\n",
    "- 특수한 형태의 문자열, 눈에 보이는 대로 인식되지 않는 문자\n",
    "- \\ + ch\n",
    "- 예: \\n, \\t, \\b, \\',\\\", ...\n",
    "    - \\n 을 출력하고 싶다? \\\\n 으로 쓰면 됨.\n",
    "    - r'' 을 써도\\n 그대로 출력됨\n",
    "- 다른 스트링을 만드는 것이 아님. 그저 출력의 문제일 뿐!"
   ]
  },
  {
   "cell_type": "code",
   "execution_count": 21,
   "id": "f5cb1635-9c28-45d1-b8d9-903a951f6550",
   "metadata": {},
   "outputs": [
    {
     "name": "stdout",
     "output_type": "stream",
     "text": [
      "hello\\nworld\n"
     ]
    }
   ],
   "source": [
    "sent = r'hello\\nworld'\n",
    "print(sent)"
   ]
  },
  {
   "cell_type": "code",
   "execution_count": 20,
   "id": "fae59e42-0f3a-421d-aab4-f8ac1475b2b9",
   "metadata": {},
   "outputs": [
    {
     "data": {
      "text/plain": [
       "\"I'm a student.\""
      ]
     },
     "execution_count": 20,
     "metadata": {},
     "output_type": "execute_result"
    }
   ],
   "source": [
    "'I\\'m a student.' #str 임을 선언하기 위해 \\를 쓴다. "
   ]
  },
  {
   "cell_type": "code",
   "execution_count": 23,
   "id": "cb601401-d7ab-4142-9e04-559e8e2cec23",
   "metadata": {},
   "outputs": [
    {
     "name": "stdout",
     "output_type": "stream",
     "text": [
      "hello\n",
      "world\n"
     ]
    }
   ],
   "source": [
    "sent = 'hello\\nworld'\n",
    "sent #그대로 출력\n",
    "print(sent) #기능대로 출력"
   ]
  },
  {
   "cell_type": "markdown",
   "id": "9bb7c503-2c3f-4681-9ea1-1086da2a4b98",
   "metadata": {},
   "source": [
    "### 연산 \n",
    "- concatenatation\n",
    "    - '' + '' => 공백없이 결합하는 방법\n",
    "- 곱하기\n",
    "    - ''*5 => 복제"
   ]
  },
  {
   "cell_type": "code",
   "execution_count": 26,
   "id": "8a315940-2c08-4c0f-8c57-b72207614bd7",
   "metadata": {},
   "outputs": [
    {
     "data": {
      "text/plain": [
       "'jackjack'"
      ]
     },
     "execution_count": 26,
     "metadata": {},
     "output_type": "execute_result"
    }
   ],
   "source": [
    "name = 'jack'\n",
    "name + name"
   ]
  },
  {
   "cell_type": "code",
   "execution_count": 27,
   "id": "61bb6c7b-76e6-4b7d-901e-b8d2131ea370",
   "metadata": {},
   "outputs": [
    {
     "data": {
      "text/plain": [
       "'jackjackjackjack'"
      ]
     },
     "execution_count": 27,
     "metadata": {},
     "output_type": "execute_result"
    }
   ],
   "source": [
    "name * 4"
   ]
  },
  {
   "cell_type": "code",
   "execution_count": 28,
   "id": "99caab30-bf77-42ae-89f8-01b4e03b9e4c",
   "metadata": {},
   "outputs": [
    {
     "ename": "TypeError",
     "evalue": "'str' object does not support item assignment",
     "output_type": "error",
     "traceback": [
      "\u001b[1;31m---------------------------------------------------------------------------\u001b[0m",
      "\u001b[1;31mTypeError\u001b[0m                                 Traceback (most recent call last)",
      "\u001b[1;32m~\\AppData\\Local\\Temp/ipykernel_13960/1234381895.py\u001b[0m in \u001b[0;36m<module>\u001b[1;34m\u001b[0m\n\u001b[0;32m      1\u001b[0m \u001b[1;31m# immutable\u001b[0m\u001b[1;33m\u001b[0m\u001b[1;33m\u001b[0m\u001b[0m\n\u001b[1;32m----> 2\u001b[1;33m \u001b[0mname\u001b[0m\u001b[1;33m[\u001b[0m\u001b[1;36m1\u001b[0m\u001b[1;33m]\u001b[0m \u001b[1;33m=\u001b[0m \u001b[1;34m'e'\u001b[0m\u001b[1;33m\u001b[0m\u001b[1;33m\u001b[0m\u001b[0m\n\u001b[0m",
      "\u001b[1;31mTypeError\u001b[0m: 'str' object does not support item assignment"
     ]
    }
   ],
   "source": [
    "# immutable\n",
    "name[1] = 'e'"
   ]
  },
  {
   "cell_type": "markdown",
   "id": "f7ec4718-4f0f-4b3e-98b8-b4158da1ef61",
   "metadata": {},
   "source": [
    "### 슬라이싱 추출\n",
    "- 문자열의 일부를 떼어내는 작업\n",
    "- 대괄호 사용, 그 안에 오프셋(상대적인 주소의 개념)을 지정\n",
    "- 오프셋은 0부터 시작한다. \n",
    "    0123\n",
    "    jack\n",
    "    -4 -1\n",
    "- 음수도 가능함. -1부터 시작\n",
    "- 오프셋은 [시작:끝:스텝]으로 이루어져 있음. # step의 디폴트값 = 1\n",
    "- 오프셋의 시작은 포함, 끝은 포함하지 않음. (이상 - 미만)"
   ]
  },
  {
   "cell_type": "code",
   "execution_count": 29,
   "id": "5c5382ba-55f1-4936-8d9e-38f6953f719a",
   "metadata": {},
   "outputs": [
    {
     "data": {
      "text/plain": [
       "'k'"
      ]
     },
     "execution_count": 29,
     "metadata": {},
     "output_type": "execute_result"
    }
   ],
   "source": [
    "name = 'jack'\n",
    "name[-1]"
   ]
  },
  {
   "cell_type": "code",
   "execution_count": 32,
   "id": "cffaaacd-caa1-4280-aefa-33455ecc61d9",
   "metadata": {},
   "outputs": [
    {
     "data": {
      "text/plain": [
       "'l'"
      ]
     },
     "execution_count": 32,
     "metadata": {},
     "output_type": "execute_result"
    }
   ],
   "source": [
    "sent[3:4] # 3만 출력"
   ]
  },
  {
   "cell_type": "code",
   "execution_count": 35,
   "id": "611fa5c1-0a59-4e10-b7a5-b1513bf5c4f6",
   "metadata": {},
   "outputs": [
    {
     "data": {
      "text/plain": [
       "'hello\\n'"
      ]
     },
     "execution_count": 35,
     "metadata": {},
     "output_type": "execute_result"
    }
   ],
   "source": [
    "# 처음부터 5까지 출력\n",
    "\n",
    "sent[0:6] # 처음부터면 얘 안 쓴다.\n",
    "sent[:6] # 쉬운 걸 쓰자."
   ]
  },
  {
   "cell_type": "code",
   "execution_count": 51,
   "id": "520eafac-6671-4f57-b3c2-e906454c9237",
   "metadata": {},
   "outputs": [
    {
     "data": {
      "text/plain": [
       "'hlowrd'"
      ]
     },
     "execution_count": 51,
     "metadata": {},
     "output_type": "execute_result"
    }
   ],
   "source": [
    "# 처음부터 끝까지 2스텝씩 출력\n",
    "\n",
    "# sent[0:6:2],\n",
    "# sent[:11:2],\n",
    "# sent[:10:2] 정답은 맞지만 안 씀\n",
    "\n",
    "sent[::2]"
   ]
  },
  {
   "cell_type": "code",
   "execution_count": 49,
   "id": "39e02b86-3fc9-4755-b9a9-5509f3f0d6aa",
   "metadata": {},
   "outputs": [
    {
     "data": {
      "text/plain": [
       "'dlrow\\nolleh'"
      ]
     },
     "execution_count": 49,
     "metadata": {},
     "output_type": "execute_result"
    }
   ],
   "source": [
    "# 모든 글자를 거꾸로 출력하세요\n",
    "\n",
    "# sent[-1::-1] 너무 당연하기 때문에 앞의 -1 은 안 씀.\n",
    "# sent[0:11:2]\n",
    "# sent[-1::]\n",
    "# sent[-1:-11]\n",
    "\n",
    "sent[::-1]"
   ]
  },
  {
   "cell_type": "code",
   "execution_count": 40,
   "id": "aff91589-acd4-4044-a774-fd61c7fba98e",
   "metadata": {},
   "outputs": [
    {
     "data": {
      "text/plain": [
       "'benz'"
      ]
     },
     "execution_count": 40,
     "metadata": {},
     "output_type": "execute_result"
    }
   ],
   "source": [
    "cars = ['benz', 'kia', 'porsche']\n",
    "cars[0] # 리스트에서도 슬라이싱의 개념이 적용된다!"
   ]
  },
  {
   "cell_type": "markdown",
   "id": "356a76c8-b057-462a-bdb7-156b9ef2d734",
   "metadata": {},
   "source": [
    "## NLTK"
   ]
  },
  {
   "cell_type": "markdown",
   "id": "70560381-14e4-483b-9eb9-ba71c2adf442",
   "metadata": {},
   "source": [
    "- natural language toolkit\n",
    "- 자연어 분석을 위해 교육용으로 배포된 패키지\n",
    "- 내장함수, 기능들이 추가됨\n",
    "    - 토크나이즈, 파싱, 태깅, ..."
   ]
  },
  {
   "cell_type": "code",
   "execution_count": 43,
   "id": "2c148c3a-0a91-4d66-aa9c-bfb2449cc404",
   "metadata": {},
   "outputs": [],
   "source": [
    "#!pip install nltk # 설치"
   ]
  },
  {
   "cell_type": "code",
   "execution_count": 45,
   "id": "acea7c5c-ba10-4fa0-bfdc-4f311bc3be79",
   "metadata": {},
   "outputs": [
    {
     "data": {
      "text/plain": [
       "True"
      ]
     },
     "execution_count": 45,
     "metadata": {},
     "output_type": "execute_result"
    }
   ],
   "source": [
    "import nltk # 가져오기\n",
    "nltk.download('book', quiet = True) #부분적으로 다운받기"
   ]
  },
  {
   "cell_type": "code",
   "execution_count": 10,
   "id": "78776bf0-36b3-4e39-96d4-e0821be76ea8",
   "metadata": {},
   "outputs": [],
   "source": [
    "from nltk import book # 가져오기"
   ]
  },
  {
   "cell_type": "code",
   "execution_count": 11,
   "id": "8730b2d9-c83b-4dcb-888b-286072021d6c",
   "metadata": {},
   "outputs": [
    {
     "data": {
      "text/plain": [
       "['[',\n",
       " 'Moby',\n",
       " 'Dick',\n",
       " 'by',\n",
       " 'Herman',\n",
       " 'Melville',\n",
       " '1851',\n",
       " ']',\n",
       " 'ETYMOLOGY',\n",
       " '.']"
      ]
     },
     "execution_count": 11,
     "metadata": {},
     "output_type": "execute_result"
    }
   ],
   "source": [
    "moby = book.text1\n",
    "moby.tokens[:10] # 토큰에 접근하는 방법\n",
    "# 토큰: 프로그래밍의 단어 단위 hello world, I'm mdo a coward.\n",
    "    # I'm / I, 'm / I, am"
   ]
  },
  {
   "cell_type": "code",
   "execution_count": 7,
   "id": "08918b19-9163-4fb3-82d3-cc332040ce3e",
   "metadata": {},
   "outputs": [
    {
     "data": {
      "text/plain": [
       "260819"
      ]
     },
     "execution_count": 7,
     "metadata": {},
     "output_type": "execute_result"
    }
   ],
   "source": [
    "# 1. 길이 세기\n",
    "len(moby) #26만 자"
   ]
  },
  {
   "cell_type": "code",
   "execution_count": 9,
   "id": "c4073706-e6b7-406e-9e64-d12402d16d7b",
   "metadata": {},
   "outputs": [
    {
     "data": {
      "text/plain": [
       "19317"
      ]
     },
     "execution_count": 9,
     "metadata": {},
     "output_type": "execute_result"
    }
   ],
   "source": [
    "#2. 중복 없이 단어 몇 개?\n",
    "len(set(moby)) # 1.9만 자"
   ]
  },
  {
   "cell_type": "markdown",
   "id": "0564a893-5f91-4cbc-984e-021904a0fdb5",
   "metadata": {},
   "source": [
    "- list\n",
    "    - ['a', a, True]\n",
    "    - 순서가 있고\n",
    "    - 중복 허용된다\n",
    "    - list()\n",
    "- set\n",
    "    - {'a', a, True}\n",
    "    - 순서가 없고\n",
    "    - 중복은 허용 안 된다\n",
    "    - set()\n",
    "    - 수학의 집합 개념\n",
    "   "
   ]
  },
  {
   "cell_type": "code",
   "execution_count": 58,
   "id": "893fff90-d4b0-49c3-9bff-372d901073c9",
   "metadata": {},
   "outputs": [
    {
     "data": {
      "text/plain": [
       "['kia', 'hyundai', 'renault', 'benz', 'benz', 'kia']"
      ]
     },
     "execution_count": 58,
     "metadata": {},
     "output_type": "execute_result"
    }
   ],
   "source": [
    "cars = ['kia', 'hyundai', 'renault', 'benz', 'benz', 'kia']\n",
    "cars"
   ]
  },
  {
   "cell_type": "code",
   "execution_count": 59,
   "id": "e2e2d162-28bf-40df-86e8-a7ecc0397cdb",
   "metadata": {},
   "outputs": [
    {
     "data": {
      "text/plain": [
       "{'benz', 'hyundai', 'kia', 'renault'}"
      ]
     },
     "execution_count": 59,
     "metadata": {},
     "output_type": "execute_result"
    }
   ],
   "source": [
    "set(cars) # 중복 빼고 나온다."
   ]
  },
  {
   "cell_type": "code",
   "execution_count": 60,
   "id": "7d55a12f-3317-41c2-a553-29b9527a9163",
   "metadata": {},
   "outputs": [
    {
     "data": {
      "text/plain": [
       "0.07406285585022564"
      ]
     },
     "execution_count": 60,
     "metadata": {},
     "output_type": "execute_result"
    }
   ],
   "source": [
    "# lexical diversity\n",
    "len(set(moby)) / len(moby)"
   ]
  },
  {
   "cell_type": "code",
   "execution_count": 64,
   "id": "a68ae3bf-ff5c-4c20-926f-376ec0713d13",
   "metadata": {},
   "outputs": [
    {
     "data": {
      "text/plain": [
       "['renault', 'kia', 'kia', 'hyundai', 'benz', 'benz']"
      ]
     },
     "execution_count": 64,
     "metadata": {},
     "output_type": "execute_result"
    }
   ],
   "source": [
    "# 정렬\n",
    "sorted(cars)\n",
    "sorted(cars, reverse = True) # 반대로 정렬"
   ]
  },
  {
   "cell_type": "code",
   "execution_count": 68,
   "id": "89cae700-9d42-4361-b286-a7888ad0963a",
   "metadata": {},
   "outputs": [
    {
     "data": {
      "text/plain": [
       "['.',\n",
       " '1851',\n",
       " 'Dick',\n",
       " 'ETYMOLOGY',\n",
       " 'Herman',\n",
       " 'Melville',\n",
       " 'Moby',\n",
       " '[',\n",
       " ']',\n",
       " 'by']"
      ]
     },
     "execution_count": 68,
     "metadata": {},
     "output_type": "execute_result"
    }
   ],
   "source": [
    "sorted(moby[:10]) # 10개 먼저 뽑고 중복 없애고 그 다음 정렬\n",
    "# 순서: 문장 부호 -> 숫자 -> 대문자 -> 소문자"
   ]
  },
  {
   "cell_type": "code",
   "execution_count": 72,
   "id": "34bc0a57-0b85-4585-b046-0b2d86aa6762",
   "metadata": {},
   "outputs": [
    {
     "data": {
      "text/plain": [
       "['!', '!', '!', '!', '!', '!', '!', '!', '!', '!']"
      ]
     },
     "execution_count": 72,
     "metadata": {},
     "output_type": "execute_result"
    }
   ],
   "source": [
    "sorted(moby)[:10] #모비를 sort를 먼저 시킨 다음 10개를 뽑음\n",
    "# +)set은 인덱싱 안된다. "
   ]
  },
  {
   "cell_type": "markdown",
   "id": "189cbbbc-e476-4dbf-a353-21f19baf6282",
   "metadata": {},
   "source": [
    "### Quiz 1\n",
    "- text6 가져와서 토큰을 변수에 담고\n",
    "- 중복 없는 셋으로 저장하고 내림차순\n",
    "    - 앞에서 10개 단어 출력\n",
    "    - 단어에 z 가 있으면 z를 대문자로 바꾸시오.\n",
    "    - z가 없는데 4자 이상이면 끝 글자를 대문자로 바꾸라\n",
    "    \n",
    "### Quiz 2\n",
    "- 주민번호, 휴대폰 번호, 이메일 주소 입력받는다.\n",
    "- 주민번호, 휴대폰 번호는 숫자만 입력받는다. (-없이)\n",
    "- 이메일 주소는 아이디만 입력받는다. (@xx 없이)\n",
    "    - 1. \"당신은 {}년 {}월 {}일 출생의 {남성/여성}입니다.\"\n",
    "    - 2. 휴대폰 번호: 000-0000-0000\n",
    "    - 3. 이메일 주소: xxxx@gmail.com"
   ]
  },
  {
   "cell_type": "code",
   "execution_count": 130,
   "id": "3a33212f-66e9-4ebc-8c9a-7a4059e85021",
   "metadata": {},
   "outputs": [
    {
     "name": "stdout",
     "output_type": "stream",
     "text": [
      "Zosh\n",
      "Zop\n",
      "Zo\n",
      "Zne\n",
      "Ziv\n",
      "yourseF\n",
      "youS\n",
      "yoR\n",
      "youG\n",
      "you\n"
     ]
    }
   ],
   "source": [
    "# from nltk import book\n",
    "words = book.text6\n",
    "words.tokens\n",
    "words = sorted(set(words), reverse = True)[:10]\n",
    "\n",
    "for word in words:\n",
    "    words = list(word)\n",
    "    \n",
    "    if 'z' in words:\n",
    "        print(word[0].upper(), word[2:], sep='')\n",
    "    elif 'z' not in words and len(words) >= 4:\n",
    "        print(word[:-2], word[-1].upper(), sep='')\n",
    "    else:\n",
    "        print(word)\n",
    "            \n",
    "       \n",
    "        "
   ]
  },
  {
   "cell_type": "code",
   "execution_count": 14,
   "id": "7d9f083e-02e9-4ea6-ac88-978190ac8cac",
   "metadata": {},
   "outputs": [
    {
     "name": "stdin",
     "output_type": "stream",
     "text": [
      "주민번호를 입력하세요: 0012094569874\n",
      "휴대폰 번호를 입력하세요: 01025874563\n",
      "이메일 주소를 입력하세요: hufs1234\n"
     ]
    },
    {
     "name": "stdout",
     "output_type": "stream",
     "text": [
      "당신은 00년 12월 09일 출생의 여성입니다.\n",
      "휴대폰 번호: 010 - 2587 - 4563\n",
      "이메일 주소: hufs1234@gmail.com\n"
     ]
    }
   ],
   "source": [
    "id_number = input(\"주민번호를 입력하세요:\")\n",
    "phone_number = input(\"휴대폰 번호를 입력하세요:\")\n",
    "email = input(\"이메일 주소를 입력하세요:\")\n",
    "\n",
    "if id_number[6] == '1' or id_number[6] == '3':\n",
    "    sex = '남성'\n",
    "else:\n",
    "    sex = '여성'\n",
    "    \n",
    "print(f\"당신은 {id_number[:2]}년 {id_number[2:4]}월 {id_number[4:6]}일 출생의 {sex}입니다.\")\n",
    "print(f\"휴대폰 번호: {phone_number[:3]} - {phone_number[3:7]} - {phone_number[7:]}\")\n",
    "print(f\"이메일 주소: {email}@gmail.com\")"
   ]
  }
 ],
 "metadata": {
  "kernelspec": {
   "display_name": "Python 3 (ipykernel)",
   "language": "python",
   "name": "python3"
  },
  "language_info": {
   "codemirror_mode": {
    "name": "ipython",
    "version": 3
   },
   "file_extension": ".py",
   "mimetype": "text/x-python",
   "name": "python",
   "nbconvert_exporter": "python",
   "pygments_lexer": "ipython3",
   "version": "3.9.7"
  }
 },
 "nbformat": 4,
 "nbformat_minor": 5
}
