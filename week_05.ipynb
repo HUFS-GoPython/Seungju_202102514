{
 "cells": [
  {
   "cell_type": "markdown",
   "id": "7d7ad078-783b-405e-97c4-89faf16065d4",
   "metadata": {},
   "source": [
    "### 반복문\n",
    "-  while ,for loop \n",
    "- 반복문: 자료 구조를 순회할 때 사용\n",
    "- 정해진 동작을 반복해야 할 때 내리는 명령어\n",
    "- for loop: 시작, 종료, 그리고 수행명령\n",
    "\n",
    "#### while loop\n",
    "- 어떤 조건이 만족하는 동안 블록을 수행한다.\n",
    "- if + for loop\n",
    "- 해당 조건이 거짓이면 멈춘다. => 언제 멈추는지 그 시점을 정확히 파악해야 함. \n",
    "\n",
    "#### for vs. while\n",
    "- for: 반복 횟수가 정해짐. 정확함. 변하지 않음.\n",
    "    - 예: 성적 산출\n",
    "- while: 횟수 정해지지 않음(중요 x), 어떤 조건을 만족시킬 때 빠져나오게 하는 게 중요할 때 사용\n",
    "    - 예: 가위바위보"
   ]
  },
  {
   "cell_type": "code",
   "execution_count": 2,
   "id": "a64e17dd-19a9-4795-b09f-1512e5b92269",
   "metadata": {},
   "outputs": [
    {
     "name": "stdout",
     "output_type": "stream",
     "text": [
      "0\n",
      "1\n",
      "2\n",
      "3\n",
      "4\n",
      "5\n",
      "6\n",
      "7\n",
      "8\n",
      "9\n"
     ]
    }
   ],
   "source": [
    "for i in range(10):\n",
    "    print(i)"
   ]
  },
  {
   "cell_type": "code",
   "execution_count": 7,
   "id": "6fe2f05b-1c06-4860-82dc-fb35c768f55a",
   "metadata": {},
   "outputs": [
    {
     "name": "stdout",
     "output_type": "stream",
     "text": [
      "1\n",
      "2\n",
      "3\n"
     ]
    }
   ],
   "source": [
    "j = 0 # 초기화\n",
    "while j < 3: # 0, 1, 2, False\n",
    "    j += 1\n",
    "    print(j)  # 0, 1, 2\n",
    "    \n",
    "    \n",
    "    #j += 1 # 변화 1, 2, 3\n",
    "    \n",
    "    # 둘은 동일한 코드이고 표현법만 다른 것!\n",
    "    # loop가 언제 멈추고 변수값이 무엇인지 중요!"
   ]
  },
  {
   "cell_type": "code",
   "execution_count": 9,
   "id": "1f6f2b30-316b-473b-8c2a-8754c3339459",
   "metadata": {},
   "outputs": [
    {
     "data": {
      "text/plain": [
       "3"
      ]
     },
     "execution_count": 9,
     "metadata": {},
     "output_type": "execute_result"
    }
   ],
   "source": [
    "j"
   ]
  },
  {
   "cell_type": "code",
   "execution_count": 10,
   "id": "76dd1c66-74cd-4fbc-a6e8-c28046c832dd",
   "metadata": {},
   "outputs": [
    {
     "name": "stdout",
     "output_type": "stream",
     "text": [
      "a\n",
      "b\n",
      "c\n",
      "d\n"
     ]
    }
   ],
   "source": [
    "abcd = ['a', 'b', 'c', 'd']\n",
    "for ch in abcd:\n",
    "    print(ch)"
   ]
  },
  {
   "cell_type": "code",
   "execution_count": 12,
   "id": "2606c153-fb88-4348-96ac-17bc967cac13",
   "metadata": {},
   "outputs": [
    {
     "name": "stdout",
     "output_type": "stream",
     "text": [
      "a\n",
      "b\n",
      "c\n",
      "d\n"
     ]
    }
   ],
   "source": [
    "i = 0\n",
    "while i < len(abcd):\n",
    "    print(abcd[i])\n",
    "    i += 1"
   ]
  },
  {
   "cell_type": "markdown",
   "id": "39f25c08-f295-46a3-b0cf-7bae16e2e16c",
   "metadata": {},
   "source": [
    "### 반복문 제어\n",
    "- 되도록 사용하지 않는다. 의도치 않은 오류를 위해\n",
    "\n",
    "- break: 논리적으로 반복을 종료시킬 때\n",
    "- else: 어떤 조건이 완전히 끝났을 때 한 번 더 실행함. break 시에는 실행 안 됨. ==> 어느 지점에서 종료되었는지 확인할 때\n",
    "- continue: 특정 조건을 건너뛰고 다음 조건 실행"
   ]
  },
  {
   "cell_type": "code",
   "execution_count": 19,
   "id": "b82c1b71-4997-42b3-b3a4-954da2d4ed4a",
   "metadata": {},
   "outputs": [
    {
     "name": "stdout",
     "output_type": "stream",
     "text": [
      "0\n",
      "1\n",
      "2\n",
      "3\n",
      "4\n",
      "5\n",
      "6\n"
     ]
    }
   ],
   "source": [
    "j = 0 # 초기화\n",
    "while j < 10: \n",
    "    print(j)\n",
    "    if j == 6: break\n",
    "    j += 1\n",
    "else:\n",
    "    print('ended')"
   ]
  },
  {
   "cell_type": "code",
   "execution_count": 20,
   "id": "14272740-9ba0-4ff5-a449-dcf49a620abc",
   "metadata": {},
   "outputs": [
    {
     "name": "stdout",
     "output_type": "stream",
     "text": [
      "0\n",
      "1\n",
      "2\n",
      "3\n",
      "4\n",
      "5\n"
     ]
    }
   ],
   "source": [
    "for i in range(10):\n",
    "    if i == 6: break\n",
    "    print(i) # 6 출력 안 됨\n",
    "else:\n",
    "    print('ended')"
   ]
  },
  {
   "cell_type": "code",
   "execution_count": 18,
   "id": "f08ac6bb-c572-45ee-acf2-84efb338b803",
   "metadata": {},
   "outputs": [
    {
     "data": {
      "text/plain": [
       "6"
      ]
     },
     "execution_count": 18,
     "metadata": {},
     "output_type": "execute_result"
    }
   ],
   "source": [
    "i"
   ]
  },
  {
   "cell_type": "markdown",
   "id": "8edc3f4f-7f3c-4c0a-9290-1f88fa0fd35e",
   "metadata": {},
   "source": [
    "### gugudan\n",
    "변수는 입력을 받아서 사용함.\n",
    "- 1. n단 출력\n",
    "- 2. 1 - n 단까지 출력\n",
    "    - n > 10 경우 대비\n",
    "- 3. n,m 모두 입력받아서 출력\n",
    "- 4. 프로그램으로 만듦.\n",
    "    - 메뉴: 1) n 2) 1 - n 3) n - m단"
   ]
  },
  {
   "cell_type": "code",
   "execution_count": 62,
   "id": "acd72b13-a4a5-4806-8190-361975173837",
   "metadata": {},
   "outputs": [
    {
     "name": "stdin",
     "output_type": "stream",
     "text": [
      "몇 단을 출력할까요? 5\n"
     ]
    },
    {
     "name": "stdout",
     "output_type": "stream",
     "text": [
      "----5단-----\n",
      "5 * 1 = 5\n",
      "5 * 2 = 10\n",
      "5 * 3 = 15\n",
      "5 * 4 = 20\n",
      "5 * 5 = 25\n",
      "5 * 6 = 30\n",
      "5 * 7 = 35\n",
      "5 * 8 = 40\n",
      "5 * 9 = 45\n"
     ]
    }
   ],
   "source": [
    "# 1번)\n",
    "i = int(input('몇 단을 출력할까요?'))\n",
    "print(f'----{i}단-----')\n",
    "for j in range(1, 10):\n",
    "    print(f'{i} * {j} = {i*j}')"
   ]
  },
  {
   "cell_type": "code",
   "execution_count": 1,
   "id": "7140550b-e580-4e75-acbe-78eee77581ea",
   "metadata": {},
   "outputs": [
    {
     "name": "stdin",
     "output_type": "stream",
     "text": [
      "몇 단까지 출력할까요? 5\n"
     ]
    },
    {
     "name": "stdout",
     "output_type": "stream",
     "text": [
      "\n",
      "=== 1단 ===\n",
      "1 * 1 = 1\n",
      "1 * 2 = 2\n",
      "1 * 3 = 3\n",
      "1 * 4 = 4\n",
      "1 * 5 = 5\n",
      "1 * 6 = 6\n",
      "1 * 7 = 7\n",
      "1 * 8 = 8\n",
      "1 * 9 = 9\n",
      "\n",
      "\n",
      "=== 2단 ===\n",
      "2 * 1 = 2\n",
      "2 * 2 = 4\n",
      "2 * 3 = 6\n",
      "2 * 4 = 8\n",
      "2 * 5 = 10\n",
      "2 * 6 = 12\n",
      "2 * 7 = 14\n",
      "2 * 8 = 16\n",
      "2 * 9 = 18\n",
      "\n",
      "\n",
      "=== 3단 ===\n",
      "3 * 1 = 3\n",
      "3 * 2 = 6\n",
      "3 * 3 = 9\n",
      "3 * 4 = 12\n",
      "3 * 5 = 15\n",
      "3 * 6 = 18\n",
      "3 * 7 = 21\n",
      "3 * 8 = 24\n",
      "3 * 9 = 27\n",
      "\n",
      "\n",
      "=== 4단 ===\n",
      "4 * 1 = 4\n",
      "4 * 2 = 8\n",
      "4 * 3 = 12\n",
      "4 * 4 = 16\n",
      "4 * 5 = 20\n",
      "4 * 6 = 24\n",
      "4 * 7 = 28\n",
      "4 * 8 = 32\n",
      "4 * 9 = 36\n",
      "\n",
      "\n",
      "=== 5단 ===\n",
      "5 * 1 = 5\n",
      "5 * 2 = 10\n",
      "5 * 3 = 15\n",
      "5 * 4 = 20\n",
      "5 * 5 = 25\n",
      "5 * 6 = 30\n",
      "5 * 7 = 35\n",
      "5 * 8 = 40\n",
      "5 * 9 = 45\n",
      "\n"
     ]
    }
   ],
   "source": [
    "# 2번)\n",
    "i = int(input('몇 단까지 출력할까요?'))\n",
    "for i in range(1,i + 1): \n",
    "    print(f'\\n=== {i}단 ===')\n",
    "    for j in range(1,10):\n",
    "        print(f'{i} * {j} = {i*j}')\n",
    "        if(j == 9):\n",
    "            print()\n",
    "           "
   ]
  },
  {
   "cell_type": "code",
   "execution_count": 33,
   "id": "dac5baff-538f-4c38-a5a9-c27e9957cc59",
   "metadata": {},
   "outputs": [
    {
     "ename": "SyntaxError",
     "evalue": "invalid syntax (Temp/ipykernel_16536/2500489951.py, line 25)",
     "output_type": "error",
     "traceback": [
      "\u001b[1;36m  File \u001b[1;32m\"C:\\Users\\SJLEE\\AppData\\Local\\Temp/ipykernel_16536/2500489951.py\"\u001b[1;36m, line \u001b[1;32m25\u001b[0m\n\u001b[1;33m    else:\u001b[0m\n\u001b[1;37m    ^\u001b[0m\n\u001b[1;31mSyntaxError\u001b[0m\u001b[1;31m:\u001b[0m invalid syntax\n"
     ]
    }
   ],
   "source": [
    "### while True:\n",
    "print( '''\n",
    "     ------- 메뉴 -------\n",
    "    \n",
    "    1) n\n",
    "    2) 1-n 까지\n",
    "    3) n-m 까지\n",
    "    q) 종료\n",
    "    \n",
    "    ''')\n",
    "    \n",
    "menu = input('메뉴를 선택하세요:')\n",
    "if menu == '1':\n",
    "        start = int(input(\"몇 단부터 출력할까요?\"))\n",
    "        end = start\n",
    "elif menu == '2':\n",
    "        start = 1\n",
    "        end = int(input(\"몇 단까지 출력할까요?\"))\n",
    "elif menu == '3':\n",
    "        start = int(input(\"몇 단부터 출력할까요?\"))\n",
    "        end = int(input(\"몇 단까지 출력할까요?\"))\n",
    "elif menu == 'q':\n",
    "        print('종료합니다.')\n",
    "break\n",
    "else:\n",
    "        print('\\n다시 입력해주세요.')\n",
    "        print('------------------------------------------------')\n",
    "        continue\n",
    "        \n",
    "        \n",
    "if start > end:\n",
    "        print('\\n시작 단이 끝 단보다 큽니다.', end='\\n\\n')\n",
    "        print('------------------------------------------------')\n",
    "        continue\n",
    "        \n",
    "if start < 1:\n",
    "        print('\\n시작 단이 1보다 작습니다.', end='\\n\\n')\n",
    "        print('------------------------------------------------')\n",
    "        continue\n",
    "        \n",
    "if end > 9:\n",
    "    if menu == '1':\n",
    "            print('\\n입력하신 단이 9보다 큽니다.', end='\\n\\n')\n",
    "            print('------------------------------------------------')\n",
    "            continue\n",
    "    else:\n",
    "            print('\\n끝 단이 9보다 큽니다.', end='\\n\\n')\n",
    "            print('------------------------------------------------')\n",
    "            continue\n",
    "    \n",
    "for i in range(start, end + 1):\n",
    "        print(f'\\n=== {i}단 ===')\n",
    "        for j in range(1, 10):\n",
    "            print(f'{i} x {j} = {i * j}')\n",
    "        print()\n",
    "        break"
   ]
  },
  {
   "cell_type": "markdown",
   "id": "df8d4ec0-8a56-4329-897a-79e5b822b9a8",
   "metadata": {},
   "source": [
    "### NLTK corpus\n"
   ]
  },
  {
   "cell_type": "code",
   "execution_count": null,
   "id": "9e4dcc94-1bac-4392-9057-db4312180090",
   "metadata": {},
   "outputs": [],
   "source": [
    "# text 1- 9"
   ]
  },
  {
   "cell_type": "code",
   "execution_count": 2,
   "id": "bb77dc8e-341a-4fe7-a0b8-b5660485d319",
   "metadata": {},
   "outputs": [
    {
     "name": "stdout",
     "output_type": "stream",
     "text": [
      "*** Introductory Examples for the NLTK Book ***\n",
      "Loading text1, ..., text9 and sent1, ..., sent9\n",
      "Type the name of the text or sentence to view it.\n",
      "Type: 'texts()' or 'sents()' to list the materials.\n",
      "text1: Moby Dick by Herman Melville 1851\n",
      "text2: Sense and Sensibility by Jane Austen 1811\n",
      "text3: The Book of Genesis\n",
      "text4: Inaugural Address Corpus\n",
      "text5: Chat Corpus\n",
      "text6: Monty Python and the Holy Grail\n",
      "text7: Wall Street Journal\n",
      "text8: Personals Corpus\n",
      "text9: The Man Who Was Thursday by G . K . Chesterton 1908\n"
     ]
    },
    {
     "data": {
      "text/plain": [
       "True"
      ]
     },
     "execution_count": 2,
     "metadata": {},
     "output_type": "execute_result"
    }
   ],
   "source": [
    "import nltk\n",
    "from nltk.book import * \n",
    "nltk.download('book',quiet =True) "
   ]
  },
  {
   "cell_type": "code",
   "execution_count": 72,
   "id": "290eff94-c554-4281-b6c0-53c02cb0c6e0",
   "metadata": {},
   "outputs": [],
   "source": [
    "# text 1- 9\n",
    " # text1 vs. 'text1'\n",
    " # text1 - 9 string 가져오기\n",
    " # string -> fx"
   ]
  },
  {
   "cell_type": "code",
   "execution_count": 4,
   "id": "37a3d478-f87a-44c5-8077-8011cbcc4b23",
   "metadata": {},
   "outputs": [],
   "source": [
    "texts = [text1, text2, ..., text9]"
   ]
  },
  {
   "cell_type": "code",
   "execution_count": 5,
   "id": "6a2bf7c6-3c06-434e-b922-617a15711e4b",
   "metadata": {},
   "outputs": [
    {
     "data": {
      "text/plain": [
       "(<Text: Moby Dick by Herman Melville 1851>, 'text1')"
      ]
     },
     "execution_count": 5,
     "metadata": {},
     "output_type": "execute_result"
    }
   ],
   "source": [
    "text1, 'text1'"
   ]
  },
  {
   "cell_type": "code",
   "execution_count": 15,
   "id": "724bbad4-d5ee-46c2-af80-2e0041a9ff95",
   "metadata": {},
   "outputs": [
    {
     "ename": "SyntaxError",
     "evalue": "invalid syntax (Temp/ipykernel_3636/4152418472.py, line 2)",
     "output_type": "error",
     "traceback": [
      "\u001b[1;36m  File \u001b[1;32m\"C:\\Users\\SJLEE\\AppData\\Local\\Temp/ipykernel_3636/4152418472.py\"\u001b[1;36m, line \u001b[1;32m2\u001b[0m\n\u001b[1;33m    texts = [getattr{nltk.book,f'text(i)'} for i in range(1, 10)]\u001b[0m\n\u001b[1;37m                    ^\u001b[0m\n\u001b[1;31mSyntaxError\u001b[0m\u001b[1;31m:\u001b[0m invalid syntax\n"
     ]
    }
   ],
   "source": [
    "#1.\n",
    "texts = [getattr{nltk.book,f'text(i)'} for i in range(1, 10)]\n",
    "texts"
   ]
  },
  {
   "cell_type": "markdown",
   "id": "61592694-ddf2-4a0f-a363-29cc93da9286",
   "metadata": {},
   "source": [
    "#### NLTK corpus\n",
    "- 코퍼스 + 테마\n",
    "- 종류\n",
    "    - brown\n",
    "    - gutenberg\n",
    "    - inaugural\n",
    "- methods\n",
    "\n",
    "    "
   ]
  },
  {
   "cell_type": "code",
   "execution_count": 16,
   "id": "1d3279bc-acda-412f-b6d3-b66f4d3499ba",
   "metadata": {},
   "outputs": [
    {
     "name": "stderr",
     "output_type": "stream",
     "text": [
      "[nltk_data] Downloading package brown to\n",
      "[nltk_data]     C:\\Users\\SJLEE\\AppData\\Roaming\\nltk_data...\n",
      "[nltk_data]   Package brown is already up-to-date!\n",
      "[nltk_data] Downloading package gutenberg to\n",
      "[nltk_data]     C:\\Users\\SJLEE\\AppData\\Roaming\\nltk_data...\n",
      "[nltk_data]   Package gutenberg is already up-to-date!\n",
      "[nltk_data] Downloading package inaugural to\n",
      "[nltk_data]     C:\\Users\\SJLEE\\AppData\\Roaming\\nltk_data...\n",
      "[nltk_data]   Package inaugural is already up-to-date!\n"
     ]
    },
    {
     "data": {
      "text/plain": [
       "True"
      ]
     },
     "execution_count": 16,
     "metadata": {},
     "output_type": "execute_result"
    }
   ],
   "source": [
    "from nltk.corpus import gutenberg\n",
    "nltk.download(['brown', 'gutenberg', 'inaugural'])"
   ]
  },
  {
   "cell_type": "code",
   "execution_count": 17,
   "id": "8ac95667-e2f1-447a-b1b3-070cc658f762",
   "metadata": {},
   "outputs": [
    {
     "data": {
      "text/plain": [
       "<PlaintextCorpusReader in 'C:\\\\Users\\\\SJLEE\\\\AppData\\\\Roaming\\\\nltk_data\\\\corpora\\\\gutenberg'>"
      ]
     },
     "execution_count": 17,
     "metadata": {},
     "output_type": "execute_result"
    }
   ],
   "source": [
    "gutenberg # = nltk.corpus gutenberg"
   ]
  },
  {
   "cell_type": "code",
   "execution_count": 18,
   "id": "9633362e-a605-4d05-a88f-d75530b21c1a",
   "metadata": {},
   "outputs": [
    {
     "data": {
      "text/plain": [
       "['austen-emma.txt',\n",
       " 'austen-persuasion.txt',\n",
       " 'austen-sense.txt',\n",
       " 'bible-kjv.txt',\n",
       " 'blake-poems.txt',\n",
       " 'bryant-stories.txt',\n",
       " 'burgess-busterbrown.txt',\n",
       " 'carroll-alice.txt',\n",
       " 'chesterton-ball.txt',\n",
       " 'chesterton-brown.txt',\n",
       " 'chesterton-thursday.txt',\n",
       " 'edgeworth-parents.txt',\n",
       " 'melville-moby_dick.txt',\n",
       " 'milton-paradise.txt',\n",
       " 'shakespeare-caesar.txt',\n",
       " 'shakespeare-hamlet.txt',\n",
       " 'shakespeare-macbeth.txt',\n",
       " 'whitman-leaves.txt']"
      ]
     },
     "execution_count": 18,
     "metadata": {},
     "output_type": "execute_result"
    }
   ],
   "source": [
    "gutenberg.fileids()"
   ]
  },
  {
   "cell_type": "code",
   "execution_count": 19,
   "id": "e2d7d050-da07-4f7b-bec2-42d1dedff449",
   "metadata": {},
   "outputs": [
    {
     "data": {
      "text/plain": [
       "['[', 'Alice', \"'\", 's', 'Adventures', 'in', ...]"
      ]
     },
     "execution_count": 19,
     "metadata": {},
     "output_type": "execute_result"
    }
   ],
   "source": [
    "gutenberg.words(fileids = ['carroll-alice.txt','austen-emma.txt' ])"
   ]
  },
  {
   "cell_type": "markdown",
   "id": "ece8b788-a12a-4710-a30f-08c467e71361",
   "metadata": {},
   "source": [
    "#### 각 파일마다 word, character, sents 개수 출력하기\n",
    "ex) austen-emma | 글자수 = 14개, 단어수=15개, 문장수=33개"
   ]
  },
  {
   "cell_type": "code",
   "execution_count": 22,
   "id": "3ecbdc98-f2bf-49a6-9d35-dc7588be3930",
   "metadata": {},
   "outputs": [
    {
     "name": "stdout",
     "output_type": "stream",
     "text": [
      "austen-emma1924277752887071\n",
      "austen-persuasion981717752887071\n",
      "austen-sense1415767752887071\n",
      "bible-kjv10106547752887071\n",
      "blake-poems83547752887071\n",
      "bryant-stories555637752887071\n",
      "burgess-busterbrown189637752887071\n",
      "carroll-alice341107752887071\n",
      "chesterton-ball969967752887071\n",
      "chesterton-brown860637752887071\n",
      "chesterton-thursday692137752887071\n",
      "edgeworth-parents2106637752887071\n",
      "melville-moby_dick2608197752887071\n",
      "milton-paradise968257752887071\n",
      "shakespeare-caesar258337752887071\n",
      "shakespeare-hamlet373607752887071\n",
      "shakespeare-macbeth231407752887071\n",
      "whitman-leaves1548837752887071\n"
     ]
    }
   ],
   "source": [
    "for file in gutenberg.fileids():\n",
    "    words = gutenberg.words(file)\n",
    "    char = gutenberg.raw(file)\n",
    "    sent = gutenberg.sents(file)  \n",
    "    print('{}{}{}{}'.format(file[:-4], len(words), len(sents), len(characters)))"
   ]
  },
  {
   "cell_type": "markdown",
   "id": "c2ba1722-7d93-4783-abd8-f8de7432273e",
   "metadata": {},
   "source": [
    "### Gutenberg\n",
    "- 1. shakespeare-caesar의 중복된 단어를 거르고 각 단어의 길이를 출력하시오.\n",
    "- 2. chesterton-thursday에서 길이가 4자 이하인 알파벳 중 ie를 포함하는 단어를 소문자로 출력하고, 개수를 세어라.\n",
    "- 3. bryant-stories에서 ch로 끝나는 단어를 출력하는데, 중복 없이, 첫 글자(모두 소문자)와 끝 ch만 남기고 가운데 글자들은 모두 - 로 가려라. ex) much -> m-ch"
   ]
  },
  {
   "cell_type": "code",
   "execution_count": 23,
   "id": "f2cb0a80-c63a-408f-bc86-27a46c88a67f",
   "metadata": {},
   "outputs": [
    {
     "data": {
      "text/plain": [
       "[1, 8, 7, 4, 4, 6, 7, 6, 8, 8]"
      ]
     },
     "execution_count": 23,
     "metadata": {},
     "output_type": "execute_result"
    }
   ],
   "source": [
    "#1번)\n",
    "ex = [len(word) for word in set(gutenberg.words(fileids='shakespeare-caesar.txt'))][:10]\n",
    "ex[:10]"
   ]
  },
  {
   "cell_type": "code",
   "execution_count": 24,
   "id": "df0a351a-1325-44fe-a6d1-4d203f2179ac",
   "metadata": {},
   "outputs": [
    {
     "name": "stdout",
     "output_type": "stream",
     "text": [
      "['foie', 'died', 'pier', 'died', 'lies', 'died', 'lie', 'tie', 'tie', 'die', 'tied', 'pie', 'die', 'die', 'die', 'die', 'died', 'died', 'die', 'die', 'die', 'erie', 'view', 'die', 'pier', 'dies', 'die', 'pier', 'pier', 'die', 'pier', 'tied', 'die', 'view', 'tie', 'lie', 'lie']\n",
      "37\n"
     ]
    }
   ],
   "source": [
    "#2번)\n",
    "ie = [word.lower() for word in gutenberg.words(fileids='chesterton-thursday.txt') if word.isalpha() and len(word) <= 4 and 'ie' in word]\n",
    "\n",
    "print(ie)\n",
    "print(len(ie))\n"
   ]
  },
  {
   "cell_type": "code",
   "execution_count": 27,
   "id": "8387f9cd-9907-4850-84e8-4be5919a4e8c",
   "metadata": {},
   "outputs": [
    {
     "data": {
      "text/plain": [
       "[('Tanach', 't---ch'),\n",
       " ('beseech', 'b----ch'),\n",
       " ('Shophach', 's-----ch'),\n",
       " ('dispatch', 'd-----ch'),\n",
       " ('paunch', 'p---ch')]"
      ]
     },
     "execution_count": 27,
     "metadata": {},
     "output_type": "execute_result"
    }
   ],
   "source": [
    "#3번)\n",
    "[(word, word[0].lower() + '-' * (len(word) - 3) + word[-2:]) for word in set(gutenberg.words()) if word.endswith('ch')][:5]"
   ]
  },
  {
   "cell_type": "markdown",
   "id": "33bb1dfb-73da-450b-873d-2d3477d1cd26",
   "metadata": {},
   "source": [
    "### Brown\n",
    "- categories()"
   ]
  },
  {
   "cell_type": "code",
   "execution_count": 127,
   "id": "4669b7ad-9181-4c49-a117-bf33420db033",
   "metadata": {},
   "outputs": [],
   "source": [
    "brown = nltk.corpus.brown"
   ]
  },
  {
   "cell_type": "code",
   "execution_count": 128,
   "id": "336a6fe4-bb81-41e1-8866-82102cdd20ea",
   "metadata": {},
   "outputs": [
    {
     "data": {
      "text/plain": [
       "['adventure',\n",
       " 'belles_lettres',\n",
       " 'editorial',\n",
       " 'fiction',\n",
       " 'government',\n",
       " 'hobbies',\n",
       " 'humor',\n",
       " 'learned',\n",
       " 'lore',\n",
       " 'mystery',\n",
       " 'news',\n",
       " 'religion',\n",
       " 'reviews',\n",
       " 'romance',\n",
       " 'science_fiction']"
      ]
     },
     "execution_count": 128,
     "metadata": {},
     "output_type": "execute_result"
    }
   ],
   "source": [
    "brown.categories()"
   ]
  },
  {
   "cell_type": "code",
   "execution_count": 131,
   "id": "20e2e52c-7d0b-4c8f-8c09-62021871e900",
   "metadata": {},
   "outputs": [],
   "source": [
    "fdist = nltk.FreqDist([w.lower() for w in brown.words(categories='adventure')])"
   ]
  },
  {
   "cell_type": "code",
   "execution_count": 132,
   "id": "cd11d437-2065-4209-878d-f55f2c86337e",
   "metadata": {},
   "outputs": [
    {
     "data": {
      "text/plain": [
       "83"
      ]
     },
     "execution_count": 132,
     "metadata": {},
     "output_type": "execute_result"
    }
   ],
   "source": [
    "fdist['men']"
   ]
  },
  {
   "cell_type": "code",
   "execution_count": 133,
   "id": "c08de910-f86a-4198-bb08-931f84cd1987",
   "metadata": {},
   "outputs": [
    {
     "name": "stdout",
     "output_type": "stream",
     "text": [
      "can 48\n",
      "could 154\n",
      "will 51\n",
      "would 194\n",
      "may 7\n",
      "might 59\n"
     ]
    }
   ],
   "source": [
    "# modal verbs\n",
    "modals = ['can', 'could', 'will', 'would', 'may', 'might']\n",
    "\n",
    "for verb in modals:\n",
    "    print(verb, fdist[verb])"
   ]
  },
  {
   "cell_type": "markdown",
   "id": "799bb2f8-4a8a-40c7-a279-f2a656df9927",
   "metadata": {},
   "source": [
    "#### conditional frequency distribution\n",
    "- 조건에 따른 fdist"
   ]
  },
  {
   "cell_type": "code",
   "execution_count": null,
   "id": "5b35548a-626c-40bb-b480-287ddfc8010f",
   "metadata": {},
   "outputs": [],
   "source": [
    "cfd = nltk.ConditionalFreqDist(\n",
    "    # 각 장르에 따른 frequency distribution을 만든다.\n",
    "    (genre,word.lower())\n",
    "    for genre in brown.categories()\n",
    "    for word in brown.words."
   ]
  }
 ],
 "metadata": {
  "kernelspec": {
   "display_name": "Python 3 (ipykernel)",
   "language": "python",
   "name": "python3"
  },
  "language_info": {
   "codemirror_mode": {
    "name": "ipython",
    "version": 3
   },
   "file_extension": ".py",
   "mimetype": "text/x-python",
   "name": "python",
   "nbconvert_exporter": "python",
   "pygments_lexer": "ipython3",
   "version": "3.9.7"
  }
 },
 "nbformat": 4,
 "nbformat_minor": 5
}
