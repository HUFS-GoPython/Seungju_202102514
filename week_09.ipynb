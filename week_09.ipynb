{
 "cells": [
  {
   "cell_type": "markdown",
   "id": "49d25232-b071-4b98-b753-2ee3434c32eb",
   "metadata": {},
   "source": [
    "### **Dictionary**\n",
    "- 영어사전\n",
    "    - 단어: 뜻 -> 키: 값\n",
    "    - 순서가 없음 -> 인덱싱 불가능!\n",
    "    - \"키로 값을 찾는 것\"\n",
    "        - 키는 중복되지 않는 고유한 값\n",
    "    - 가변: 수정, 삭제, 추가 모두 가능\n",
    "    - 타입: dict\n",
    "    - 형변환 할 때는 \"dict()\"\n",
    "    - 중괄호 {} 사용\n",
    "    - 콤마로 구분\n",
    "    - 값에는 다양한 자료구조가 올 수 있음\n",
    "        - a: 1, a: [1, 2, 3, 4]"
   ]
  },
  {
   "cell_type": "code",
   "execution_count": 7,
   "id": "dd0b7ff9-2c5d-47ed-892f-42c67ae0ddfd",
   "metadata": {},
   "outputs": [
    {
     "data": {
      "text/plain": [
       "1"
      ]
     },
     "execution_count": 7,
     "metadata": {},
     "output_type": "execute_result"
    }
   ],
   "source": [
    "a = [1, 2, 3]\n",
    "a[0] # 리스트는 인덱싱이 되지만 딕셔너리는 순서가 없어서 불가능"
   ]
  },
  {
   "cell_type": "code",
   "execution_count": 8,
   "id": "7641233e-735d-47a1-936f-125046d9d78d",
   "metadata": {},
   "outputs": [
    {
     "data": {
      "text/plain": [
       "set"
      ]
     },
     "execution_count": 8,
     "metadata": {},
     "output_type": "execute_result"
    }
   ],
   "source": [
    "empty = dict()\n",
    "empty = {} # 선언은 두가지 방식 가능\n",
    "\n",
    "empty = {} # dict type\n",
    "empty = set() # set도 {}를 쓰기 때문에 헷갈리 수 있으나 set 선언은 이렇게!\n",
    "type(empty)"
   ]
  },
  {
   "cell_type": "code",
   "execution_count": 9,
   "id": "9943be11-9540-4a61-89ee-8126d18ebaa9",
   "metadata": {},
   "outputs": [
    {
     "data": {
      "text/plain": [
       "{1: 'apple', 2: 'banana', 3: 'kiwi'}"
      ]
     },
     "execution_count": 9,
     "metadata": {},
     "output_type": "execute_result"
    }
   ],
   "source": [
    "a = {1, 2, 3} # set\n",
    "a = {1:'apple', 2:'banana', 3:'kiwi'} # dict\n",
    "a"
   ]
  },
  {
   "cell_type": "code",
   "execution_count": 11,
   "id": "78b404e6-f849-4c23-bed5-9079b8e4ff5b",
   "metadata": {},
   "outputs": [],
   "source": [
    "b = {'':'', '':'', '':''} \n",
    "b = dict(apple= 'a', banana='b', kiwi='c') \n",
    "# 따옴표 쓰기 귀찮을 때는 앞에 dict라고 하면 키 값은 따옴표 안 써도 된다."
   ]
  },
  {
   "cell_type": "markdown",
   "id": "c3450956-8f58-459e-aafe-d128f9602ad5",
   "metadata": {},
   "source": [
    "#### ***Quiz. 출석부로 딕셔너리 만들기***\n",
    "\n",
    "- 이름, 학번, 학과\n",
    "- james 202201 경제학과\n",
    "- laura 202203 스페인어과\n",
    "- louis 202202 컴공과"
   ]
  },
  {
   "cell_type": "code",
   "execution_count": 17,
   "id": "51e33215-1a8a-4639-8ab3-114e07a37bd5",
   "metadata": {},
   "outputs": [
    {
     "data": {
      "text/plain": [
       "{202201: ['james', '경제학과'],\n",
       " 202203: ['laura', '스페인어과'],\n",
       " 202202: ['louis', '컴공과']}"
      ]
     },
     "execution_count": 17,
     "metadata": {},
     "output_type": "execute_result"
    }
   ],
   "source": [
    "attendance = {202201:['james', '경제학과'], 202203: ['laura', '스페인어과'], 202202: ['louis', '컴공과']}\n",
    "attendance\n",
    "# 이름과 학과는 중복될 수도 있기 떄문에 고유한 값인 학번을 키로 한다."
   ]
  },
  {
   "cell_type": "markdown",
   "id": "831f288b-7b08-4337-aab8-95dcf061ab7f",
   "metadata": {},
   "source": [
    "--------------------------------"
   ]
  },
  {
   "cell_type": "markdown",
   "id": "e9b91bab-050a-4890-b54f-c5c84082ea46",
   "metadata": {},
   "source": [
    "### **형 변환**"
   ]
  },
  {
   "cell_type": "code",
   "execution_count": 18,
   "id": "93146562-04cc-45e3-9a17-aa1dba894e72",
   "metadata": {},
   "outputs": [
    {
     "data": {
      "text/plain": [
       "{1: 2, 2: 3, 3: 4}"
      ]
     },
     "execution_count": 18,
     "metadata": {},
     "output_type": "execute_result"
    }
   ],
   "source": [
    "ex1 = [[1, 2], [2, 3], [3, 4]]\n",
    "dict(ex1)"
   ]
  },
  {
   "cell_type": "code",
   "execution_count": 20,
   "id": "122d5361-e345-4885-994a-ca1879ac6428",
   "metadata": {},
   "outputs": [
    {
     "data": {
      "text/plain": [
       "{1: 3, 2: 3}"
      ]
     },
     "execution_count": 20,
     "metadata": {},
     "output_type": "execute_result"
    }
   ],
   "source": [
    "ex2 = [(1, 2), (2, 3), (1, 3)]\n",
    "dict(ex2) # 키는 중복되지 않기 떄문에 키가 똑같으면 마지막 것만 출력"
   ]
  },
  {
   "cell_type": "code",
   "execution_count": 1,
   "id": "df13f3f2-6cde-4b98-9251-0ac194e15a4d",
   "metadata": {},
   "outputs": [
    {
     "data": {
      "text/plain": [
       "{'a': 'b', 'b': 'c', 'c': 'd'}"
      ]
     },
     "execution_count": 1,
     "metadata": {},
     "output_type": "execute_result"
    }
   ],
   "source": [
    "ex3 = ['ab', 'bc', 'cd']\n",
    "dict(ex3) # 문자열도 되긴 되는데 두자리까지만!"
   ]
  },
  {
   "cell_type": "markdown",
   "id": "873e14fb-7a11-4dec-9250-cd7be43caf70",
   "metadata": {},
   "source": [
    "### **항목 조회 & 변경**"
   ]
  },
  {
   "cell_type": "code",
   "execution_count": 4,
   "id": "d113c2ec-d78c-40c3-bbf3-1a38f4c39db7",
   "metadata": {},
   "outputs": [],
   "source": [
    "pythons = { # 성: 이름\n",
    "    'Chapman': 'Graham',\n",
    "    'Cleese': 'John',\n",
    "    'Idle': 'Eric',\n",
    "    'Jones': 'Terry',\n",
    "    'Palin': 'Michael'\n",
    "}"
   ]
  },
  {
   "cell_type": "code",
   "execution_count": 5,
   "id": "3e03f450-dc2a-4657-bd41-c354296433b5",
   "metadata": {},
   "outputs": [
    {
     "data": {
      "text/plain": [
       "'Eric'"
      ]
     },
     "execution_count": 5,
     "metadata": {},
     "output_type": "execute_result"
    }
   ],
   "source": [
    "pythons['Idle'] # 찾기"
   ]
  },
  {
   "cell_type": "code",
   "execution_count": 7,
   "id": "224fa3d0-3a54-44bd-89c8-e3243211be50",
   "metadata": {},
   "outputs": [
    {
     "ename": "KeyError",
     "evalue": "'Hwa'",
     "output_type": "error",
     "traceback": [
      "\u001b[1;31m---------------------------------------------------------------------------\u001b[0m",
      "\u001b[1;31mKeyError\u001b[0m                                  Traceback (most recent call last)",
      "\u001b[1;32m~\\AppData\\Local\\Temp/ipykernel_5840/3475104123.py\u001b[0m in \u001b[0;36m<module>\u001b[1;34m\u001b[0m\n\u001b[1;32m----> 1\u001b[1;33m \u001b[0mpythons\u001b[0m\u001b[1;33m[\u001b[0m\u001b[1;34m'Hwa'\u001b[0m\u001b[1;33m]\u001b[0m \u001b[1;31m# 없는 key 입력하면 에러 발생\u001b[0m\u001b[1;33m\u001b[0m\u001b[1;33m\u001b[0m\u001b[0m\n\u001b[0m",
      "\u001b[1;31mKeyError\u001b[0m: 'Hwa'"
     ]
    }
   ],
   "source": [
    "pythons['Hwa'] # 없는 key 입력하면 에러 발생"
   ]
  },
  {
   "cell_type": "code",
   "execution_count": 121,
   "id": "f68601dc-9de9-4ab8-8beb-27541798f4c5",
   "metadata": {},
   "outputs": [],
   "source": [
    "pythons['Hwa'] = 'Chloe' # 추가"
   ]
  },
  {
   "cell_type": "code",
   "execution_count": 122,
   "id": "8967ab37-71b6-46b3-b8ec-b5dc8a31d5a6",
   "metadata": {},
   "outputs": [
    {
     "data": {
      "text/plain": [
       "{'Chapman': 'Graham',\n",
       " 'Cleese': 'John',\n",
       " 'Idle': 'James',\n",
       " 'Jones': 'Terry',\n",
       " 'Palin': 'Michael',\n",
       " 'Marx': 'Groucho',\n",
       " 'Howard': 'Moe',\n",
       " 'Hwa': 'Chloe'}"
      ]
     },
     "execution_count": 122,
     "metadata": {},
     "output_type": "execute_result"
    }
   ],
   "source": [
    "pythons['Idle'] = 'James' # 변경\n",
    "pythons"
   ]
  },
  {
   "cell_type": "markdown",
   "id": "025ed322-de87-4690-9717-d9697b74fcbf",
   "metadata": {},
   "source": [
    "##### **예외 확인**"
   ]
  },
  {
   "cell_type": "code",
   "execution_count": 22,
   "id": "4f709452-5553-4e4b-8011-a6032f5f705c",
   "metadata": {},
   "outputs": [
    {
     "data": {
      "text/plain": [
       "True"
      ]
     },
     "execution_count": 22,
     "metadata": {},
     "output_type": "execute_result"
    }
   ],
   "source": [
    "# 1) 있/없 확인\n",
    "'Hwa' in pythons"
   ]
  },
  {
   "cell_type": "code",
   "execution_count": 18,
   "id": "292d3639-6e4c-4338-a5dc-82a4398b7c6a",
   "metadata": {},
   "outputs": [
    {
     "data": {
      "text/plain": [
       "'Chloe'"
      ]
     },
     "execution_count": 18,
     "metadata": {},
     "output_type": "execute_result"
    }
   ],
   "source": [
    "# 2) get() \n",
    "pythons.get('Hwa') # 있으면 값 반환"
   ]
  },
  {
   "cell_type": "code",
   "execution_count": 21,
   "id": "4c03b482-ea44-41ee-9dc6-abcc82b9b90b",
   "metadata": {},
   "outputs": [
    {
     "data": {
      "text/plain": [
       "0"
      ]
     },
     "execution_count": 21,
     "metadata": {},
     "output_type": "execute_result"
    }
   ],
   "source": [
    "pythons.get('Lee', 0) # 없으면 None 반환 (내가 반환 값 설정 가능)"
   ]
  },
  {
   "cell_type": "markdown",
   "id": "c1169c9d-2507-4ea7-9552-534a80804211",
   "metadata": {},
   "source": [
    "### **전체 조회**\n",
    "- keys()\n",
    "- values()\n",
    "- items()"
   ]
  },
  {
   "cell_type": "code",
   "execution_count": 26,
   "id": "6bfc3bed-9df2-4eee-80d1-d89d261ddb6e",
   "metadata": {},
   "outputs": [
    {
     "data": {
      "text/plain": [
       "dict_keys(['Chapman', 'Cleese', 'Idle', 'Jones', 'Palin', 'Hwa'])"
      ]
     },
     "execution_count": 26,
     "metadata": {},
     "output_type": "execute_result"
    }
   ],
   "source": [
    "pythons.keys() # key 조회"
   ]
  },
  {
   "cell_type": "code",
   "execution_count": 30,
   "id": "59607c55-d676-46db-add7-5c0044121c4d",
   "metadata": {},
   "outputs": [
    {
     "data": {
      "text/plain": [
       "['Chapman', 'Cleese', 'Idle', 'Jones', 'Palin', 'Hwa']"
      ]
     },
     "execution_count": 30,
     "metadata": {},
     "output_type": "execute_result"
    }
   ],
   "source": [
    "list(pythons.keys()) # 사용하고 싶을 땐 list로 형 변환"
   ]
  },
  {
   "cell_type": "code",
   "execution_count": 27,
   "id": "79da4723-4f88-40eb-a701-d1957aedc585",
   "metadata": {},
   "outputs": [
    {
     "data": {
      "text/plain": [
       "dict_values(['Graham', 'John', 'James', 'Terry', 'Michael', 'Chloe'])"
      ]
     },
     "execution_count": 27,
     "metadata": {},
     "output_type": "execute_result"
    }
   ],
   "source": [
    "pythons.values() # value 조회"
   ]
  },
  {
   "cell_type": "code",
   "execution_count": 28,
   "id": "11081544-1e60-4851-b82e-bb29341947bd",
   "metadata": {},
   "outputs": [
    {
     "data": {
      "text/plain": [
       "dict_items([('Chapman', 'Graham'), ('Cleese', 'John'), ('Idle', 'James'), ('Jones', 'Terry'), ('Palin', 'Michael'), ('Hwa', 'Chloe')])"
      ]
     },
     "execution_count": 28,
     "metadata": {},
     "output_type": "execute_result"
    }
   ],
   "source": [
    "pythons.items() # (키, 값) 튜플 형태로 조회 => 순회할 떄 많이 씀"
   ]
  },
  {
   "cell_type": "code",
   "execution_count": 32,
   "id": "829f45f8-8fcc-4388-8cd4-f8d07827a4d9",
   "metadata": {},
   "outputs": [
    {
     "name": "stdout",
     "output_type": "stream",
     "text": [
      "Chapman = Graham\n",
      "Cleese = John\n",
      "Idle = James\n",
      "Jones = Terry\n",
      "Palin = Michael\n",
      "Hwa = Chloe\n"
     ]
    }
   ],
   "source": [
    "for k,v in pythons.items():\n",
    "    print(f'{k} = {v}')"
   ]
  },
  {
   "cell_type": "code",
   "execution_count": 33,
   "id": "7752f4b0-ff3f-4454-bc29-73836e8f7910",
   "metadata": {},
   "outputs": [
    {
     "data": {
      "text/plain": [
       "[('Chapman', 'Graham'),\n",
       " ('Cleese', 'John'),\n",
       " ('Idle', 'James'),\n",
       " ('Jones', 'Terry'),\n",
       " ('Palin', 'Michael'),\n",
       " ('Hwa', 'Chloe')]"
      ]
     },
     "execution_count": 33,
     "metadata": {},
     "output_type": "execute_result"
    }
   ],
   "source": [
    "[(k, v) for k, v in pythons.items()]"
   ]
  },
  {
   "cell_type": "code",
   "execution_count": 39,
   "id": "8f2f2118-1008-47b4-9654-9c86bbfddc55",
   "metadata": {},
   "outputs": [
    {
     "data": {
      "text/plain": [
       "['Chapman', 'Cleese', 'Idle', 'Jones', 'Palin', 'Hwa']"
      ]
     },
     "execution_count": 39,
     "metadata": {},
     "output_type": "execute_result"
    }
   ],
   "source": [
    "[k for k in pythons] # 기본은 key 값"
   ]
  },
  {
   "cell_type": "code",
   "execution_count": 40,
   "id": "dc905b15-e4fb-4c8e-b5f3-33bd055c1d0f",
   "metadata": {},
   "outputs": [
    {
     "data": {
      "text/plain": [
       "['Graham', 'John', 'James', 'Terry', 'Michael', 'Chloe']"
      ]
     },
     "execution_count": 40,
     "metadata": {},
     "output_type": "execute_result"
    }
   ],
   "source": [
    "[k[1] for k in pythons.items()] # 인덱스로 접근 가능 ( 0 = key, 1 = value)"
   ]
  },
  {
   "cell_type": "markdown",
   "id": "52d99400-9ce3-459e-9edb-9d05c88eaa45",
   "metadata": {},
   "source": [
    "#### ***Quiz. animal: num_leg 딕셔너리 만들기***"
   ]
  },
  {
   "cell_type": "code",
   "execution_count": 80,
   "id": "95ae8edf-2b41-4a1e-b5d3-3e372555453c",
   "metadata": {},
   "outputs": [],
   "source": [
    "animal = 'cat snake monkey ant spider'.split()\n",
    "legs = 4, 0, 2, 4, 8"
   ]
  },
  {
   "cell_type": "code",
   "execution_count": 82,
   "id": "b8e82e90-b4d5-440e-ae9d-da970b31a576",
   "metadata": {},
   "outputs": [
    {
     "data": {
      "text/plain": [
       "{'cat': 4, 'snake': 0, 'monkey': 2, 'ant': 4, 'spider': 8}"
      ]
     },
     "execution_count": 82,
     "metadata": {},
     "output_type": "execute_result"
    }
   ],
   "source": [
    "num_leg = {}\n",
    "for k,v in zip(animal, legs):\n",
    "    num_leg[k] = v\n",
    "    \n",
    "num_leg"
   ]
  },
  {
   "cell_type": "markdown",
   "id": "5caa9b46-b162-49bf-88a1-22af1d744d6d",
   "metadata": {},
   "source": [
    "#### ***Quiz. 성: 이름 리스트로 반환하기***\n",
    "- pythons 에서 성: 이름, 성 첫 글자만, 이름은 글자 개수로 이루어진 튜플(성, 이름) 리스트로 반환하기\n",
    "    - dict comprehension 쓰지 말기"
   ]
  },
  {
   "cell_type": "code",
   "execution_count": 101,
   "id": "0efbb04e-055e-4c42-847c-68a541ac40da",
   "metadata": {},
   "outputs": [
    {
     "data": {
      "text/plain": [
       "[('C', 6), ('C', 4), ('I', 5), ('J', 5), ('P', 7), ('H', 5)]"
      ]
     },
     "execution_count": 101,
     "metadata": {},
     "output_type": "execute_result"
    }
   ],
   "source": [
    "# [(), ()] # => items()\n",
    "[(k[0], len(v)) for k, v in pythons.items()]"
   ]
  },
  {
   "cell_type": "code",
   "execution_count": 104,
   "id": "ed8fe79a-1322-4b54-9e65-463961b27032",
   "metadata": {},
   "outputs": [
    {
     "data": {
      "text/plain": [
       "[('C', 6), ('C', 4), ('I', 5), ('J', 5), ('P', 7), ('H', 5)]"
      ]
     },
     "execution_count": 104,
     "metadata": {},
     "output_type": "execute_result"
    }
   ],
   "source": [
    "#인덱스 이용\n",
    "[(k[0][0], len(k[1])) for k in pythons.items()]"
   ]
  },
  {
   "cell_type": "markdown",
   "id": "3689fd93-381d-4f96-996f-38d73fa889de",
   "metadata": {},
   "source": [
    "----------------------------------------------------------"
   ]
  },
  {
   "cell_type": "markdown",
   "id": "d9ba95bc-9cb6-4dae-9a88-322d4021fae7",
   "metadata": {},
   "source": [
    "### **값 수정, 삭제, 복제, 비교**"
   ]
  },
  {
   "cell_type": "code",
   "execution_count": 106,
   "id": "29c14fe9-e99f-414c-ae21-379257f9185c",
   "metadata": {},
   "outputs": [
    {
     "data": {
      "text/plain": [
       "{'Chapman': 'Graham',\n",
       " 'Cleese': 'John',\n",
       " 'Idle': 'James',\n",
       " 'Jones': 'Terry',\n",
       " 'Palin': 'Michael',\n",
       " 'Hwa': 'Chloe'}"
      ]
     },
     "execution_count": 106,
     "metadata": {},
     "output_type": "execute_result"
    }
   ],
   "source": [
    "pythons"
   ]
  },
  {
   "cell_type": "code",
   "execution_count": 107,
   "id": "a0343fda-3150-4a55-ba5f-da25d07a94c7",
   "metadata": {},
   "outputs": [
    {
     "data": {
      "text/plain": [
       "{'Marx': 'Groucho', 'Howard': 'Moe'}"
      ]
     },
     "execution_count": 107,
     "metadata": {},
     "output_type": "execute_result"
    }
   ],
   "source": [
    "others = {\n",
    "    'Marx': 'Groucho',\n",
    "    'Howard': 'Moe'\n",
    "}\n",
    "\n",
    "others"
   ]
  },
  {
   "cell_type": "markdown",
   "id": "568a6be4-fb03-402f-94c2-2e83486907a6",
   "metadata": {},
   "source": [
    "##### **추가**"
   ]
  },
  {
   "cell_type": "code",
   "execution_count": 117,
   "id": "3be979bf-5db0-4db5-b3f5-917b53ca61da",
   "metadata": {},
   "outputs": [],
   "source": [
    "pythons.update(others)"
   ]
  },
  {
   "cell_type": "code",
   "execution_count": 114,
   "id": "f8c0ab94-d046-4f74-8ac7-d776983c6123",
   "metadata": {},
   "outputs": [
    {
     "data": {
      "text/plain": [
       "{'Chapman': 'Graham',\n",
       " 'Cleese': 'John',\n",
       " 'Idle': 'James',\n",
       " 'Jones': 'Terry',\n",
       " 'Palin': 'Michael',\n",
       " 'Hwa': 'Chloe',\n",
       " 'Marx': 'Groucho',\n",
       " 'Howard': 'Moe'}"
      ]
     },
     "execution_count": 114,
     "metadata": {},
     "output_type": "execute_result"
    }
   ],
   "source": [
    "pythons"
   ]
  },
  {
   "cell_type": "code",
   "execution_count": 119,
   "id": "ed1fbd56-47f1-4417-9d97-2c5bc26fecc3",
   "metadata": {},
   "outputs": [
    {
     "data": {
      "text/plain": [
       "{'Marx': 'Groucho',\n",
       " 'Howard': 'Moe',\n",
       " 'Chapman': 'Graham',\n",
       " 'Cleese': 'John',\n",
       " 'Idle': 'James',\n",
       " 'Jones': 'Terry',\n",
       " 'Palin': 'Michael'}"
      ]
     },
     "execution_count": 119,
     "metadata": {},
     "output_type": "execute_result"
    }
   ],
   "source": [
    "#py 3에서만 가능한 기능\n",
    "{**others, **pythons}"
   ]
  },
  {
   "cell_type": "markdown",
   "id": "6e7f4311-0162-42ad-8536-bc446f6f6ec5",
   "metadata": {},
   "source": [
    "##### **삭제**"
   ]
  },
  {
   "cell_type": "code",
   "execution_count": 123,
   "id": "120f8171-2a70-4cc2-97a0-32f6654ec643",
   "metadata": {},
   "outputs": [],
   "source": [
    "del pythons['Hwa']"
   ]
  },
  {
   "cell_type": "code",
   "execution_count": 125,
   "id": "62c8750a-88cb-4abd-842d-183fdbf366ba",
   "metadata": {},
   "outputs": [
    {
     "data": {
      "text/plain": [
       "{'Chapman': 'Graham',\n",
       " 'Cleese': 'John',\n",
       " 'Idle': 'James',\n",
       " 'Jones': 'Terry',\n",
       " 'Palin': 'Michael',\n",
       " 'Marx': 'Groucho',\n",
       " 'Howard': 'Moe'}"
      ]
     },
     "execution_count": 125,
     "metadata": {},
     "output_type": "execute_result"
    }
   ],
   "source": [
    "pythons"
   ]
  },
  {
   "cell_type": "code",
   "execution_count": 130,
   "id": "35b28cd6-e900-46fd-959a-f52fe708ab3a",
   "metadata": {},
   "outputs": [
    {
     "ename": "KeyError",
     "evalue": "'Lee'",
     "output_type": "error",
     "traceback": [
      "\u001b[1;31m---------------------------------------------------------------------------\u001b[0m",
      "\u001b[1;31mKeyError\u001b[0m                                  Traceback (most recent call last)",
      "\u001b[1;32m~\\AppData\\Local\\Temp/ipykernel_5840/417103959.py\u001b[0m in \u001b[0;36m<module>\u001b[1;34m\u001b[0m\n\u001b[1;32m----> 1\u001b[1;33m \u001b[1;32mdel\u001b[0m \u001b[0mpythons\u001b[0m\u001b[1;33m[\u001b[0m\u001b[1;34m'Lee'\u001b[0m\u001b[1;33m]\u001b[0m \u001b[1;31m# 없는 거 삭제하면 에러\u001b[0m\u001b[1;33m\u001b[0m\u001b[1;33m\u001b[0m\u001b[0m\n\u001b[0m",
      "\u001b[1;31mKeyError\u001b[0m: 'Lee'"
     ]
    }
   ],
   "source": [
    "del pythons['Lee'] # 없는 거 삭제하면 에러"
   ]
  },
  {
   "cell_type": "code",
   "execution_count": 127,
   "id": "40ac71ab-f389-41fd-a2c2-45d976628ecb",
   "metadata": {},
   "outputs": [
    {
     "data": {
      "text/plain": [
       "'Groucho'"
      ]
     },
     "execution_count": 127,
     "metadata": {},
     "output_type": "execute_result"
    }
   ],
   "source": [
    "pythons.pop('Marx')"
   ]
  },
  {
   "cell_type": "code",
   "execution_count": 128,
   "id": "637c6859-7612-4639-9ba6-a34d997d1ca5",
   "metadata": {},
   "outputs": [
    {
     "data": {
      "text/plain": [
       "0"
      ]
     },
     "execution_count": 128,
     "metadata": {},
     "output_type": "execute_result"
    }
   ],
   "source": [
    "pythons.pop('Lee', 0) # 없으면 예외는 나지만. 예외 시 출력 값을 지정 가능"
   ]
  },
  {
   "cell_type": "code",
   "execution_count": 131,
   "id": "2a53b922-eb50-46aa-b7a4-2e34abb675c4",
   "metadata": {},
   "outputs": [],
   "source": [
    "# 전체 삭제\n",
    "pythons.clear() #1)\n",
    "pythons = {} #2)"
   ]
  },
  {
   "cell_type": "code",
   "execution_count": 132,
   "id": "48a86d49-5053-479f-b79f-7a73d05755bc",
   "metadata": {},
   "outputs": [
    {
     "data": {
      "text/plain": [
       "{}"
      ]
     },
     "execution_count": 132,
     "metadata": {},
     "output_type": "execute_result"
    }
   ],
   "source": [
    "pythons"
   ]
  },
  {
   "cell_type": "markdown",
   "id": "7111dd26-c9b7-4969-88e8-db185e845bfa",
   "metadata": {},
   "source": [
    "##### **복제**\n",
    "- 할당: b = a\n",
    "- 얕은 복사: c = a.copy()\n",
    "- 깊은 복사: deepcopy"
   ]
  },
  {
   "cell_type": "code",
   "execution_count": 142,
   "id": "48db7298-6a2c-4f01-9f31-6477f053ca0f",
   "metadata": {},
   "outputs": [
    {
     "data": {
      "text/plain": [
       "({1: 45, 2: 2, 3: 3}, {1: 45, 2: 2, 3: 3})"
      ]
     },
     "execution_count": 142,
     "metadata": {},
     "output_type": "execute_result"
    }
   ],
   "source": [
    "# 할당\n",
    "a = {1:1, 2:2, 3:3}\n",
    "b = a\n",
    "a[1] = 45\n",
    "a, b"
   ]
  },
  {
   "cell_type": "code",
   "execution_count": 143,
   "id": "26b209d3-9a56-4b0e-958b-da80d4ea09f7",
   "metadata": {},
   "outputs": [
    {
     "data": {
      "text/plain": [
       "({1: 45, 2: 22, 3: 3}, {1: 45, 2: 2, 3: 3})"
      ]
     },
     "execution_count": 143,
     "metadata": {},
     "output_type": "execute_result"
    }
   ],
   "source": [
    "# 얕은 복사\n",
    "c = a.copy()\n",
    "a[2] = 22\n",
    "a, c"
   ]
  },
  {
   "cell_type": "code",
   "execution_count": 146,
   "id": "58169414-bdd3-4a38-b578-1a635f2502ec",
   "metadata": {},
   "outputs": [
    {
     "data": {
      "text/plain": [
       "({1: [100, 2, 3], 2: [2, 3, 4]}, {1: [100, 2, 3], 2: [2, 3, 4]})"
      ]
     },
     "execution_count": 146,
     "metadata": {},
     "output_type": "execute_result"
    }
   ],
   "source": [
    "# 깊은 복사\n",
    "a = {1: [1, 2, 3], 2: [2, 3, 4]}\n",
    "d = a.copy()\n",
    "a[1][0] = 100 # 리스트의 2차원 이상 가변 객체에서는 똑같아지는 문제 -> deepcopy사용\n",
    "a, d"
   ]
  },
  {
   "cell_type": "code",
   "execution_count": 147,
   "id": "45fb9eb8-bcd4-4619-9565-f656811188a5",
   "metadata": {},
   "outputs": [
    {
     "data": {
      "text/plain": [
       "({1: [100, 999, 3], 2: [2, 3, 4]}, {1: [100, 2, 3], 2: [2, 3, 4]})"
      ]
     },
     "execution_count": 147,
     "metadata": {},
     "output_type": "execute_result"
    }
   ],
   "source": [
    "import copy\n",
    "e = copy.deepcopy(a)\n",
    "a[1][1] = 999\n",
    "a, e"
   ]
  },
  {
   "cell_type": "markdown",
   "id": "cd643bf4-b775-42c6-805e-09a8192db7a1",
   "metadata": {},
   "source": [
    "##### **비교** \n",
    "- 같다, 다르다 만 된다."
   ]
  },
  {
   "cell_type": "code",
   "execution_count": 148,
   "id": "4f109ee7-7d51-49b7-83a3-783001a9032f",
   "metadata": {},
   "outputs": [
    {
     "data": {
      "text/plain": [
       "True"
      ]
     },
     "execution_count": 148,
     "metadata": {},
     "output_type": "execute_result"
    }
   ],
   "source": [
    "a != b"
   ]
  },
  {
   "cell_type": "markdown",
   "id": "504a1545-2c31-4e2e-b5cd-49165e7a2468",
   "metadata": {},
   "source": [
    "#### ***Quiz***\n",
    "1. 두 리스트로 하나의 딕셔너리 생성\n",
    "2. 명왕성 = pluto 추가하기\n",
    "3. '성'으로 끝나지 않는 키 삭제하기\n",
    "    del dict1['태양'] (x)\n",
    "4. sorted 이용해서 값 정렬하기 1) key, 2) value"
   ]
  },
  {
   "cell_type": "code",
   "execution_count": 236,
   "id": "0ad36311-df8f-4526-9ad4-4c2fb1a4e047",
   "metadata": {},
   "outputs": [],
   "source": [
    "solar_kor = '태양 수성 금성 지구 화성 목성 토성 천왕성 해왕성'.split()\n",
    "solar_eng = 'sun mercury venus earth mars jupiter saturn uranus neptune'.split()"
   ]
  },
  {
   "cell_type": "code",
   "execution_count": 265,
   "id": "57787fe5-b99a-45a0-87fe-b5f3fb7b6188",
   "metadata": {},
   "outputs": [
    {
     "data": {
      "text/plain": [
       "{'태양': 'sun',\n",
       " '수성': 'mercury',\n",
       " '금성': 'venus',\n",
       " '지구': 'earth',\n",
       " '화성': 'mars',\n",
       " '목성': 'jupiter',\n",
       " '토성': 'saturn',\n",
       " '천왕성': 'uranus',\n",
       " '해왕성': 'neptune'}"
      ]
     },
     "execution_count": 265,
     "metadata": {},
     "output_type": "execute_result"
    }
   ],
   "source": [
    "system = {}\n",
    "for k, v in zip(solar_kor, solar_eng):\n",
    "    system[k] = v\n",
    "    \n",
    "system"
   ]
  },
  {
   "cell_type": "code",
   "execution_count": 266,
   "id": "2a7fbfc0-9c0d-403a-b899-2a7e025df09d",
   "metadata": {},
   "outputs": [
    {
     "data": {
      "text/plain": [
       "{'태양': 'sun',\n",
       " '수성': 'mercury',\n",
       " '금성': 'venus',\n",
       " '지구': 'earth',\n",
       " '화성': 'mars',\n",
       " '목성': 'jupiter',\n",
       " '토성': 'saturn',\n",
       " '천왕성': 'uranus',\n",
       " '해왕성': 'neptune',\n",
       " '명왕성': 'pluto'}"
      ]
     },
     "execution_count": 266,
     "metadata": {},
     "output_type": "execute_result"
    }
   ],
   "source": [
    "system['명왕성'] = 'pluto'\n",
    "system"
   ]
  },
  {
   "cell_type": "code",
   "execution_count": 267,
   "id": "b2539c0c-add3-4069-bdfe-d6dc048904f3",
   "metadata": {},
   "outputs": [
    {
     "data": {
      "text/plain": [
       "{'수성': 'mercury',\n",
       " '금성': 'venus',\n",
       " '화성': 'mars',\n",
       " '목성': 'jupiter',\n",
       " '토성': 'saturn',\n",
       " '천왕성': 'uranus',\n",
       " '해왕성': 'neptune',\n",
       " '명왕성': 'pluto'}"
      ]
     },
     "execution_count": 267,
     "metadata": {},
     "output_type": "execute_result"
    }
   ],
   "source": [
    "# 3) list comprehension 이용\n",
    "dict([(k, v) for k, v in system.items() if k[-1] == ('성')])"
   ]
  },
  {
   "cell_type": "code",
   "execution_count": 269,
   "id": "696b6496-93b9-4d92-b600-ae3dc350c229",
   "metadata": {},
   "outputs": [
    {
     "data": {
      "text/plain": [
       "{'수성': 'mercury',\n",
       " '금성': 'venus',\n",
       " '화성': 'mars',\n",
       " '목성': 'jupiter',\n",
       " '토성': 'saturn',\n",
       " '천왕성': 'uranus',\n",
       " '해왕성': 'neptune',\n",
       " '명왕성': 'pluto'}"
      ]
     },
     "execution_count": 269,
     "metadata": {},
     "output_type": "execute_result"
    }
   ],
   "source": [
    "# 3) list comprehension 이용\n",
    "dict([(k, system[k]) for k in system if k[-1] == ('성')])"
   ]
  },
  {
   "cell_type": "code",
   "execution_count": 293,
   "id": "b6515229-8071-4cdf-ad39-f12e652edc72",
   "metadata": {},
   "outputs": [
    {
     "data": {
      "text/plain": [
       "{'수성': 'mercury',\n",
       " '금성': 'venus',\n",
       " '화성': 'mars',\n",
       " '목성': 'jupiter',\n",
       " '토성': 'saturn',\n",
       " '천왕성': 'uranus',\n",
       " '해왕성': 'neptune',\n",
       " '명왕성': 'pluto'}"
      ]
     },
     "execution_count": 293,
     "metadata": {},
     "output_type": "execute_result"
    }
   ],
   "source": [
    "# 3) for loop 이용\n",
    "for k in list(system.keys()):\n",
    "    if k[-1] != '성':\n",
    "        del system[k]\n",
    "        \n",
    "system"
   ]
  },
  {
   "cell_type": "code",
   "execution_count": 297,
   "id": "08636d36-f558-4181-8655-55253f654670",
   "metadata": {},
   "outputs": [
    {
     "data": {
      "text/plain": [
       "{'수성': 'mercury',\n",
       " '금성': 'venus',\n",
       " '화성': 'mars',\n",
       " '목성': 'jupiter',\n",
       " '토성': 'saturn',\n",
       " '천왕성': 'uranus',\n",
       " '해왕성': 'neptune',\n",
       " '명왕성': 'pluto'}"
      ]
     },
     "execution_count": 297,
     "metadata": {},
     "output_type": "execute_result"
    }
   ],
   "source": [
    "#3) comprehension 이용\n",
    "{k: v for k, v in system.items() if k[-1] == ('성')}"
   ]
  },
  {
   "cell_type": "markdown",
   "id": "4ae311d2-3f00-4ce9-8a9e-edc126ad982c",
   "metadata": {},
   "source": [
    "### **컴프리핸션**"
   ]
  },
  {
   "cell_type": "code",
   "execution_count": 271,
   "id": "c09fbe95-1f03-4a35-80f5-92fc81fc32f6",
   "metadata": {},
   "outputs": [
    {
     "data": {
      "text/plain": [
       "{'a': 1, 'p': 2, 'l': 1, 'e': 1}"
      ]
     },
     "execution_count": 271,
     "metadata": {},
     "output_type": "execute_result"
    }
   ],
   "source": [
    "letter = 'apple'\n",
    "#a: 1, p:2, ...\n",
    "{ch: letter.count(ch) for ch in letter}"
   ]
  },
  {
   "cell_type": "code",
   "execution_count": 272,
   "id": "43cfb078-e9b1-4443-8ecd-0eaf520e1e86",
   "metadata": {},
   "outputs": [],
   "source": [
    "# 단어의 모음 세기\n",
    "vowels = 'aeiou'\n",
    "word = 'onomatopoeia'\n",
    "\n",
    "# word 순회\n",
    "# vowels 순회"
   ]
  },
  {
   "cell_type": "code",
   "execution_count": 288,
   "id": "4f860f05-48ce-46e2-a0d6-d00ff763a466",
   "metadata": {},
   "outputs": [
    {
     "data": {
      "text/plain": [
       "{'a': 2, 'e': 1, 'i': 1, 'o': 4}"
      ]
     },
     "execution_count": 288,
     "metadata": {},
     "output_type": "execute_result"
    }
   ],
   "source": [
    "# vowels 순회\n",
    "{v: word.count(v) for v in vowels if v in word}"
   ]
  },
  {
   "cell_type": "code",
   "execution_count": 289,
   "id": "6d7bd05a-8751-402c-830e-dbb158e7a37f",
   "metadata": {},
   "outputs": [
    {
     "data": {
      "text/plain": [
       "{'i': 1, 'o': 4, 'a': 2, 'e': 1}"
      ]
     },
     "execution_count": 289,
     "metadata": {},
     "output_type": "execute_result"
    }
   ],
   "source": [
    "# word 순회\n",
    "{w: word.count(w) for w in set(word) if w in vowels}"
   ]
  },
  {
   "cell_type": "markdown",
   "id": "abcc6b4f-77f9-4a85-8593-6c060b686670",
   "metadata": {},
   "source": [
    "### **sorting**"
   ]
  },
  {
   "cell_type": "markdown",
   "id": "a49799a3-18a8-4205-83ba-49734da0c1b1",
   "metadata": {},
   "source": [
    "##### **함수**"
   ]
  },
  {
   "cell_type": "code",
   "execution_count": 308,
   "id": "2a2f78bc-41b0-4453-a66e-fc55d136a18b",
   "metadata": {},
   "outputs": [],
   "source": [
    "def fx(x):\n",
    "    return x[0] # key 기준 정렬"
   ]
  },
  {
   "cell_type": "code",
   "execution_count": 309,
   "id": "50e0f4fe-fd3c-49c4-b647-8091b145a2c4",
   "metadata": {},
   "outputs": [
    {
     "data": {
      "text/plain": [
       "[('금성', 'venus'),\n",
       " ('명왕성', 'pluto'),\n",
       " ('목성', 'jupiter'),\n",
       " ('수성', 'mercury'),\n",
       " ('천왕성', 'uranus'),\n",
       " ('토성', 'saturn'),\n",
       " ('해왕성', 'neptune'),\n",
       " ('화성', 'mars')]"
      ]
     },
     "execution_count": 309,
     "metadata": {},
     "output_type": "execute_result"
    }
   ],
   "source": [
    "sorted(system.items(), key=fx) "
   ]
  },
  {
   "cell_type": "markdown",
   "id": "3a3ecc1f-06db-44d8-ba4b-c420b87a2a7c",
   "metadata": {},
   "source": [
    "##### **익명함수**"
   ]
  },
  {
   "cell_type": "code",
   "execution_count": 311,
   "id": "d53f9f62-be04-470f-b3b5-5aaa96274448",
   "metadata": {},
   "outputs": [
    {
     "data": {
      "text/plain": [
       "[('목성', 'jupiter'),\n",
       " ('화성', 'mars'),\n",
       " ('수성', 'mercury'),\n",
       " ('해왕성', 'neptune'),\n",
       " ('명왕성', 'pluto'),\n",
       " ('토성', 'saturn'),\n",
       " ('천왕성', 'uranus'),\n",
       " ('금성', 'venus')]"
      ]
     },
     "execution_count": 311,
     "metadata": {},
     "output_type": "execute_result"
    }
   ],
   "source": [
    "sorted(system.items(), key=lambda x: x[1]) # value 기준 정렬"
   ]
  },
  {
   "cell_type": "markdown",
   "id": "e7cabb56-3a72-4597-b9c8-e49f03ce1d58",
   "metadata": {},
   "source": [
    "------------------------------------------------------------------------"
   ]
  },
  {
   "cell_type": "markdown",
   "id": "aa01f4c9-8391-4b5d-a951-07cce3b36b2d",
   "metadata": {},
   "source": [
    "### **Set**\n",
    "- 중복 안됨\n",
    "- 집합 => 교집합, 합집합, 차집합, ...\n",
    "- bag이라고 생각\n",
    "- 인덱싱 x"
   ]
  },
  {
   "cell_type": "code",
   "execution_count": 316,
   "id": "7526a26b-146a-4aa0-aa47-5f369a880d76",
   "metadata": {},
   "outputs": [
    {
     "data": {
      "text/plain": [
       "set()"
      ]
     },
     "execution_count": 316,
     "metadata": {},
     "output_type": "execute_result"
    }
   ],
   "source": [
    "# 값이 없을 때\n",
    "empty = set()\n",
    "empty"
   ]
  },
  {
   "cell_type": "code",
   "execution_count": 318,
   "id": "001760ab-30e2-4d59-a046-a28854aad0d2",
   "metadata": {},
   "outputs": [
    {
     "data": {
      "text/plain": [
       "{1, 2, 3}"
      ]
     },
     "execution_count": 318,
     "metadata": {},
     "output_type": "execute_result"
    }
   ],
   "source": [
    "#값이 있을 때\n",
    "a = {1, 2, 3}\n",
    "a"
   ]
  },
  {
   "cell_type": "code",
   "execution_count": 319,
   "id": "ab3ea13c-3244-45d3-a7a3-e99fd44a1b26",
   "metadata": {},
   "outputs": [
    {
     "data": {
      "text/plain": [
       "{1, 2, 3}"
      ]
     },
     "execution_count": 319,
     "metadata": {},
     "output_type": "execute_result"
    }
   ],
   "source": [
    "a = set((1, 2, 3)) # 선언, 형 변환\n",
    "a"
   ]
  },
  {
   "cell_type": "markdown",
   "id": "6a56dc74-1c93-4062-810b-d6390f1f02d8",
   "metadata": {},
   "source": [
    "##### **추가**"
   ]
  },
  {
   "cell_type": "code",
   "execution_count": 320,
   "id": "0b06a54d-4416-4f18-ba53-635d45dd877a",
   "metadata": {},
   "outputs": [
    {
     "data": {
      "text/plain": [
       "{1, 2, 3, 4}"
      ]
     },
     "execution_count": 320,
     "metadata": {},
     "output_type": "execute_result"
    }
   ],
   "source": [
    "a.add(4)\n",
    "a"
   ]
  },
  {
   "cell_type": "markdown",
   "id": "0f45bcde-71c7-4e8b-b559-8f85e6e04d69",
   "metadata": {},
   "source": [
    "##### **삭제**"
   ]
  },
  {
   "cell_type": "code",
   "execution_count": 321,
   "id": "cf2fbbcb-7561-4a4e-bf34-ad54834b5474",
   "metadata": {},
   "outputs": [
    {
     "data": {
      "text/plain": [
       "{1, 2, 3}"
      ]
     },
     "execution_count": 321,
     "metadata": {},
     "output_type": "execute_result"
    }
   ],
   "source": [
    "a.remove(4)\n",
    "a"
   ]
  },
  {
   "cell_type": "markdown",
   "id": "eef36502-b563-45f0-a10b-f38b0a585587",
   "metadata": {},
   "source": [
    "#### ***Quiz.***\n",
    "1. vodka가 포함된 술 출력하기\n",
    "2. vodka는 있지만 cream, vermouth 없는 술 출력하기"
   ]
  },
  {
   "cell_type": "code",
   "execution_count": 334,
   "id": "13b6b993-7f6f-406d-a702-f7c605cf4d9b",
   "metadata": {},
   "outputs": [],
   "source": [
    "drinks = {\n",
    "    'martini': {'vodka', 'vermouth'},\n",
    "    'black russian': {'vodka', 'kahlua'},\n",
    "    'white russian': {'cream', 'kahlua', 'vodka'},\n",
    "    'screwdriver': {'orangejuice', 'vodka'}\n",
    "}"
   ]
  },
  {
   "cell_type": "code",
   "execution_count": 328,
   "id": "2f10f710-f9bb-4af0-8a7c-b3b0bc9de718",
   "metadata": {},
   "outputs": [
    {
     "name": "stdout",
     "output_type": "stream",
     "text": [
      "martini\n",
      "black russian\n",
      "white russian\n",
      "screwdriver\n"
     ]
    }
   ],
   "source": [
    "# 1)\n",
    "for k,v in drinks.items():\n",
    "    if 'vodka' in v:\n",
    "        print(k)"
   ]
  },
  {
   "cell_type": "code",
   "execution_count": 337,
   "id": "35ff6eb9-ed5d-4979-9292-e90307405640",
   "metadata": {},
   "outputs": [
    {
     "name": "stdout",
     "output_type": "stream",
     "text": [
      "black russian\n",
      "screwdriver\n"
     ]
    }
   ],
   "source": [
    "# 2)\n",
    "for k,v in drinks.items():\n",
    "    if 'vodka' in v and not ('cream' in v or 'vermouth' in v):\n",
    "        print(k)"
   ]
  },
  {
   "cell_type": "markdown",
   "id": "20f3a650-5b35-4a08-9f0c-57483b2b12fa",
   "metadata": {},
   "source": [
    "##### **set 활용**"
   ]
  },
  {
   "cell_type": "code",
   "execution_count": null,
   "id": "c8c6353f-6f6b-4766-9579-133ae64045c4",
   "metadata": {},
   "outputs": [],
   "source": [
    "a = {1, 2, 3}\n",
    "b = {2, 3, 4}\n",
    "# 교집합 | intersection\n",
    "a.intersection(b)\n",
    "a & b\n",
    "# 합집합 | union\n",
    "a.union(b)\n",
    "a | b\n",
    "# 차집합 | difference\n",
    "a.difference(b)\n",
    "a - b, b - a"
   ]
  },
  {
   "cell_type": "code",
   "execution_count": 338,
   "id": "59eb652d-35f2-4956-8117-f328bb129e8e",
   "metadata": {},
   "outputs": [
    {
     "name": "stdout",
     "output_type": "stream",
     "text": [
      "black russian\n",
      "screwdriver\n"
     ]
    }
   ],
   "source": [
    "# 2번 set을 활용해서 바꾸기\n",
    "\n",
    "for k,v in drinks.items():\n",
    "    if v & {'vodka'} and not v & {'cream', 'vermouth'}:\n",
    "    # if 'vodka' in v and not v & {'cream', 'vermouth'}:\n",
    "        print(k)"
   ]
  },
  {
   "cell_type": "markdown",
   "id": "318fc633-71bd-4f47-b32f-d2340d79dbeb",
   "metadata": {},
   "source": [
    "##### issubset -> 생략"
   ]
  },
  {
   "cell_type": "code",
   "execution_count": 339,
   "id": "b28b2dca-f882-4533-866a-821d1b85dcb4",
   "metadata": {},
   "outputs": [
    {
     "data": {
      "text/plain": [
       "{0, 1, 2, 3, 4}"
      ]
     },
     "execution_count": 339,
     "metadata": {},
     "output_type": "execute_result"
    }
   ],
   "source": [
    "{s for s in range(5)}"
   ]
  },
  {
   "cell_type": "markdown",
   "id": "6093bcc9-3347-4096-8e81-9e1f8b30cd99",
   "metadata": {},
   "source": [
    "##### **frozenset**\n",
    "- 가변 객체를 불변 객체로 변환"
   ]
  },
  {
   "cell_type": "code",
   "execution_count": 340,
   "id": "8642d0ad-e498-4524-bcac-5eea37714df3",
   "metadata": {},
   "outputs": [
    {
     "data": {
      "text/plain": [
       "frozenset({1, 2})"
      ]
     },
     "execution_count": 340,
     "metadata": {},
     "output_type": "execute_result"
    }
   ],
   "source": [
    "set([1, 2])\n",
    "frozenset([1, 2])"
   ]
  },
  {
   "cell_type": "markdown",
   "id": "2aae2ebc-1c6c-42e1-8bc3-f4254b715ec0",
   "metadata": {},
   "source": [
    "-----------------------------------------------"
   ]
  },
  {
   "cell_type": "markdown",
   "id": "18a664e6-6677-41f4-9c7f-7a5a7eee022e",
   "metadata": {},
   "source": [
    "### **Project**\n",
    "- 테스크 해결\n",
    "- 수업 30분 랜덤 코드 설명\n",
    "- 제출: 수요일 자정"
   ]
  },
  {
   "cell_type": "code",
   "execution_count": 341,
   "id": "242278da-871f-445e-933e-d0e38ba570f8",
   "metadata": {
    "collapsed": true,
    "jupyter": {
     "outputs_hidden": true
    },
    "tags": []
   },
   "outputs": [
    {
     "name": "stdout",
     "output_type": "stream",
     "text": [
      "Requirement already satisfied: pylint in c:\\users\\sjlee\\anaconda3\\lib\\site-packages (2.9.6)\n",
      "Requirement already satisfied: astroid<2.7,>=2.6.5 in c:\\users\\sjlee\\anaconda3\\lib\\site-packages (from pylint) (2.6.6)\n",
      "Requirement already satisfied: toml>=0.7.1 in c:\\users\\sjlee\\anaconda3\\lib\\site-packages (from pylint) (0.10.2)\n",
      "Requirement already satisfied: mccabe<0.7,>=0.6 in c:\\users\\sjlee\\anaconda3\\lib\\site-packages (from pylint) (0.6.1)\n",
      "Requirement already satisfied: colorama in c:\\users\\sjlee\\anaconda3\\lib\\site-packages (from pylint) (0.4.4)\n",
      "Requirement already satisfied: isort<6,>=4.2.5 in c:\\users\\sjlee\\anaconda3\\lib\\site-packages (from pylint) (5.9.3)\n",
      "Requirement already satisfied: wrapt<1.13,>=1.11 in c:\\users\\sjlee\\anaconda3\\lib\\site-packages (from astroid<2.7,>=2.6.5->pylint) (1.12.1)\n",
      "Requirement already satisfied: lazy-object-proxy>=1.4.0 in c:\\users\\sjlee\\anaconda3\\lib\\site-packages (from astroid<2.7,>=2.6.5->pylint) (1.6.0)\n",
      "Requirement already satisfied: setuptools>=20.0 in c:\\users\\sjlee\\anaconda3\\lib\\site-packages (from astroid<2.7,>=2.6.5->pylint) (58.0.4)\n",
      "************* Module example.py\n",
      "example.py:1:0: F0001: No module named example.py (fatal)\n",
      "Requirement already satisfied: pydocstyle in c:\\users\\sjlee\\anaconda3\\lib\\site-packages (6.1.1)\n",
      "Requirement already satisfied: snowballstemmer in c:\\users\\sjlee\\anaconda3\\lib\\site-packages (from pydocstyle) (2.1.0)\n"
     ]
    },
    {
     "name": "stderr",
     "output_type": "stream",
     "text": [
      "WARNING: Error in file example.py: [Errno 2] No such file or directory: 'example.py'\n"
     ]
    }
   ],
   "source": [
    "!pip install pylint\n",
    "!pylint example.py\n",
    "\n",
    "!pip install pydocstyle\n",
    "!pydocstyle example.py"
   ]
  }
 ],
 "metadata": {
  "kernelspec": {
   "display_name": "Python 3 (ipykernel)",
   "language": "python",
   "name": "python3"
  },
  "language_info": {
   "codemirror_mode": {
    "name": "ipython",
    "version": 3
   },
   "file_extension": ".py",
   "mimetype": "text/x-python",
   "name": "python",
   "nbconvert_exporter": "python",
   "pygments_lexer": "ipython3",
   "version": "3.9.7"
  }
 },
 "nbformat": 4,
 "nbformat_minor": 5
}
