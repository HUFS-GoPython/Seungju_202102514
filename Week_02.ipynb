{
 "cells": [
  {
   "cell_type": "markdown",
   "id": "87d85b1d-0340-4dd7-8e1f-0591b3378f1e",
   "metadata": {},
   "source": [
    "## Ch02. Variable"
   ]
  },
  {
   "cell_type": "markdown",
   "id": "5687e66c-eecf-427d-9884-34b56a458ff7",
   "metadata": {},
   "source": [
    "- string\n",
    "- float\n",
    "- integer\n",
    "- boolean"
   ]
  },
  {
   "cell_type": "code",
   "execution_count": 1,
   "id": "f3382568-7647-47cb-99f4-0a657b1bd2d5",
   "metadata": {},
   "outputs": [
    {
     "data": {
      "text/plain": [
       "2"
      ]
     },
     "execution_count": 1,
     "metadata": {},
     "output_type": "execute_result"
    }
   ],
   "source": [
    "# 여러 이름 동시에 할당\n",
    "two = deux = dos = 2 # dos -> deux -> two\n",
    "two"
   ]
  },
  {
   "cell_type": "code",
   "execution_count": 3,
   "id": "9e01084a-0edc-4d0c-9271-3d31a2c6d06c",
   "metadata": {},
   "outputs": [
    {
     "name": "stdout",
     "output_type": "stream",
     "text": [
      "4 2\n"
     ]
    }
   ],
   "source": [
    "# 불변객체이므로 two 만 바뀐다. \n",
    "two = 4\n",
    "print (two, deux)"
   ]
  },
  {
   "cell_type": "code",
   "execution_count": 4,
   "id": "ca0cc200-c316-4975-a7c7-6ec05053babc",
   "metadata": {},
   "outputs": [
    {
     "data": {
      "text/plain": [
       "(1562442230160, 1562442230096)"
      ]
     },
     "execution_count": 4,
     "metadata": {},
     "output_type": "execute_result"
    }
   ],
   "source": [
    "id(two), id(deux)"
   ]
  },
  {
   "cell_type": "code",
   "execution_count": 3,
   "id": "f381796b-a4a9-4070-8242-21582ce209fc",
   "metadata": {},
   "outputs": [
    {
     "data": {
      "text/plain": [
       "([1, 2, 3], [1, 2, 3])"
      ]
     },
     "execution_count": 3,
     "metadata": {},
     "output_type": "execute_result"
    }
   ],
   "source": [
    "p = [1, 2, 3]\n",
    "q = p\n",
    "p, q"
   ]
  },
  {
   "cell_type": "code",
   "execution_count": 4,
   "id": "7ca1f57c-31a8-4d68-bc00-9a105a88e48b",
   "metadata": {},
   "outputs": [
    {
     "data": {
      "text/plain": [
       "(2654556236160, 2654556236160)"
      ]
     },
     "execution_count": 4,
     "metadata": {},
     "output_type": "execute_result"
    }
   ],
   "source": [
    "id(p), id(q)"
   ]
  },
  {
   "cell_type": "code",
   "execution_count": 5,
   "id": "4bdb53db-a523-4c91-a8ad-24452daccd8e",
   "metadata": {},
   "outputs": [
    {
     "data": {
      "text/plain": [
       "([5, 2, 3], [5, 2, 3])"
      ]
     },
     "execution_count": 5,
     "metadata": {},
     "output_type": "execute_result"
    }
   ],
   "source": [
    "p[0] = 5\n",
    "p, q \n",
    "\n",
    "# q = p 이므로 q 도 같이 변한다."
   ]
  },
  {
   "cell_type": "code",
   "execution_count": 8,
   "id": "74798780-a55d-4a36-928e-93dba1c7c354",
   "metadata": {},
   "outputs": [
    {
     "data": {
      "text/plain": [
       "(1562518680384, 1562518680384)"
      ]
     },
     "execution_count": 8,
     "metadata": {},
     "output_type": "execute_result"
    }
   ],
   "source": [
    "id(p), id(q)"
   ]
  },
  {
   "cell_type": "markdown",
   "id": "8ff4c9ba-50fd-47ed-9991-b89a917f7b8d",
   "metadata": {},
   "source": [
    "#### 좋은 변수명\n",
    "- 간결하고 명확한 이름\n",
    "- 의미가 담겨야 한다. a, b, c, ...는 안 좋은 변수이므로 지양할 것.\n",
    "- 코드에는 의미, 주석에는 의도! \n",
    "\n",
    "     - 예: the number of students \n",
    "      n < the_number_of_students < 'num_students'\n",
    "     - 카멜표기법: numStudents\n",
    "    "
   ]
  },
  {
   "cell_type": "markdown",
   "id": "d509ab15-9a84-4434-959d-bd862f6494b8",
   "metadata": {},
   "source": [
    "### 자료형 변환, 형 변환\n",
    "- str(<변환할 값>), int(), float(), bool() "
   ]
  },
  {
   "cell_type": "code",
   "execution_count": 10,
   "id": "c26b2abb-e867-4ef5-838f-eea8d232d82a",
   "metadata": {},
   "outputs": [
    {
     "data": {
      "text/plain": [
       "True"
      ]
     },
     "execution_count": 10,
     "metadata": {},
     "output_type": "execute_result"
    }
   ],
   "source": [
    "a = 10\n",
    "\n",
    "#str\n",
    "str(a)\n",
    "\n",
    "#float\n",
    "float(a)\n",
    "\n",
    "#bool\n",
    "bool(a) # 어떤 값이 False로 변환이 되는지 알아두기"
   ]
  },
  {
   "cell_type": "markdown",
   "id": "85f65e58-a67f-4e05-89fd-80aa476843e2",
   "metadata": {},
   "source": [
    "주의할 점 : float -> int"
   ]
  },
  {
   "cell_type": "code",
   "execution_count": 6,
   "id": "cfa6254b-c094-4e92-a3d7-a401294b7b2c",
   "metadata": {},
   "outputs": [
    {
     "data": {
      "text/plain": [
       "10"
      ]
     },
     "execution_count": 6,
     "metadata": {},
     "output_type": "execute_result"
    }
   ],
   "source": [
    "x = 10.6 # 소수점 내림\n",
    "int(x)"
   ]
  },
  {
   "cell_type": "code",
   "execution_count": 8,
   "id": "8c23663e-32b5-4ec2-8eb7-bb68e046e704",
   "metadata": {},
   "outputs": [
    {
     "name": "stdout",
     "output_type": "stream",
     "text": [
      "38\n",
      "37\n"
     ]
    }
   ],
   "source": [
    "y = 27.5\n",
    "\n",
    "print(int(x + y))\n",
    "print(int(x) + int(y))"
   ]
  },
  {
   "cell_type": "markdown",
   "id": "757822b3-fb1c-4224-a064-aefb666ef01f",
   "metadata": {},
   "source": [
    "주의할 점2: str -> int /float"
   ]
  },
  {
   "cell_type": "code",
   "execution_count": 14,
   "id": "0d9ec894-f214-456d-980e-0b2067387006",
   "metadata": {},
   "outputs": [
    {
     "data": {
      "text/plain": [
       "(10, 10.0)"
      ]
     },
     "execution_count": 14,
     "metadata": {},
     "output_type": "execute_result"
    }
   ],
   "source": [
    "i = '10'\n",
    "int(i), float(i)"
   ]
  },
  {
   "cell_type": "code",
   "execution_count": 15,
   "id": "a2ecd15c-4aca-4d3f-a310-00c41d0263df",
   "metadata": {},
   "outputs": [
    {
     "ename": "ValueError",
     "evalue": "invalid literal for int() with base 10: '10.7'",
     "output_type": "error",
     "traceback": [
      "\u001b[1;31m---------------------------------------------------------------------------\u001b[0m",
      "\u001b[1;31mValueError\u001b[0m                                Traceback (most recent call last)",
      "\u001b[1;32m~\\AppData\\Local\\Temp/ipykernel_4468/1630938160.py\u001b[0m in \u001b[0;36m<module>\u001b[1;34m\u001b[0m\n\u001b[0;32m      1\u001b[0m \u001b[0mj\u001b[0m \u001b[1;33m=\u001b[0m \u001b[1;34m'10.7'\u001b[0m\u001b[1;33m\u001b[0m\u001b[1;33m\u001b[0m\u001b[0m\n\u001b[1;32m----> 2\u001b[1;33m \u001b[0mint\u001b[0m\u001b[1;33m(\u001b[0m\u001b[0mj\u001b[0m\u001b[1;33m)\u001b[0m\u001b[1;33m\u001b[0m\u001b[1;33m\u001b[0m\u001b[0m\n\u001b[0m",
      "\u001b[1;31mValueError\u001b[0m: invalid literal for int() with base 10: '10.7'"
     ]
    }
   ],
   "source": [
    "j = '10.7' #int와 맞지 않는 str을 int로 바꾸려 하면 오류가 난다. \n",
    "int(j)"
   ]
  },
  {
   "cell_type": "markdown",
   "id": "691f85ce-902b-4c85-9b6d-dc50a022072b",
   "metadata": {},
   "source": [
    "### 꿀팁 *print()*"
   ]
  },
  {
   "cell_type": "code",
   "execution_count": 13,
   "id": "74f0123a-d415-4e78-af57-a2e1c217e633",
   "metadata": {},
   "outputs": [
    {
     "name": "stdout",
     "output_type": "stream",
     "text": [
      "mathscienceenglish\n",
      "math science english\n"
     ]
    }
   ],
   "source": [
    "math = 'math'\n",
    "science = 'science'\n",
    "english = 'english'\n",
    "\n",
    "print(math + science + english) # space X, \\n\n",
    "print(math, science, english) # space O \\n"
   ]
  },
  {
   "cell_type": "code",
   "execution_count": 14,
   "id": "84908034-905d-42c6-be89-4190d7f12815",
   "metadata": {},
   "outputs": [
    {
     "name": "stdout",
     "output_type": "stream",
     "text": [
      "math science english\n",
      "math/science/english\n",
      "\n",
      "EOL\n"
     ]
    }
   ],
   "source": [
    "print(math, science, english, sep=' ', end='\\n') #default\n",
    "print(math, science, english, sep='/', end='\\n\\n')\n",
    "print('EOL')"
   ]
  },
  {
   "cell_type": "code",
   "execution_count": 16,
   "id": "2de63362-cd4d-4b55-9e7a-6e91040cf8c9",
   "metadata": {},
   "outputs": [
    {
     "name": "stdout",
     "output_type": "stream",
     "text": [
      "My favorite subject is  science .\n",
      "My favorite subject is science.\n"
     ]
    }
   ],
   "source": [
    "#1.\n",
    "print(\"My favorite subject is \", science, '.')\n",
    "\n",
    "#2.\n",
    "print(f\"My favorite subject is {science}.\")"
   ]
  },
  {
   "cell_type": "markdown",
   "id": "77436b09-121e-4e9f-9bcb-eb350e80e3f9",
   "metadata": {
    "tags": []
   },
   "source": [
    "코드 줄이 짧을 때는 ;(semicolon)을 이용하자."
   ]
  },
  {
   "cell_type": "code",
   "execution_count": 17,
   "id": "79e7e60b-1b28-44a4-8e5f-3ad3694705f0",
   "metadata": {},
   "outputs": [
    {
     "name": "stdout",
     "output_type": "stream",
     "text": [
      "math\n"
     ]
    }
   ],
   "source": [
    "math = 'math' ; science = 'science' ; english = 'english'\n",
    "print(math)"
   ]
  },
  {
   "cell_type": "markdown",
   "id": "1960fbe2-4ff2-49bb-8f35-b4f29cf6340b",
   "metadata": {},
   "source": [
    "--------------------"
   ]
  },
  {
   "cell_type": "markdown",
   "id": "dead796a-95d4-471d-85af-fbc437968052",
   "metadata": {
    "tags": []
   },
   "source": [
    "### *input()* 함수\n",
    "- console에서 사용자가 입력하는 값을 받을 수 있는 함수\n",
    "- 입력 받는 값은 문자열로 인식이 된다.\n",
    "- 입력 받은 값을 변수에 담아서 사용한다. 안 그러면 사라짐\n",
    "- 숫자일 경우 형 변환 한다."
   ]
  },
  {
   "cell_type": "code",
   "execution_count": 22,
   "id": "0d269879-37d2-447d-8223-28be90b12d53",
   "metadata": {},
   "outputs": [
    {
     "name": "stdin",
     "output_type": "stream",
     "text": [
      "Hello? Hi\n"
     ]
    },
    {
     "data": {
      "text/plain": [
       "'Hi'"
      ]
     },
     "execution_count": 22,
     "metadata": {},
     "output_type": "execute_result"
    }
   ],
   "source": [
    "input(\"Hello?\")"
   ]
  },
  {
   "cell_type": "code",
   "execution_count": 24,
   "id": "96d37fb3-79da-4c97-b3a3-3430b3813be7",
   "metadata": {},
   "outputs": [
    {
     "name": "stdin",
     "output_type": "stream",
     "text": [
      "나이가 어떻게 되나요? 55\n"
     ]
    },
    {
     "data": {
      "text/plain": [
       "55"
      ]
     },
     "execution_count": 24,
     "metadata": {},
     "output_type": "execute_result"
    }
   ],
   "source": [
    "int(input('나이가 어떻게 되나요?')) #숫자는 형 변환(int)"
   ]
  },
  {
   "cell_type": "code",
   "execution_count": 25,
   "id": "2aefd5e7-e927-4ba8-9e43-f9fdb84e9ffa",
   "metadata": {},
   "outputs": [
    {
     "name": "stdin",
     "output_type": "stream",
     "text": [
      "나이가 어떻게 되나요? 15\n"
     ]
    }
   ],
   "source": [
    "#1.\n",
    "age = input('나이가 어떻게 되나요?')"
   ]
  },
  {
   "cell_type": "code",
   "execution_count": 26,
   "id": "dbff3929-12b7-494f-b997-1bb4fc045181",
   "metadata": {},
   "outputs": [
    {
     "data": {
      "text/plain": [
       "'15'"
      ]
     },
     "execution_count": 26,
     "metadata": {},
     "output_type": "execute_result"
    }
   ],
   "source": [
    "age"
   ]
  },
  {
   "cell_type": "code",
   "execution_count": 29,
   "id": "aa73b5ce-0ffb-44dd-9ed9-8016879fd779",
   "metadata": {},
   "outputs": [
    {
     "name": "stdout",
     "output_type": "stream",
     "text": [
      "나이가 어떻게 되나요?\n"
     ]
    },
    {
     "name": "stdin",
     "output_type": "stream",
     "text": [
      " 5\n"
     ]
    }
   ],
   "source": [
    "#2.\n",
    "print('나이가 어떻게 되나요?')\n",
    "age = input()"
   ]
  },
  {
   "cell_type": "code",
   "execution_count": 30,
   "id": "45920cf8-5452-4fe1-8ac0-dffd3c9f73a3",
   "metadata": {},
   "outputs": [
    {
     "data": {
      "text/plain": [
       "'5'"
      ]
     },
     "execution_count": 30,
     "metadata": {},
     "output_type": "execute_result"
    }
   ],
   "source": [
    "age"
   ]
  },
  {
   "cell_type": "markdown",
   "id": "e04616c1-fdba-44a7-a81a-f8c4c814c599",
   "metadata": {},
   "source": [
    "#### Quiz 1\n",
    "- 섭씨를 입력 받아서 화씨로 변환하기\n",
    "- \"섭씨 * 1.8 + 32 = 화씨\""
   ]
  },
  {
   "cell_type": "code",
   "execution_count": 36,
   "id": "24f2c80a-6c3a-463e-9ba5-8f364806529b",
   "metadata": {},
   "outputs": [
    {
     "name": "stdin",
     "output_type": "stream",
     "text": [
      "섭씨 온도는 몇 도 인가요? 54.7\n"
     ]
    },
    {
     "name": "stdout",
     "output_type": "stream",
     "text": [
      "화씨 온도는 130.46 도 입니다.\n"
     ]
    }
   ],
   "source": [
    "#1. 내꺼\n",
    "celsius = float(input('섭씨 온도는 몇 도 인가요?'))\n",
    "print(f\"화씨 온도는 {celsius * 1.8 + 32} 도 입니다.\")\n"
   ]
  },
  {
   "cell_type": "code",
   "execution_count": 37,
   "id": "24b7714d-3271-452e-96b9-f404733a5dce",
   "metadata": {},
   "outputs": [
    {
     "name": "stdin",
     "output_type": "stream",
     "text": [
      "섭씨를 입력하시오 54.7\n"
     ]
    },
    {
     "name": "stdout",
     "output_type": "stream",
     "text": [
      "화씨 =  130.46\n"
     ]
    }
   ],
   "source": [
    "#2. 남의꺼_1\n",
    "celsius = float(input('섭씨를 입력하시오'))\n",
    "fahrenheit = celsius * 1.8 + 32\n",
    "print('화씨 = ', fahrenheit)"
   ]
  },
  {
   "cell_type": "code",
   "execution_count": 38,
   "id": "c26a8eb6-8563-43d5-80c4-d489b515a3bc",
   "metadata": {},
   "outputs": [
    {
     "name": "stdout",
     "output_type": "stream",
     "text": [
      "섭씨를 입력해주세요\n"
     ]
    },
    {
     "name": "stdin",
     "output_type": "stream",
     "text": [
      " 54.7\n"
     ]
    },
    {
     "name": "stdout",
     "output_type": "stream",
     "text": [
      "130.46\n"
     ]
    }
   ],
   "source": [
    "#3. 남의꺼_2\n",
    "print('섭씨를 입력해주세요')\n",
    "celsius = float(input())\n",
    "fahrenheit = celsius * 1.8 + 32\n",
    "print(fahrenheit)\n"
   ]
  },
  {
   "cell_type": "code",
   "execution_count": 39,
   "id": "90b472ca-f8f8-4535-a62a-9fdf32fa897e",
   "metadata": {},
   "outputs": [
    {
     "name": "stdout",
     "output_type": "stream",
     "text": [
      "< 섭씨 -> 화씨 변환기 >\n"
     ]
    },
    {
     "name": "stdin",
     "output_type": "stream",
     "text": [
      "섭씨온도는? 54.7\n"
     ]
    },
    {
     "name": "stdout",
     "output_type": "stream",
     "text": [
      "화씨 온도는 .. 130.46 도\n"
     ]
    }
   ],
   "source": [
    "#4. 남의꺼_3\n",
    "print(\"< 섭씨 -> 화씨 변환기 >\")\n",
    "\n",
    "celsius = float(input(\"섭씨온도는?\"))\n",
    "fahrenheit = celsius * 1.8 + 32\n",
    "print(\"화씨 온도는 ..\", fahrenheit, \"도\")\n",
    "\n"
   ]
  },
  {
   "cell_type": "markdown",
   "id": "93a95e84-6588-4de2-99be-04db3a745a79",
   "metadata": {},
   "source": [
    "### Quiz 2\n",
    "- 택배 정보 입력 받고, 총 합계 계산하기\n",
    "- 출력값:\n",
    "    - 수취인 성명: <이름>\n",
    "    - 수취인 주소: <주소>\n",
    "    - 배송비: 3000원\n",
    "    - 물건 비용: <가격>원\n",
    "    - 총 합계: <가격> 원\n",
    "    \n",
    "- 물건 비용 = 무게(g)*5\n",
    "- 합계 = 배송비 + 물건 비용\n",
    "\n",
    "*입력값: 이름, 주소, 무게*"
   ]
  },
  {
   "cell_type": "code",
   "execution_count": 56,
   "id": "685cc3b6-1d8a-4c3a-8fc2-b700b35e5f72",
   "metadata": {},
   "outputs": [
    {
     "name": "stdin",
     "output_type": "stream",
     "text": [
      "이름이 무엇인가요? 이승주\n",
      "주소가 어떻게 되세요? 이문동\n",
      "무게(g)는 얼마인가요? 150.3\n"
     ]
    },
    {
     "name": "stdout",
     "output_type": "stream",
     "text": [
      "\n",
      "==== 택배정보 ====\n",
      "이름은 이승주 입니다.\n",
      "주소는 이문동 입니다.\n",
      "물건 비용은 751.5 원 입니다.\n",
      "배송비는 3000원 입니다.\n",
      "따라서 합계 금액은 총 3751.5 원 입니다.\n"
     ]
    }
   ],
   "source": [
    "#내꺼\n",
    "name = input('이름이 무엇인가요?')\n",
    "address = input('주소가 어떻게 되세요?')\n",
    "weight = float(input('무게(g)는 얼마인가요?'))\n",
    "\n",
    "print(\"\\n==== 택배정보 ====\")\n",
    "print(f'이름은 {name} 입니다.')\n",
    "print(f'주소는 {address} 입니다.')\n",
    "print(f'물건 비용은 {weight * 5} 원 입니다.')\n",
    "print('배송비는 3000원 입니다.')\n",
    "print(f'따라서 합계 금액은 총 {3000 + weight * 5} 원 입니다.')"
   ]
  },
  {
   "cell_type": "code",
   "execution_count": 57,
   "id": "6be2fc0e-5cc1-4f93-b2e4-3bb2c84a5b99",
   "metadata": {},
   "outputs": [
    {
     "name": "stdin",
     "output_type": "stream",
     "text": [
      " 이승주\n",
      " 이문동\n",
      " 150.3\n"
     ]
    },
    {
     "name": "stdout",
     "output_type": "stream",
     "text": [
      "== 택배정보 ==\n",
      "수취인 성명: < 이승주 >\n",
      "수취인 주소: < 이문동 >\n",
      "배송비: 3000원\n",
      "물건 비용: < 751.5 >원\n",
      "총 합계: < 3751.5 > 원\n"
     ]
    }
   ],
   "source": [
    "#남의꺼_1\n",
    "name = input()\n",
    "address = input()\n",
    "weight = float(input())\n",
    "price = weight * 5\n",
    "total = 3000 + price\n",
    "\n",
    "print(\"== 택배정보 ==\")\n",
    "print('수취인 성명: <', name, '>')\n",
    "print('수취인 주소: <', address, '>')\n",
    "print('배송비: 3000원')\n",
    "print('물건 비용: <', price, '>원')\n",
    "print('총 합계: <', total, '> 원')\n"
   ]
  },
  {
   "cell_type": "code",
   "execution_count": 58,
   "id": "369e174a-0363-451c-adab-f9ed63176860",
   "metadata": {},
   "outputs": [
    {
     "name": "stdin",
     "output_type": "stream",
     "text": [
      "수취인 성명>>>  이승주\n",
      "수취인 주소>>>  이문동\n",
      "물건무게(g)>>>  150.3\n"
     ]
    },
    {
     "name": "stdout",
     "output_type": "stream",
     "text": [
      "\n",
      "==== 택배정보 ====\n",
      "수취인 성명: 이승주\n",
      "배송비: 3000원\n",
      "물건 비용: 751.5원\n",
      "총 합계: 3751.5원\n"
     ]
    }
   ],
   "source": [
    "#남의꺼_2\n",
    "name = input('수취인 성명>>> ')\n",
    "address = input('수취인 주소>>> ')\n",
    "weight = float(input('물건무게(g)>>> '))\n",
    "price = weight * 5\n",
    "total = 3000 + price\n",
    "print()\n",
    "print('==== 택배정보 ====')\n",
    "print(f'''수취인 성명: {name}\n",
    "배송비: 3000원\n",
    "물건 비용: {price}원\n",
    "총 합계: {total}원''')"
   ]
  },
  {
   "cell_type": "markdown",
   "id": "c9bbf0e2-a114-44b2-8f59-5fd2956c8cb8",
   "metadata": {},
   "source": [
    "---------------"
   ]
  },
  {
   "cell_type": "markdown",
   "id": "1a50800e-17ea-42ca-a031-471a9eabda43",
   "metadata": {},
   "source": [
    "## Ch03. Numbers"
   ]
  },
  {
   "cell_type": "markdown",
   "id": "7afa013f-b377-469e-9f16-3ff2052b982e",
   "metadata": {
    "tags": []
   },
   "source": [
    "### boolean\n",
    "- 형 변환할 때 True, False인지 기억하라\n",
    "    - '', None, 0, ...\n",
    "- 조건식에서 많이 쓴다. 예: 만약 이 조건이 True라면, ..."
   ]
  },
  {
   "cell_type": "code",
   "execution_count": 60,
   "id": "7da02fd3-babd-45de-a142-5d880a3dc21c",
   "metadata": {},
   "outputs": [
    {
     "data": {
      "text/plain": [
       "True"
      ]
     },
     "execution_count": 60,
     "metadata": {},
     "output_type": "execute_result"
    }
   ],
   "source": [
    "bool(1)"
   ]
  },
  {
   "cell_type": "code",
   "execution_count": 61,
   "id": "a2971669-76bb-48f8-b1ac-85bc494afe77",
   "metadata": {},
   "outputs": [
    {
     "data": {
      "text/plain": [
       "False"
      ]
     },
     "execution_count": 61,
     "metadata": {},
     "output_type": "execute_result"
    }
   ],
   "source": [
    "bool('')"
   ]
  },
  {
   "cell_type": "markdown",
   "id": "67f6e648-04cf-4afc-817b-1d2184ee0520",
   "metadata": {
    "tags": []
   },
   "source": [
    "#### integer\n",
    "- 소수점이 없음\n",
    "- default 양수, 음수는 앞에 -를 붙인다.\n",
    "- 숫자 앞에는 0을 붙일 수 없다. 예: 05\n",
    "    - 예외적으로 0bxxx, => 다른 진수 표현법\n",
    "- 리터럴: 4\n",
    "- 공백이 많아도 무시가 된다.\n",
    "- 10,000원 -> 10, 000원 두 개로 인식 ==> _ 사용\n",
    "    - 예: 10_000"
   ]
  },
  {
   "cell_type": "code",
   "execution_count": 62,
   "id": "0ded4c3e-311e-47a0-80ba-71b2d029f156",
   "metadata": {},
   "outputs": [
    {
     "data": {
      "text/plain": [
       "-1"
      ]
     },
     "execution_count": 62,
     "metadata": {},
     "output_type": "execute_result"
    }
   ],
   "source": [
    "a = -9\n",
    "8 + a"
   ]
  },
  {
   "cell_type": "code",
   "execution_count": 63,
   "id": "ca80e187-8ce4-4ba0-8a02-7cfdcdaebddc",
   "metadata": {},
   "outputs": [
    {
     "ename": "SyntaxError",
     "evalue": "leading zeros in decimal integer literals are not permitted; use an 0o prefix for octal integers (Temp/ipykernel_4468/2890110653.py, line 1)",
     "output_type": "error",
     "traceback": [
      "\u001b[1;36m  File \u001b[1;32m\"C:\\Users\\SJLEE\\AppData\\Local\\Temp/ipykernel_4468/2890110653.py\"\u001b[1;36m, line \u001b[1;32m1\u001b[0m\n\u001b[1;33m    a = 09\u001b[0m\n\u001b[1;37m         ^\u001b[0m\n\u001b[1;31mSyntaxError\u001b[0m\u001b[1;31m:\u001b[0m leading zeros in decimal integer literals are not permitted; use an 0o prefix for octal integers\n"
     ]
    }
   ],
   "source": [
    "a = 09"
   ]
  },
  {
   "cell_type": "code",
   "execution_count": 64,
   "id": "a8bd5df3-9e4f-415e-ac37-56ec97429c0f",
   "metadata": {},
   "outputs": [
    {
     "data": {
      "text/plain": [
       "-6"
      ]
     },
     "execution_count": 64,
     "metadata": {},
     "output_type": "execute_result"
    }
   ],
   "source": [
    "-9 +  8          -5"
   ]
  },
  {
   "cell_type": "code",
   "execution_count": 65,
   "id": "4a1e110e-1e6d-4c5a-911d-7905502baa6b",
   "metadata": {},
   "outputs": [
    {
     "name": "stdout",
     "output_type": "stream",
     "text": [
      "10000\n"
     ]
    }
   ],
   "source": [
    "a = 10_000\n",
    "print(a)"
   ]
  },
  {
   "cell_type": "markdown",
   "id": "1f1f8984-15e3-416b-ab87-6da7ad879e8e",
   "metadata": {},
   "source": [
    "#### 연산\n",
    "- 연산자|operator: +, -, ...\n",
    "- 피연산자|operand: 4, 5, ...\n",
    "- 수식|expression: 연산자와 피연산자 합친 것"
   ]
  },
  {
   "cell_type": "code",
   "execution_count": 66,
   "id": "8759477d-9a4c-4502-b18a-9953039c3910",
   "metadata": {},
   "outputs": [
    {
     "data": {
      "text/plain": [
       "262144"
      ]
     },
     "execution_count": 66,
     "metadata": {},
     "output_type": "execute_result"
    }
   ],
   "source": [
    "x = 4\n",
    "y = 9\n",
    "\n",
    "x + y\n",
    "x - y\n",
    "x * y\n",
    "x / y\n",
    "\n",
    "# 거듭제곱|exponential\n",
    "x **y"
   ]
  },
  {
   "cell_type": "markdown",
   "id": "34843577-5f5a-40c9-94f2-0af974fbc9d2",
   "metadata": {},
   "source": [
    "나눗셈에서 주의할 사항"
   ]
  },
  {
   "cell_type": "code",
   "execution_count": 70,
   "id": "060acff2-8bdd-4aac-99ff-ac78db1d2bfa",
   "metadata": {},
   "outputs": [
    {
     "data": {
      "text/plain": [
       "(0, 4, 0.4444444444444444)"
      ]
     },
     "execution_count": 70,
     "metadata": {},
     "output_type": "execute_result"
    }
   ],
   "source": [
    "#1. division by zero ==> 주의 (y!=0)\n",
    "#2. 몫, 나머지, 기본\n",
    "x // y, x % y, x / y "
   ]
  },
  {
   "cell_type": "code",
   "execution_count": 71,
   "id": "f475a888-aa82-49e4-b8cd-5b1bf18eb229",
   "metadata": {},
   "outputs": [
    {
     "data": {
      "text/plain": [
       "(0, 4)"
      ]
     },
     "execution_count": 71,
     "metadata": {},
     "output_type": "execute_result"
    }
   ],
   "source": [
    "# 몫과 나머지만 출력하고 싶다면?\n",
    "divmod(x, y)"
   ]
  },
  {
   "cell_type": "markdown",
   "id": "7aec09a4-a1ad-4aae-bfc3-1d1ba9282efe",
   "metadata": {},
   "source": [
    "#### 복합 대입연산자|compound assignment operator"
   ]
  },
  {
   "cell_type": "code",
   "execution_count": 72,
   "id": "1515b299-e75c-42ac-93ab-063bf6f35dec",
   "metadata": {},
   "outputs": [
    {
     "name": "stdout",
     "output_type": "stream",
     "text": [
      "5\n"
     ]
    }
   ],
   "source": [
    "a = 5\n",
    "a - 3\n",
    "print(a)"
   ]
  },
  {
   "cell_type": "code",
   "execution_count": 73,
   "id": "7b31209e-fdca-4df7-8230-7dd9c9ed930b",
   "metadata": {},
   "outputs": [],
   "source": [
    "a = a - 3\n",
    "#1. a-3 계산\n",
    "#2. 임시변수 temp = a - 3\n",
    "#3. a = a - 3 \n",
    "\n",
    "a -= 3"
   ]
  },
  {
   "cell_type": "code",
   "execution_count": 74,
   "id": "8a2cd985-d513-45cf-a196-b697e0ba3667",
   "metadata": {},
   "outputs": [],
   "source": [
    "a += 3\n",
    "a -= 3\n",
    "a *= 3\n",
    "a /= 3"
   ]
  },
  {
   "cell_type": "code",
   "execution_count": 76,
   "id": "623d60ee-0c88-4ad1-8388-3e908731f5a6",
   "metadata": {},
   "outputs": [
    {
     "ename": "SyntaxError",
     "evalue": "invalid syntax (Temp/ipykernel_4468/2170326069.py, line 1)",
     "output_type": "error",
     "traceback": [
      "\u001b[1;36m  File \u001b[1;32m\"C:\\Users\\SJLEE\\AppData\\Local\\Temp/ipykernel_4468/2170326069.py\"\u001b[1;36m, line \u001b[1;32m1\u001b[0m\n\u001b[1;33m    u = ? # 값 초기화할 것\u001b[0m\n\u001b[1;37m        ^\u001b[0m\n\u001b[1;31mSyntaxError\u001b[0m\u001b[1;31m:\u001b[0m invalid syntax\n"
     ]
    }
   ],
   "source": [
    "u = ? # 값 초기화할 것\n",
    "u = u + 1"
   ]
  },
  {
   "cell_type": "markdown",
   "id": "d0185cc0-2855-4d65-801e-fe0800e68c7b",
   "metadata": {
    "tags": []
   },
   "source": [
    "### Quiz 3.\n",
    "- 정수를 입력 받고 3의 배수인지 확인하세요.\n",
    "- = 홀수인지 확인하세요."
   ]
  },
  {
   "cell_type": "code",
   "execution_count": 105,
   "id": "db15650c-5d14-4023-8b79-d4230afc0158",
   "metadata": {},
   "outputs": [
    {
     "name": "stdin",
     "output_type": "stream",
     "text": [
      "정수를 입력하세요. 15\n"
     ]
    },
    {
     "data": {
      "text/plain": [
       "True"
      ]
     },
     "execution_count": 105,
     "metadata": {},
     "output_type": "execute_result"
    }
   ],
   "source": [
    "#내꺼\n",
    "number = int(input('정수를 입력하세요.'))\n",
    "\n",
    "number % 3 == 0"
   ]
  },
  {
   "cell_type": "code",
   "execution_count": 109,
   "id": "f149950e-b463-496a-88ce-562589d15931",
   "metadata": {},
   "outputs": [
    {
     "name": "stdin",
     "output_type": "stream",
     "text": [
      "정수를 입력하세요. 15\n"
     ]
    },
    {
     "data": {
      "text/plain": [
       "True"
      ]
     },
     "execution_count": 109,
     "metadata": {},
     "output_type": "execute_result"
    }
   ],
   "source": [
    "number = int(input('정수를 입력하세요.'))\n",
    "number % 2 != 0"
   ]
  },
  {
   "cell_type": "code",
   "execution_count": 99,
   "id": "7a8d37d8-1f43-4ef8-8ee5-07e62cc920ed",
   "metadata": {},
   "outputs": [
    {
     "name": "stdin",
     "output_type": "stream",
     "text": [
      "정수를 입력하세요: 12\n"
     ]
    },
    {
     "name": "stdout",
     "output_type": "stream",
     "text": [
      "3의 배수입니다\n",
      "짝수입니다.\n"
     ]
    }
   ],
   "source": [
    "#남의꺼 1\n",
    "number = int(input(\"정수를 입력하세요:\"))\n",
    "if (number % 3 == 0):\n",
    "    print(\"3의 배수입니다.\")\n",
    "else:\n",
    "    print(\"3의 배수가 아닙니다.\")\n",
    "    \n",
    "if (number % 2 == 0):\n",
    "    print(\"짝수입니다.\")\n",
    "else:\n",
    "    print(\"홀수입니다.\")\n",
    "    "
   ]
  },
  {
   "cell_type": "markdown",
   "id": "276470ea-dc10-4d42-92e5-59d4a8a27f0c",
   "metadata": {
    "tags": []
   },
   "source": [
    "#### 지수 표현\n",
    "- e, E 둘다 가능하다.\n",
    "- 앞부분은 float, int\n",
    "- 뒷부분은 int만 온다.\n",
    "    - 양수면 0 앞으로\n",
    "    - 음수면 0 뒤로 (소수점)"
   ]
  },
  {
   "cell_type": "code",
   "execution_count": 124,
   "id": "1e248a72-da7b-4e2e-ace6-3ae54bb16f0f",
   "metadata": {},
   "outputs": [
    {
     "data": {
      "text/plain": [
       "1000000.0"
      ]
     },
     "execution_count": 124,
     "metadata": {},
     "output_type": "execute_result"
    }
   ],
   "source": [
    "1.0e6 #float"
   ]
  },
  {
   "cell_type": "code",
   "execution_count": 122,
   "id": "11dda1c5-8d52-42f8-85b8-c8f788548c34",
   "metadata": {},
   "outputs": [
    {
     "data": {
      "text/plain": [
       "0.000789"
      ]
     },
     "execution_count": 122,
     "metadata": {},
     "output_type": "execute_result"
    }
   ],
   "source": [
    "# 0.000789 ==> 지수표현\n",
    "7.890e-4\n",
    "7890e-7"
   ]
  },
  {
   "cell_type": "markdown",
   "id": "c8a686a6-0f95-4f59-8bed-e8b7095bfb42",
   "metadata": {
    "tags": []
   },
   "source": [
    "------------"
   ]
  },
  {
   "cell_type": "markdown",
   "id": "2c1237df-808f-4f8d-a1a1-8c07535eb8fd",
   "metadata": {},
   "source": [
    "### 조건문, if\n",
    "- code structure"
   ]
  },
  {
   "cell_type": "markdown",
   "id": "4a2ef3cf-5826-419e-bf01-39d6dfd8d356",
   "metadata": {
    "tags": []
   },
   "source": [
    "### 코드 짜는 룰\n",
    "- 주석 다는 법\n",
    "    - 설명하는 부분\n",
    "    - 목적: 의도를 표현한다.\n",
    "    - '#' hash, sharp, ...\n",
    "    - 시작된 부분부터 그 라인 끝까지가 주석\n",
    "    - 문자열 안에 들어있는 해시는 문자열로 인식\n",
    "    - \"\"\"<주석>\"\"\"\n",
    "    \n",
    "- 라인 유지하기\n",
    "    - 들여쓰기, 공백 4개, 탭 1개\n",
    "    - 한 줄에 최대 80자 넘지 않게\n",
    "    - 백슬래시로 끊어준다 (\\)"
   ]
  },
  {
   "cell_type": "code",
   "execution_count": 126,
   "id": "863fe32a-a362-4381-a3c6-b3d7af5118f7",
   "metadata": {},
   "outputs": [],
   "source": [
    "a = 3 #여기부터 라인 끝\n",
    "b = 2"
   ]
  },
  {
   "cell_type": "code",
   "execution_count": 128,
   "id": "972239bf-a13d-4cbd-b919-c71286cff43c",
   "metadata": {},
   "outputs": [
    {
     "name": "stdout",
     "output_type": "stream",
     "text": [
      "hey ###\n"
     ]
    },
    {
     "data": {
      "text/plain": [
       "'\\n주석1\\n주석2\\n주석3\\n'"
      ]
     },
     "execution_count": 128,
     "metadata": {},
     "output_type": "execute_result"
    }
   ],
   "source": [
    "example = 'hey ###'\n",
    "print(example)\n",
    "\n",
    "\"\"\"\n",
    "주석1\n",
    "주석2\n",
    "주석3\n",
    "\"\"\"\n",
    "\n",
    "# 보이긴 하지만 코드에는 영향을 미치치 않는다. "
   ]
  },
  {
   "cell_type": "code",
   "execution_count": null,
   "id": "4bd05ae9-a869-4cb1-a98a-de25ed459712",
   "metadata": {
    "tags": []
   },
   "outputs": [],
   "source": [
    "if ....:\n",
    "    ###"
   ]
  },
  {
   "cell_type": "markdown",
   "id": "139c4db7-c3d0-401c-beb1-8c884e42ce12",
   "metadata": {},
   "source": [
    "- 조건 1개\n",
    "if <조건식>:\n",
    "    <실행할 코드>"
   ]
  },
  {
   "cell_type": "code",
   "execution_count": 134,
   "id": "9f114c6f-21d3-49a8-a700-dfd08d5d73d7",
   "metadata": {},
   "outputs": [
    {
     "name": "stdout",
     "output_type": "stream",
     "text": [
      "Yaay!\n"
     ]
    }
   ],
   "source": [
    "if 4 != 9:\n",
    "    print('Yaay!')"
   ]
  },
  {
   "cell_type": "markdown",
   "id": "2f4ff625-c9c2-4b0a-8993-772048633368",
   "metadata": {},
   "source": [
    "- 조건 2개:\n",
    "    if <조건식1>:\n",
    "        <실행할 코드1>\n",
    "    else:\n",
    "        <실행할 코드2>"
   ]
  },
  {
   "cell_type": "code",
   "execution_count": 157,
   "id": "69b6b575-c51a-4694-a959-4774508b0181",
   "metadata": {},
   "outputs": [
    {
     "name": "stdout",
     "output_type": "stream",
     "text": [
      "Hey!\n"
     ]
    }
   ],
   "source": [
    "if 4 == 9:\n",
    "    print('Yaay!')\n",
    "else:\n",
    "    print('Hey!')\n",
    "    \n",
    "#else 옆에는 조건식 x"
   ]
  },
  {
   "cell_type": "markdown",
   "id": "6b41a204-ff6b-4f97-93b1-7f4b177e8945",
   "metadata": {},
   "source": [
    "- 조건 3개 이상:\n",
    "    if <조건식1>:\n",
    "        <실행할 코드1>\n",
    "    elif <조건식2>:\n",
    "        <실행할 코드2>\n",
    "    ....\n",
    "    else:\n",
    "        <실행할 코드3>\n",
    "        "
   ]
  },
  {
   "cell_type": "markdown",
   "id": "e7ab3e03-29fd-4866-8b11-90547053fab0",
   "metadata": {},
   "source": [
    "#### 비교연산자\n",
    "- x < y, x <= y\n",
    "- x > y, x >= y\n",
    "- x == y (값)\n",
    "- x != y (값)\n",
    "- x is y (값, 메모리주소)\n",
    "- x is not y"
   ]
  },
  {
   "cell_type": "markdown",
   "id": "8bc5135c-fc43-455d-affc-9364c03022bb",
   "metadata": {},
   "source": [
    "### Quiz 1.\n",
    "- 학점 부여하기\n",
    "- 학점을 입력 받아서 \n",
    "    - 90점 이상이면 A\n",
    "    - 80, B\n",
    "    - 70, C\n",
    "    - 그 외, D\n",
    "    \n",
    "- 변수 설정 주의"
   ]
  },
  {
   "cell_type": "code",
   "execution_count": 172,
   "id": "891ee684-fb3c-42da-84da-a993d1e49ce7",
   "metadata": {
    "tags": []
   },
   "outputs": [
    {
     "name": "stdout",
     "output_type": "stream",
     "text": [
      "==== 학점 계산기 ====\n"
     ]
    },
    {
     "name": "stdin",
     "output_type": "stream",
     "text": [
      "점수를 입력하세요: 93\n"
     ]
    },
    {
     "name": "stdout",
     "output_type": "stream",
     "text": [
      "A입니다.\n"
     ]
    }
   ],
   "source": [
    "#내꺼\n",
    "print(\"==== 학점 계산기 ====\")\n",
    "score = float(input('점수를 입력하세요:'))\n",
    "\n",
    "if score >= 90:\n",
    "    print('A입니다.')\n",
    "elif score >= 80:\n",
    "    print('B입니다.')\n",
    "elif score >= 70:\n",
    "    print('C입니다.')\n",
    "else:\n",
    "    print('D입니다.')"
   ]
  },
  {
   "cell_type": "code",
   "execution_count": 171,
   "id": "42c87e61-e837-40d2-b638-bf47d6b365c1",
   "metadata": {
    "tags": []
   },
   "outputs": [
    {
     "name": "stdin",
     "output_type": "stream",
     "text": [
      "점수를 입력하세요. 93\n"
     ]
    },
    {
     "name": "stdout",
     "output_type": "stream",
     "text": [
      "93점, B입니다.\n"
     ]
    }
   ],
   "source": [
    "#남의꺼 1\n",
    "score = int(input('점수를 입력하세요.'))\n",
    "\n",
    "if score >= 95:\n",
    "    print(f'{score}점, A입니다.')\n",
    "elif score < 95 and score >= 80:\n",
    "    print(f'{score}점, B입니다.')\n",
    "elif score < 80 and score >= 70:\n",
    "    print(f'{score}점, C입니다.')\n",
    "else:\n",
    "    print(f'{score}점, D입니다.')"
   ]
  },
  {
   "cell_type": "code",
   "execution_count": 173,
   "id": "8ba5f40e-1a9f-40ae-90bc-83f5473aaa5b",
   "metadata": {
    "tags": []
   },
   "outputs": [
    {
     "name": "stdin",
     "output_type": "stream",
     "text": [
      "성적을 입력해주세요. 93\n"
     ]
    },
    {
     "name": "stdout",
     "output_type": "stream",
     "text": [
      "학점은 A입니다.\n"
     ]
    }
   ],
   "source": [
    "#남의꺼 2\n",
    "score = float(input('성적을 입력해주세요.'))\n",
    "\n",
    "if score >= 90:\n",
    "    grade = 'A'\n",
    "elif score >= 80:\n",
    "    grade = 'B'\n",
    "elif score >= 70:\n",
    "    grade = 'C'\n",
    "else:\n",
    "    grade = 'D'\n",
    "    \n",
    "print(f'학점은 {grade}입니다.')"
   ]
  },
  {
   "cell_type": "markdown",
   "id": "528db4f6-8922-463e-8b42-c0dc21852653",
   "metadata": {},
   "source": [
    "#### Quiz 2.\n",
    "- 아이디와 비밀번호 입력 받아서 둘 다 일치하면 로그인하기\n",
    "- 아이디, 비밀번호 각자 정해놓기\n",
    "- 일치하지 않을 때에는 창의적인 어떤 걸로 반환하기"
   ]
  },
  {
   "cell_type": "code",
   "execution_count": 158,
   "id": "b3084c32-a9c6-4e50-9547-56cae19f9e89",
   "metadata": {},
   "outputs": [
    {
     "name": "stdin",
     "output_type": "stream",
     "text": [
      "아이디를 입력하세요:  hufs\n",
      "비밀번호를 입력하세요:  java\n"
     ]
    },
    {
     "name": "stdout",
     "output_type": "stream",
     "text": [
      "다 틀렸는데요?\n"
     ]
    }
   ],
   "source": [
    "#내꺼\n",
    "id_official = 'hufs1234'\n",
    "pw_official = 'python'\n",
    "\n",
    "#선언하기 위해서는 문자열로 인식되도록 해야한다.\n",
    "\n",
    "id_input = input('아이디를 입력하세요: ')\n",
    "pw_input = input('비밀번호를 입력하세요: ')\n",
    "\n",
    "if id_input == id_official and pw_input == pw_official:\n",
    "    print('로그인 되었습니다.')\n",
    "elif id_input != id_official and pw_input == pw_official:\n",
    "    print('아이디가 틀렸습니다.')\n",
    "elif id_input == id_official and pw_input != pw_official:\n",
    "    print('비밀번호가 틀렸습니다.')\n",
    "else:\n",
    "    print('다 틀렸는데요?')\n"
   ]
  },
  {
   "cell_type": "markdown",
   "id": "70e3ba60-03fc-4647-b71d-908fc7b14ad3",
   "metadata": {},
   "source": [
    "#### 논리연산자\n",
    "- 여러 조건식을 비교할 때\n",
    "- 예: 10 < x < 20\n",
    "    - 파이썬에서만 가능한 표현\n",
    "    - (x > 10) 혹은 (x < 20)\n",
    "\n",
    "- and, & : 둘 다 참일 때 True\n",
    "- or, | : 둘 중 하나만 참이여도 True\n",
    "- not : 참 -> False , 거짓 -> True"
   ]
  },
  {
   "cell_type": "markdown",
   "id": "3397db2e-68a9-4cd7-84b8-ab9f7c4fbdd2",
   "metadata": {},
   "source": [
    "### Quiz 3.\n",
    "- quiz 1 확장판\n",
    "- 결석 횟수를 받아서 점수가 80점 이상인데 결석이 2번 이상이면 F\n",
    "- 나머지는 점수대로\n",
    "    - 논리연산자 사용\n",
    "    - if 구조를 크게 2번 가져갈 수 있다. "
   ]
  },
  {
   "cell_type": "code",
   "execution_count": 174,
   "id": "7702b438-1525-489c-ac76-43807ab1a7f4",
   "metadata": {},
   "outputs": [
    {
     "name": "stdout",
     "output_type": "stream",
     "text": [
      "==== 학점 계산기 ====\n"
     ]
    },
    {
     "name": "stdin",
     "output_type": "stream",
     "text": [
      "점수를 입력하세요: 85\n",
      "결석 횟수를 입력하세요:  2\n"
     ]
    },
    {
     "name": "stdout",
     "output_type": "stream",
     "text": [
      "F입니다.\n"
     ]
    }
   ],
   "source": [
    "#1.\n",
    "print(\"==== 학점 계산기 ====\")\n",
    "score = float(input('점수를 입력하세요:'))\n",
    "absence = int(input('결석 횟수를 입력하세요: '))\n",
    "\n",
    "if score >= 90 and absence < 2:\n",
    "    print('A입니다.')\n",
    "elif score >= 90 and absence >= 2:\n",
    "    print('F입니다.')\n",
    "elif score >= 80 and absence < 2:\n",
    "    print('B입니다.')\n",
    "elif score >= 80 and absence >= 2:\n",
    "    print('F입니다.')\n",
    "elif score >= 80:\n",
    "    print('B입니다.')\n",
    "elif score >= 70:\n",
    "    print('C입니다.')\n",
    "else:\n",
    "    print('D입니다.')"
   ]
  },
  {
   "cell_type": "code",
   "execution_count": 176,
   "id": "cba3314c-3729-4d59-8faf-d70852cbb634",
   "metadata": {},
   "outputs": [
    {
     "name": "stdout",
     "output_type": "stream",
     "text": [
      "==== 학점 계산기 ====\n"
     ]
    },
    {
     "name": "stdin",
     "output_type": "stream",
     "text": [
      "점수를 입력하세요:  80\n",
      "결석 횟수를 입력하세요:  2\n"
     ]
    },
    {
     "name": "stdout",
     "output_type": "stream",
     "text": [
      "학점은 F입니다.\n"
     ]
    }
   ],
   "source": [
    "#2.\n",
    "print(\"==== 학점 계산기 ====\")\n",
    "score = float(input('점수를 입력하세요: '))\n",
    "absence = int(input('결석 횟수를 입력하세요: '))\n",
    "\n",
    "if score >= 90 and absence < 2:\n",
    "    grade = 'A'\n",
    "elif score >= 90 and absence >= 2:\n",
    "    grade = 'F'\n",
    "elif score >= 80 and absence < 2:\n",
    "    grade = 'B'\n",
    "elif score >= 80 and absence >= 2:\n",
    "    grade = 'F'\n",
    "elif score >= 70:\n",
    "    grade = 'C'\n",
    "else:\n",
    "    grade = 'D'\n",
    "    \n",
    "print(f'학점은 {grade}입니다.')"
   ]
  },
  {
   "cell_type": "code",
   "execution_count": 18,
   "id": "2229c6dd-7880-44d6-9664-8d03be9ddd4e",
   "metadata": {},
   "outputs": [
    {
     "name": "stdout",
     "output_type": "stream",
     "text": [
      "==== 학점 계산기 ====\n"
     ]
    },
    {
     "name": "stdin",
     "output_type": "stream",
     "text": [
      "점수를 입력하세요:  50\n",
      "결석 횟수를 입력하세요:  2\n"
     ]
    },
    {
     "name": "stdout",
     "output_type": "stream",
     "text": [
      "학점은 D입니다.\n"
     ]
    }
   ],
   "source": [
    "#3.\n",
    "print(\"==== 학점 계산기 ====\")\n",
    "score = float(input('점수를 입력하세요: '))\n",
    "absence = int(input('결석 횟수를 입력하세요: '))\n",
    "\n",
    "if score > 90:\n",
    "    if absence < 2:\n",
    "        grade = 'A'\n",
    "    else :\n",
    "        grade = 'F'\n",
    "    \n",
    "if score > 80:\n",
    "    if absence < 2:\n",
    "        grade = 'B'\n",
    "    else :\n",
    "        grade = 'F'\n",
    "    \n",
    "if score >= 70:\n",
    "    grade = 'C'\n",
    "else:\n",
    "    grade = 'D'\n",
    "    \n",
    "print(f'학점은 {grade}입니다.')"
   ]
  },
  {
   "cell_type": "code",
   "execution_count": 19,
   "id": "b72ed6f2-63a4-4ff4-b5a1-4f541fd2c72f",
   "metadata": {},
   "outputs": [
    {
     "name": "stdout",
     "output_type": "stream",
     "text": [
      "====원의 면적 구하기====\n"
     ]
    },
    {
     "name": "stdin",
     "output_type": "stream",
     "text": [
      "반지름을 입력하세요 : 15\n"
     ]
    },
    {
     "name": "stdout",
     "output_type": "stream",
     "text": [
      "원의 면적은 706.5 입니다.\n"
     ]
    }
   ],
   "source": [
    "# 다른 QUIZ 연습_반지름으로 원의 면적 구하기\n",
    "\n",
    "print('====원의 면적 구하기====')\n",
    "\n",
    "radius = float(input('반지름을 입력하세요 :'))\n",
    "area = 3.14 * radius ** 2\n",
    "\n",
    "print(f'원의 면적은 {area} 입니다.') \n",
    "\n"
   ]
  },
  {
   "cell_type": "code",
   "execution_count": 23,
   "id": "8b2ad10c-134f-48ae-b709-296cd5e0cbc3",
   "metadata": {},
   "outputs": [
    {
     "name": "stdout",
     "output_type": "stream",
     "text": [
      "==== 자판기 ====\n",
      "음료 가격은 800원입니다.\n"
     ]
    },
    {
     "name": "stdin",
     "output_type": "stream",
     "text": [
      " 돈을 넣어주세요: 500\n"
     ]
    },
    {
     "name": "stdout",
     "output_type": "stream",
     "text": [
      "300 원을 더 지불해주세요.\n"
     ]
    }
   ],
   "source": [
    "#다른 QUIZ연습_자판기\n",
    "\n",
    "print('==== 자판기 ====')\n",
    "print('음료 가격은 800원입니다.')\n",
    "\n",
    "price_official = 800\n",
    "price_input = int(input(' 돈을 넣어주세요:'))\n",
    "\n",
    "\n",
    "if price_input ==  price_official :\n",
    "\tprint(' 음료를 제공합니다. ')\n",
    "elif price_input >= price_official :\n",
    "\tprint(f'잔돈 {price_input - price_official} 원 드릴게요.')\n",
    "else :\n",
    "\tprint(f'{price_official - price_input} 원을 더 지불해주세요.')"
   ]
  },
  {
   "cell_type": "markdown",
   "id": "614ce1d8-08e0-475c-846b-2f41290bdd7b",
   "metadata": {},
   "source": [
    "### 부족한 점\n",
    "\n",
    "- 파이썬을 처음 해봐서 익숙치 않다. \n",
    "- 개념정립이 제대로 되어있지 않다.\n",
    "\n",
    "### 해결책\n",
    "- 수업 시간에 배운 내용 복습 충실하게 하기\n",
    "- 책 보면서 개념정립 차근차근 하기\n",
    "- 어떻게 하면 보다 더 깔끔하게 코딩할 수 있을지 다른 사람들의 코드를 많이 보고 고민하기"
   ]
  }
 ],
 "metadata": {
  "kernelspec": {
   "display_name": "Python 3 (ipykernel)",
   "language": "python",
   "name": "python3"
  },
  "language_info": {
   "codemirror_mode": {
    "name": "ipython",
    "version": 3
   },
   "file_extension": ".py",
   "mimetype": "text/x-python",
   "name": "python",
   "nbconvert_exporter": "python",
   "pygments_lexer": "ipython3",
   "version": "3.9.7"
  }
 },
 "nbformat": 4,
 "nbformat_minor": 5
}
