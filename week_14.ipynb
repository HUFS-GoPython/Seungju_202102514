{
 "cells": [
  {
   "cell_type": "markdown",
   "id": "487596db-6d82-4ddc-b7d4-1c2dd9c7a0ac",
   "metadata": {},
   "source": [
    "### **파일과 디렉터리**\n",
    "- 디렉터리: 폴더의 다른 말. 파일이 논리적으로 묶인 단위\n",
    "- 파일: 컴퓨터를 실행하는 기본 단위.\n",
    "    - 파일명 + 확장자\n",
    "    - 확장자: 파일의 쓰임을 구분하는 글자\n",
    "        - .pdf, .xlsx, .txt, ..\n",
    "    - 종류: 바이너리 파일, 텍스트 파일\n",
    "        - 바이너리: 이진 정보로 저장됨\n",
    "            - 내용을 확인 못 함.\n",
    "            - 해당 확장자를 열 수 있는 프로그램이 필요함.\n",
    "        - 텍스트: 사람이 이해할 수 있는 문자열로 저장됨\n",
    "            - 메모장, html, py\n",
    "            - 변경 기준: 아스키코드, 유니코드\n",
    "            - 인코딩 (encoding)\n",
    "            - utf-8\n",
    "            - cp494"
   ]
  },
  {
   "cell_type": "markdown",
   "id": "2c3d00bf-7be5-4d44-a1a0-36f98bb8a75f",
   "metadata": {},
   "source": [
    "#### **파일 열기**\n",
    "- open(파일명, 모드)\n",
    "- 모드\n",
    "    - r: read (default)\n",
    "    \n",
    "    - w: write - 파일이 있으면 덮어쓰고, 없으면 생성\n",
    "    - x: 파일이 없을 때만 생성\n",
    "    - a: 있을 때 마지막 라인에 추가\n",
    "    \n",
    "    추가 모드\n",
    "    - b: binary\n",
    "    - t: text (default)\n",
    "    \n",
    "    'rb','rt'"
   ]
  },
  {
   "cell_type": "code",
   "execution_count": null,
   "id": "05becb3f-71db-4646-8267-cd6874b5eace",
   "metadata": {},
   "outputs": [],
   "source": [
    "# 파일 열기\n",
    "file = 'test.txt'\n",
    "f = open(file, 'r')"
   ]
  },
  {
   "cell_type": "code",
   "execution_count": null,
   "id": "ef748e12-2c68-48d1-9839-595a57ad28e5",
   "metadata": {},
   "outputs": [],
   "source": [
    "f"
   ]
  },
  {
   "cell_type": "markdown",
   "id": "f166db6c-6dc7-4272-879e-81556c52fd6c",
   "metadata": {},
   "source": [
    "#### **파일 읽기**\n",
    "- read(n): 전제를 하나의 str\n",
    "    - 포인터\n",
    "- readline(): 한줄만 str\n",
    "- readlines(): 전체를 list, 각 줄이 한 str"
   ]
  },
  {
   "cell_type": "code",
   "execution_count": null,
   "id": "2b41eb43-2412-44a9-8d45-841068a37c91",
   "metadata": {},
   "outputs": [],
   "source": [
    "# 파일 읽기\n",
    "f.read(5)"
   ]
  },
  {
   "cell_type": "code",
   "execution_count": null,
   "id": "a195b3e3-fa30-4558-af1a-0c6bb6d8432c",
   "metadata": {},
   "outputs": [],
   "source": [
    "f.close()"
   ]
  },
  {
   "cell_type": "code",
   "execution_count": null,
   "id": "d82c49c5-4777-4089-aa27-c0f22bdeaf2e",
   "metadata": {},
   "outputs": [],
   "source": [
    "f.readline()"
   ]
  },
  {
   "cell_type": "code",
   "execution_count": null,
   "id": "4218752d-d8ed-40d9-8eae-97d62b7e4ea0",
   "metadata": {},
   "outputs": [],
   "source": [
    "f = open(file, 'r')\n",
    "sents = f.readlines()\n",
    "sents = [s.strip() for s in sents] # 텍스트 정제\n",
    "f.close()"
   ]
  },
  {
   "cell_type": "code",
   "execution_count": null,
   "id": "2ff1e5fd-7cd9-4ead-8a32-f50e19601d50",
   "metadata": {},
   "outputs": [],
   "source": [
    "sents"
   ]
  },
  {
   "cell_type": "markdown",
   "id": "7a1a5205-41ea-46f7-8505-842af4cdd532",
   "metadata": {},
   "source": [
    "#### **파일 닫기**\n",
    "- 파일 여는 즉시 닫기\n",
    "- 자원 해제\n",
    "- 여는 것보다 닫는 것이 더 중요하다!"
   ]
  },
  {
   "cell_type": "code",
   "execution_count": null,
   "id": "ca6654e5-b84d-4d64-b663-937631578b9a",
   "metadata": {},
   "outputs": [],
   "source": [
    "with open(file, 'r') as f: # file\n",
    "    # open() 적용되는 블럭\n",
    "    content = f.read()\n",
    "# 파일이 자동으로 닫힘"
   ]
  },
  {
   "cell_type": "code",
   "execution_count": null,
   "id": "eb8fa0e3-1519-4628-8736-43555ca7099e",
   "metadata": {},
   "outputs": [],
   "source": [
    "content"
   ]
  },
  {
   "cell_type": "markdown",
   "id": "4ced4137-8185-4503-9c9c-f8e11f388331",
   "metadata": {},
   "source": [
    "#### **QUIZ**\n",
    "- readline 파일 읽는데, while 사용해서 한줄씩 읽고 strip()해서 리스트에 반환하는 함수 만들기"
   ]
  },
  {
   "cell_type": "code",
   "execution_count": null,
   "id": "9d162c0e-5f94-41e5-8166-f6262e47d115",
   "metadata": {},
   "outputs": [],
   "source": [
    "with open(file, 'r') as f: # while loop\n",
    "    content = f.readlines()\n",
    "    while True:\n",
    "        content = [s.strip() for s in content]\n",
    "    f.close()    "
   ]
  },
  {
   "cell_type": "markdown",
   "id": "92af41ab-b062-41d3-a436-82d35f049ac5",
   "metadata": {},
   "source": [
    "#### **경로 변경**\n",
    "- . : 현재 경로\n",
    "- .. : 상위 경로"
   ]
  },
  {
   "cell_type": "code",
   "execution_count": null,
   "id": "2e67e555-345a-489a-b9a3-a662f09f9292",
   "metadata": {},
   "outputs": [],
   "source": [
    "file = './folder/test.txt' \n",
    "\n",
    "with open(file) as f:\n",
    "    print(f.read())"
   ]
  },
  {
   "cell_type": "markdown",
   "id": "a855affe-37fe-42ab-a1a4-0fd998ac9844",
   "metadata": {},
   "source": [
    "#### **쓰기**\n",
    "- 인코딩 유의"
   ]
  },
  {
   "cell_type": "code",
   "execution_count": null,
   "id": "ebb5c263-7f92-4bba-88ac-c1029b959239",
   "metadata": {},
   "outputs": [],
   "source": [
    "data = list(range(10))\n",
    "\n",
    "with open('test2.txt','w',encoding=\"utf-8\") as f:\n",
    "    for i in range(10):\n",
    "        data = f'{i}번째 줄입니다.\\n'\n",
    "        f.write(data)"
   ]
  },
  {
   "cell_type": "code",
   "execution_count": null,
   "id": "3336229e-d9fb-4ab8-836e-c7825482fd27",
   "metadata": {},
   "outputs": [],
   "source": [
    "file_out = open('test2.txt','a',encoding='utf-8')\n",
    "print(\"한 줄 추가했습니다.\", file=file_out)\n",
    "file_out.close"
   ]
  },
  {
   "cell_type": "markdown",
   "id": "444b8eae-2051-4f41-8cc1-74082d39e58e",
   "metadata": {},
   "source": [
    "#### **폴더 추가**\n",
    "- 폴더를 만들어서 접근\n",
    "    - import os\n",
    "    - os.mkdir('abc')"
   ]
  },
  {
   "cell_type": "code",
   "execution_count": null,
   "id": "4d57560c-d312-42fa-b18a-182774f660d5",
   "metadata": {},
   "outputs": [],
   "source": [
    "import os\n",
    "os.mkdir('abc')"
   ]
  },
  {
   "cell_type": "code",
   "execution_count": null,
   "id": "6de08934-43c0-4259-8f9c-9390bd51bc9a",
   "metadata": {},
   "outputs": [],
   "source": [
    "path = 'abc'\n",
    "\n",
    "#있는지 확인하기\n",
    "if not os.isdir(path):\n",
    "    os.mkdir(path)\n",
    "    \n",
    "#dir_name = './abc/test2.txt'\n",
    "dir_name = os.path.join(path, 'test2.txt')\n",
    "\n",
    "#재확인\n",
    "if not os.path.exists(dir_name):\n",
    "    with open(dir_name, 'w') as f: # 덮어쓸 가능성 배제\n",
    "        #..."
   ]
  },
  {
   "cell_type": "code",
   "execution_count": null,
   "id": "82c25e9b-d07e-4fff-b5d2-038e5f690ac3",
   "metadata": {},
   "outputs": [],
   "source": [
    "os.remove(file_name)\n",
    "os.rmdir(dir_name) # 폴더 안에 파일 있으면 삭제 못함"
   ]
  },
  {
   "cell_type": "code",
   "execution_count": null,
   "id": "b290cbbc-daa7-49a6-9b54-b72fcd99a02e",
   "metadata": {},
   "outputs": [],
   "source": [
    "import shutil\n",
    "\n",
    "shutil.rmtree(dir_name) # 강제로 전부 삭제"
   ]
  },
  {
   "cell_type": "code",
   "execution_count": null,
   "id": "5d3de000-f66f-49ac-854a-76f9213b6454",
   "metadata": {},
   "outputs": [],
   "source": [
    "# folder 새로 만들어서\n",
    "# 파일에 내용 쓰기\n",
    "#파일 열기"
   ]
  },
  {
   "cell_type": "code",
   "execution_count": null,
   "id": "baa143ae-7840-4dcc-8388-15ec4030c063",
   "metadata": {},
   "outputs": [],
   "source": [
    "import os\n",
    "\n",
    "path = 'new_folder'\n",
    "\n",
    "# 폴더 생성\n",
    "if not os.isdir(path):\n",
    "    os.mkdir(path)\n",
    "\n",
    "dir_name = os.path.join(path,'test.txt')\n",
    "\n",
    "# 파일 작성\n",
    "if not os.path.exists(dir_name):\n",
    "    with open(dir_name,'w') as f:\n",
    "        f.write(\"테스트\")\n",
    "        \n",
    "# 파일 열기\n",
    "with open(dir_name,'r') as f:\n",
    "    f.read()"
   ]
  },
  {
   "cell_type": "code",
   "execution_count": null,
   "id": "6677338d-bac8-4152-8905-a6cb23120891",
   "metadata": {},
   "outputs": [],
   "source": [
    "os.getcwd()"
   ]
  },
  {
   "cell_type": "code",
   "execution_count": null,
   "id": "b3b889a9-77b7-4605-9492-1447c207afd4",
   "metadata": {},
   "outputs": [],
   "source": [
    "os.chdir('..')"
   ]
  },
  {
   "cell_type": "markdown",
   "id": "bd7656ba-9c58-4787-bdcb-08203eb40b88",
   "metadata": {},
   "source": [
    "#### **pickle**\n",
    "- 객체를 파일로 저장하는 기능 제공\n",
    "- 리스트든nums = list(range(10)) 객체든 다 저장해서 불러오기 가능"
   ]
  },
  {
   "cell_type": "code",
   "execution_count": null,
   "id": "0e24dc25-e2a5-4b57-a7ac-cf1d658adb10",
   "metadata": {},
   "outputs": [],
   "source": [
    "nums = list(range(10))"
   ]
  },
  {
   "cell_type": "code",
   "execution_count": null,
   "id": "a9ecd28a-095a-4cdc-90c1-029578cfbfbc",
   "metadata": {},
   "outputs": [],
   "source": [
    "import pickle"
   ]
  },
  {
   "cell_type": "code",
   "execution_count": null,
   "id": "a023d773-e711-4167-918b-9b4089aca818",
   "metadata": {},
   "outputs": [],
   "source": [
    "with open('test.pickle','wb') as f:\n",
    "    pickle.dump(nums,f)"
   ]
  },
  {
   "cell_type": "code",
   "execution_count": null,
   "id": "9c4cd8a2-9d83-4d6b-b249-832d29d389dc",
   "metadata": {},
   "outputs": [],
   "source": [
    "with open('test.pickle','rb') as f:\n",
    "    number = pickle.load(f)"
   ]
  },
  {
   "cell_type": "code",
   "execution_count": null,
   "id": "e81bf0dc-8f87-43c9-974a-92ffba317306",
   "metadata": {},
   "outputs": [],
   "source": [
    "number"
   ]
  }
 ],
 "metadata": {
  "kernelspec": {
   "display_name": "Python 3 (ipykernel)",
   "language": "python",
   "name": "python3"
  },
  "language_info": {
   "codemirror_mode": {
    "name": "ipython",
    "version": 3
   },
   "file_extension": ".py",
   "mimetype": "text/x-python",
   "name": "python",
   "nbconvert_exporter": "python",
   "pygments_lexer": "ipython3",
   "version": "3.9.7"
  }
 },
 "nbformat": 4,
 "nbformat_minor": 5
}
