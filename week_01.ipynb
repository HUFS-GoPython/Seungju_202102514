{
 "cells": [
  {
   "cell_type": "markdown",
   "id": "fb7abcae-40c8-4975-837b-decca81e6701",
   "metadata": {},
   "source": [
    "## 프로그래밍\n",
    "  - 프로그래밍 언어를 사용하여 프로그램을 개발하는 것\n",
    "## programming language?\n",
    "  - 프로그램을 개발할 때 사용하는 도구\n",
    "  - 인간이 원하는 것을 컴퓨터에게 명령할 때 사용하는 컴퓨터가 이해할 수 있는 언어\n",
    "## 파이썬?\n",
    "  - 쉽다. 간결하다.\n",
    "  - 라이브러리가 많다.\n",
    "  "
   ]
  },
  {
   "cell_type": "markdown",
   "id": "01b2ff05-f006-4ce3-a50d-3c2bdad3d1e7",
   "metadata": {},
   "source": [
    "## Chapter 2. Data: Types, Values, Variables, and Names"
   ]
  },
  {
   "cell_type": "code",
   "execution_count": 1,
   "id": "6f6ae61d-379e-4cba-8b62-034bf4ef8ace",
   "metadata": {},
   "outputs": [
    {
     "data": {
      "text/plain": [
       "2"
      ]
     },
     "execution_count": 1,
     "metadata": {},
     "output_type": "execute_result"
    }
   ],
   "source": [
    "a = 2\n",
    "a"
   ]
  },
  {
   "cell_type": "code",
   "execution_count": 2,
   "id": "da585593-5d45-4fad-9f9b-7d19796f05fb",
   "metadata": {},
   "outputs": [
    {
     "data": {
      "text/plain": [
       "True"
      ]
     },
     "execution_count": 2,
     "metadata": {},
     "output_type": "execute_result"
    }
   ],
   "source": [
    "a == 2"
   ]
  },
  {
   "cell_type": "markdown",
   "id": "da7fe2f3-4546-47d0-806d-515ab4bae2d3",
   "metadata": {},
   "source": [
    "- 변수| variable: 특정 값을 저장하는 공간 a\n",
    "- 값| value: 2\n",
    "- 할당하다| assign: 변수에 값을 넣는 과정 \"2를 a에 넣었다.\" ***a는 2다. a==2\n",
    "- 자료형| type: 데이터의 형태 a 데이터의 형태? integer (int 타입)"
   ]
  },
  {
   "cell_type": "code",
   "execution_count": 5,
   "id": "d41c3f68-2865-4f2c-af57-665199591736",
   "metadata": {},
   "outputs": [
    {
     "name": "stdout",
     "output_type": "stream",
     "text": [
      "2\n"
     ]
    }
   ],
   "source": [
    "print(a)"
   ]
  },
  {
   "cell_type": "code",
   "execution_count": 6,
   "id": "4ae98eba-9a84-4a6f-b72d-38bb9eb567bd",
   "metadata": {},
   "outputs": [
    {
     "data": {
      "text/plain": [
       "2"
      ]
     },
     "execution_count": 6,
     "metadata": {},
     "output_type": "execute_result"
    }
   ],
   "source": [
    "a"
   ]
  },
  {
   "cell_type": "code",
   "execution_count": 7,
   "id": "24f10089-429f-474c-be4a-dad802d3338f",
   "metadata": {},
   "outputs": [
    {
     "data": {
      "text/plain": [
       "int"
      ]
     },
     "execution_count": 7,
     "metadata": {},
     "output_type": "execute_result"
    }
   ],
   "source": [
    "type(a) #type"
   ]
  },
  {
   "cell_type": "code",
   "execution_count": 8,
   "id": "a82ec7a1-9659-45e6-b159-ca2a1d83e3e4",
   "metadata": {},
   "outputs": [
    {
     "data": {
      "text/plain": [
       "int"
      ]
     },
     "execution_count": 8,
     "metadata": {},
     "output_type": "execute_result"
    }
   ],
   "source": [
    "type(2)"
   ]
  },
  {
   "cell_type": "code",
   "execution_count": 9,
   "id": "a035c783-32ea-4e6e-a26e-2c4f08cf60d3",
   "metadata": {},
   "outputs": [
    {
     "data": {
      "text/plain": [
       "bool"
      ]
     },
     "execution_count": 9,
     "metadata": {},
     "output_type": "execute_result"
    }
   ],
   "source": [
    "type(a==2) #bool, T/F"
   ]
  },
  {
   "cell_type": "markdown",
   "id": "c03193ab-caf7-4567-b374-f7de72d8f336",
   "metadata": {},
   "source": [
    "## Type\n",
    "- integer| 정수: 1,2,3....(int)\n",
    "- floating point number| 부동소수점: 1.0, 2.0, ..., 0.4(float)\n",
    "- string| 문자열: \"1\", 'apple'(str)\n",
    "- bool| 불리언: True/False(bool)"
   ]
  },
  {
   "cell_type": "code",
   "execution_count": 10,
   "id": "215848d2-dd52-4fa0-824b-a38a04e442a9",
   "metadata": {},
   "outputs": [
    {
     "data": {
      "text/plain": [
       "str"
      ]
     },
     "execution_count": 10,
     "metadata": {},
     "output_type": "execute_result"
    }
   ],
   "source": [
    "type(\"1\")"
   ]
  },
  {
   "cell_type": "code",
   "execution_count": 11,
   "id": "03958233-a151-4b44-aeb9-dffd67adf055",
   "metadata": {},
   "outputs": [
    {
     "data": {
      "text/plain": [
       "str"
      ]
     },
     "execution_count": 11,
     "metadata": {},
     "output_type": "execute_result"
    }
   ],
   "source": [
    "type('apple')"
   ]
  },
  {
   "cell_type": "code",
   "execution_count": 12,
   "id": "6a1e96fa-9dfb-40e6-815d-eb5c294b4c95",
   "metadata": {},
   "outputs": [
    {
     "ename": "NameError",
     "evalue": "name 'apple' is not defined",
     "output_type": "error",
     "traceback": [
      "\u001b[1;31m---------------------------------------------------------------------------\u001b[0m",
      "\u001b[1;31mNameError\u001b[0m                                 Traceback (most recent call last)",
      "\u001b[1;32m~\\AppData\\Local\\Temp/ipykernel_19480/2423857472.py\u001b[0m in \u001b[0;36m<module>\u001b[1;34m\u001b[0m\n\u001b[1;32m----> 1\u001b[1;33m \u001b[0mtype\u001b[0m\u001b[1;33m(\u001b[0m\u001b[0mapple\u001b[0m\u001b[1;33m)\u001b[0m \u001b[1;31m#변수명\u001b[0m\u001b[1;33m\u001b[0m\u001b[1;33m\u001b[0m\u001b[0m\n\u001b[0m",
      "\u001b[1;31mNameError\u001b[0m: name 'apple' is not defined"
     ]
    }
   ],
   "source": [
    "type(apple) #변수명"
   ]
  },
  {
   "cell_type": "code",
   "execution_count": 13,
   "id": "5b6934de-f4e3-496d-9dc1-905417815d8b",
   "metadata": {},
   "outputs": [
    {
     "data": {
      "text/plain": [
       "'kim'"
      ]
     },
     "execution_count": 13,
     "metadata": {},
     "output_type": "execute_result"
    }
   ],
   "source": [
    "name = 'kim'\n",
    "name"
   ]
  },
  {
   "cell_type": "code",
   "execution_count": 14,
   "id": "2555aa72-96ac-40a5-aab9-2a7c0a753fe8",
   "metadata": {},
   "outputs": [
    {
     "name": "stdout",
     "output_type": "stream",
     "text": [
      "kim\n"
     ]
    }
   ],
   "source": [
    "print(name)"
   ]
  },
  {
   "cell_type": "code",
   "execution_count": 17,
   "id": "14f1cf54-6f82-4184-b71e-aa07ece96808",
   "metadata": {},
   "outputs": [
    {
     "name": "stdout",
     "output_type": "stream",
     "text": [
      "kim\n"
     ]
    }
   ],
   "source": [
    "print('kim') # 값으로 출력하는 것은 지양할 것"
   ]
  },
  {
   "cell_type": "markdown",
   "id": "4a625f0d-6e03-4566-9a41-5842ac7cb31e",
   "metadata": {},
   "source": [
    "## 할당\n",
    "- = 이 기호를 사용한다.\n",
    "- 수학에서 '양변이 같다'라는 의미로 사용되지만, 프로그래밍에서는 '할당하다'라는 의미가 추가된다.\n",
    "- \"오른쪽의 값을 왼쪽에 할당한다\"\n",
    "\n",
    "- 1. 오른쪽에 있는 모든 것은 값을 가져야 한다. (초기화를 해야 한다)\n",
    "- 2. 같은 변수에 다른 값을 넣을 수 있다."
   ]
  },
  {
   "cell_type": "code",
   "execution_count": 18,
   "id": "ad6d639f-7b4d-4b92-a005-fc35bbc0d2ee",
   "metadata": {},
   "outputs": [],
   "source": [
    "x = 4 # 초기화\n",
    "y = x + 3"
   ]
  },
  {
   "cell_type": "code",
   "execution_count": 19,
   "id": "211add46-40c9-4615-8451-62e0a5ffabc4",
   "metadata": {},
   "outputs": [
    {
     "data": {
      "text/plain": [
       "(4, 7)"
      ]
     },
     "execution_count": 19,
     "metadata": {},
     "output_type": "execute_result"
    }
   ],
   "source": [
    "x, y"
   ]
  },
  {
   "cell_type": "code",
   "execution_count": 20,
   "id": "8c6f637e-89e0-4cea-b317-43ccc8281747",
   "metadata": {},
   "outputs": [],
   "source": [
    "name = 'kim'\n",
    "name = 'lee'\n",
    "name = 'park'\n",
    "name = 4"
   ]
  },
  {
   "cell_type": "code",
   "execution_count": 21,
   "id": "db177a9b-aeb1-42dc-b5ab-47d8ea06dbb9",
   "metadata": {},
   "outputs": [
    {
     "name": "stdout",
     "output_type": "stream",
     "text": [
      "4\n"
     ]
    }
   ],
   "source": [
    "print(name) # 변수명 동일하게 사용하지 말라"
   ]
  },
  {
   "cell_type": "code",
   "execution_count": 22,
   "id": "b8ff7861-f355-43ed-acdb-1faa9a6f0d54",
   "metadata": {},
   "outputs": [],
   "source": [
    "text = 'abc'\n",
    "text = 'cde'"
   ]
  },
  {
   "cell_type": "markdown",
   "id": "debc09ab-9129-4cb5-9a26-297e15810005",
   "metadata": {},
   "source": [
    "## 변수명 정하기\n",
    "- 나쁜 변수명: a, b, c, a1, b1...\n",
    "- 의미 있는 이름으로 선언해야 한다.\n",
    "- 소문자, 대문자, 숫자, 언더바를 사용한다. 예: name, name2, my_name, Name, NAME"
   ]
  },
  {
   "cell_type": "code",
   "execution_count": 23,
   "id": "411c4c2f-074f-4381-b593-5d856cdbbe39",
   "metadata": {},
   "outputs": [
    {
     "name": "stdout",
     "output_type": "stream",
     "text": [
      "juliette jessica laura\n"
     ]
    }
   ],
   "source": [
    "name = 'juliette'\n",
    "name1 = 'jessica'\n",
    "my_name = 'laura'\n",
    "# 카멜표기법\n",
    "\n",
    "print(name, name1, my_name)"
   ]
  },
  {
   "cell_type": "code",
   "execution_count": 24,
   "id": "75e60956-2515-4eb5-8783-787b505ce91e",
   "metadata": {},
   "outputs": [
    {
     "name": "stdout",
     "output_type": "stream",
     "text": [
      "juliette,jessica,laura\n"
     ]
    }
   ],
   "source": [
    "print(name, name1, my_name, sep=\",\")"
   ]
  },
  {
   "cell_type": "markdown",
   "id": "37a301b2-254b-496c-958b-d96c6dad1783",
   "metadata": {},
   "source": [
    "##### 안 되는 것\n",
    "- 숫자로 시작할 수 없다. 예: 22name, 22_name\n",
    "- 예약어로 선언할 수 없다. 예: def, False..."
   ]
  },
  {
   "cell_type": "code",
   "execution_count": 25,
   "id": "7493a09c-1306-420e-b59d-2c0a438545a2",
   "metadata": {},
   "outputs": [
    {
     "name": "stdout",
     "output_type": "stream",
     "text": [
      "\n",
      "Here is a list of the Python keywords.  Enter any keyword to get more help.\n",
      "\n",
      "False               break               for                 not\n",
      "None                class               from                or\n",
      "True                continue            global              pass\n",
      "__peg_parser__      def                 if                  raise\n",
      "and                 del                 import              return\n",
      "as                  elif                in                  try\n",
      "assert              else                is                  while\n",
      "async               except              lambda              with\n",
      "await               finally             nonlocal            yield\n",
      "\n"
     ]
    }
   ],
   "source": [
    "# if = 'kim'\n",
    "help(\"keywords\")"
   ]
  },
  {
   "cell_type": "markdown",
   "id": "253ab9fe-58da-4a83-85eb-ac81c5041cb0",
   "metadata": {},
   "source": [
    "##### 조심할 것 (특별한 용도 존재)\n",
    "- 언더바로 시작하는 변수명: _name\n",
    "- 더블 언더바로 시작하는 변수명: __name__\n",
    "- 대문자로 시작하는 변수명: Name\n",
    "- 전체 대문자: NAME"
   ]
  },
  {
   "cell_type": "code",
   "execution_count": 26,
   "id": "c5eceba5-f414-41e1-9424-9c411a44381a",
   "metadata": {},
   "outputs": [],
   "source": [
    "# 변수명은 대소문자 구분한다.\n",
    "num = 43\n",
    "Num = 44"
   ]
  },
  {
   "cell_type": "code",
   "execution_count": 28,
   "id": "fbc27615-d3ec-413b-be01-4da9de7b675d",
   "metadata": {},
   "outputs": [
    {
     "data": {
      "text/plain": [
       "False"
      ]
     },
     "execution_count": 28,
     "metadata": {},
     "output_type": "execute_result"
    }
   ],
   "source": [
    "num == Num"
   ]
  },
  {
   "cell_type": "code",
   "execution_count": 29,
   "id": "877a184e-9c4a-4f1d-87eb-7ea0c7300dc4",
   "metadata": {},
   "outputs": [
    {
     "data": {
      "text/plain": [
       "False"
      ]
     },
     "execution_count": 29,
     "metadata": {},
     "output_type": "execute_result"
    }
   ],
   "source": [
    "num = 'number'\n",
    "Num = 'Number'\n",
    "\n",
    "num == Num"
   ]
  },
  {
   "cell_type": "code",
   "execution_count": 30,
   "id": "3eed8b89-e74a-4a4c-bff1-00250b9ea3e9",
   "metadata": {},
   "outputs": [
    {
     "data": {
      "text/plain": [
       "True"
      ]
     },
     "execution_count": 30,
     "metadata": {},
     "output_type": "execute_result"
    }
   ],
   "source": [
    "num != Num"
   ]
  }
 ],
 "metadata": {
  "kernelspec": {
   "display_name": "Python 3 (ipykernel)",
   "language": "python",
   "name": "python3"
  },
  "language_info": {
   "codemirror_mode": {
    "name": "ipython",
    "version": 3
   },
   "file_extension": ".py",
   "mimetype": "text/x-python",
   "name": "python",
   "nbconvert_exporter": "python",
   "pygments_lexer": "ipython3",
   "version": "3.9.7"
  }
 },
 "nbformat": 4,
 "nbformat_minor": 5
}
