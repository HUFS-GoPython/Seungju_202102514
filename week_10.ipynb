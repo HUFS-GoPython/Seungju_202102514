{
 "cells": [
  {
   "cell_type": "markdown",
   "id": "40d3dc8c-b862-4515-b6b3-df451d288239",
   "metadata": {},
   "source": [
    "### **10. 객체와 클래스**\n",
    "- object(객체): 속성과 행동을 가짐\n",
    "    - 예: 자동차, 강아지, 꽃 **thing**\n",
    "- 속성\n",
    "     - 자동차: 브랜드, 색, 속도, 모델 **변수**\n",
    "     - 강아지: 이름, 종, 색, 무게\n",
    "- 행동\n",
    "     - 자동차: 가다, 서다, 회전, 주차 **메소드(함수)**\n",
    "     - 강아지: 뛰다, 짖다, 자다, 핥다\n",
    "        "
   ]
  },
  {
   "cell_type": "markdown",
   "id": "0513848e-3ecf-495a-9e62-34fce2e99849",
   "metadata": {},
   "source": [
    "**클래스**\n",
    "\n",
    "- 이름: 첫 글자 대문자\n",
    "- nice car -> Nice_car (x)\n",
    "- NiceCar (O)\n",
    "- 정의부 = 붕어빵 틀\n",
    "- 선언부 = 붕어빵"
   ]
  },
  {
   "cell_type": "code",
   "execution_count": 3,
   "id": "7519165f-a712-40ce-8056-c1423c43f305",
   "metadata": {},
   "outputs": [
    {
     "data": {
      "text/plain": [
       "<__main__.Car at 0x112cc5361f0>"
      ]
     },
     "execution_count": 3,
     "metadata": {},
     "output_type": "execute_result"
    }
   ],
   "source": [
    "# 정의부\n",
    "class Car: # 객체\n",
    "    pass\n",
    "\n",
    "#선언부\n",
    "my_car = Car()\n",
    "my_car # instance == 붕어빵"
   ]
  },
  {
   "cell_type": "code",
   "execution_count": 4,
   "id": "77f015dd-2e7a-467e-83a7-de57a73d8bca",
   "metadata": {},
   "outputs": [],
   "source": [
    "my_car.name = 'bmw'\n",
    "my_car.color = 'white'"
   ]
  },
  {
   "cell_type": "code",
   "execution_count": 5,
   "id": "16529553-5b27-4c3c-ad73-f9e5959e9daa",
   "metadata": {},
   "outputs": [
    {
     "data": {
      "text/plain": [
       "'bmw'"
      ]
     },
     "execution_count": 5,
     "metadata": {},
     "output_type": "execute_result"
    }
   ],
   "source": [
    "my_car.name"
   ]
  },
  {
   "cell_type": "markdown",
   "id": "30c93521-3e99-49c5-af6e-06b51478a3a3",
   "metadata": {},
   "source": [
    "**1. 속성 정의**\n",
    "- 단점: 객체 재사용 불가능"
   ]
  },
  {
   "cell_type": "code",
   "execution_count": 16,
   "id": "3e4a99bc-425f-4acd-92aa-315c50b7b46e",
   "metadata": {},
   "outputs": [],
   "source": [
    "class Car:\n",
    "    name = 'BMW'"
   ]
  },
  {
   "cell_type": "code",
   "execution_count": 17,
   "id": "3ecec415-ecaf-4eec-ac53-635d47ce1a9f",
   "metadata": {},
   "outputs": [
    {
     "data": {
      "text/plain": [
       "'BMW'"
      ]
     },
     "execution_count": 17,
     "metadata": {},
     "output_type": "execute_result"
    }
   ],
   "source": [
    "your_car = Car()\n",
    "your_car.name"
   ]
  },
  {
   "cell_type": "code",
   "execution_count": 18,
   "id": "299ac07e-c39e-4bd9-b588-b93ea2fd417b",
   "metadata": {},
   "outputs": [
    {
     "data": {
      "text/plain": [
       "'Kia'"
      ]
     },
     "execution_count": 18,
     "metadata": {},
     "output_type": "execute_result"
    }
   ],
   "source": [
    "your_car.name = 'Kia'\n",
    "your_car.name"
   ]
  },
  {
   "cell_type": "markdown",
   "id": "712408eb-de02-468c-aae7-819248d03506",
   "metadata": {},
   "source": [
    "**2. 속성 초기화 함수(init)**\n",
    "- 객체 만들 때 들어오는 값으로 이름 설정\n",
    "- self == instance(인스턴스 자신)\n",
    "- Nome == 없음"
   ]
  },
  {
   "cell_type": "code",
   "execution_count": 69,
   "id": "4caf9036-3336-4004-90b5-d904f42acce4",
   "metadata": {},
   "outputs": [],
   "source": [
    "class Car:\n",
    "    def __init__(self, name, model = None, color = 'black'):\n",
    "        self.name = name\n",
    "        self.model = model\n",
    "        self.color = color\n",
    "        \n",
    "    def drive(self):\n",
    "        print(f'{self.name}가 출발합니다')\n",
    "    \n",
    "    def stop(self):\n",
    "        print('차가 섭니다')\n",
    "        \n",
    "    def change_color(self): \n",
    "        # self.color = 'gray'\n",
    "        self.color = color     \n",
    "        "
   ]
  },
  {
   "cell_type": "code",
   "execution_count": 22,
   "id": "a1e8312f-8768-4362-8299-b5a6ffc3205c",
   "metadata": {},
   "outputs": [],
   "source": [
    "her_car = Car(name = 'Hyundai')"
   ]
  },
  {
   "cell_type": "code",
   "execution_count": 23,
   "id": "99107b96-8fcb-45d9-9dc2-99f18dc0b373",
   "metadata": {},
   "outputs": [
    {
     "data": {
      "text/plain": [
       "'Hyundai'"
      ]
     },
     "execution_count": 23,
     "metadata": {},
     "output_type": "execute_result"
    }
   ],
   "source": [
    "her_car.name"
   ]
  },
  {
   "cell_type": "code",
   "execution_count": 24,
   "id": "8bf30349-06c3-47c3-9304-497a08be0ccb",
   "metadata": {},
   "outputs": [
    {
     "data": {
      "text/plain": [
       "'Toyota'"
      ]
     },
     "execution_count": 24,
     "metadata": {},
     "output_type": "execute_result"
    }
   ],
   "source": [
    "car2 = Car('Toyota')\n",
    "car2.name"
   ]
  },
  {
   "cell_type": "code",
   "execution_count": 28,
   "id": "1c699d37-172f-4e61-b8d4-f34e7b79305c",
   "metadata": {},
   "outputs": [
    {
     "name": "stdout",
     "output_type": "stream",
     "text": [
      "Kia가 출발합니다\n"
     ]
    }
   ],
   "source": [
    "car3.drive()"
   ]
  },
  {
   "cell_type": "code",
   "execution_count": 29,
   "id": "42489ac2-7276-4bfe-9719-582b6b2224fe",
   "metadata": {},
   "outputs": [
    {
     "name": "stdout",
     "output_type": "stream",
     "text": [
      "차가 섭니다\n"
     ]
    }
   ],
   "source": [
    "car3.stop()"
   ]
  },
  {
   "cell_type": "code",
   "execution_count": 70,
   "id": "c9f35947-90d5-44cc-bb87-52d26346c593",
   "metadata": {},
   "outputs": [
    {
     "data": {
      "text/plain": [
       "'black'"
      ]
     },
     "execution_count": 70,
     "metadata": {},
     "output_type": "execute_result"
    }
   ],
   "source": [
    "car3 = Car('Kia', 'SM6')\n",
    "car3.color"
   ]
  },
  {
   "cell_type": "code",
   "execution_count": 59,
   "id": "e336c06d-fe1a-45ce-aa67-2ea260034ea0",
   "metadata": {},
   "outputs": [
    {
     "data": {
      "text/plain": [
       "'SM6'"
      ]
     },
     "execution_count": 59,
     "metadata": {},
     "output_type": "execute_result"
    }
   ],
   "source": [
    "car3.model"
   ]
  },
  {
   "cell_type": "code",
   "execution_count": 66,
   "id": "ff8dab42-1660-4b59-9c2a-d0c7183a0e3c",
   "metadata": {},
   "outputs": [
    {
     "data": {
      "text/plain": [
       "'black'"
      ]
     },
     "execution_count": 66,
     "metadata": {},
     "output_type": "execute_result"
    }
   ],
   "source": [
    "car3.color"
   ]
  },
  {
   "cell_type": "code",
   "execution_count": 71,
   "id": "194cd15d-a592-4ead-bf27-743f787726d7",
   "metadata": {
    "collapsed": true,
    "jupyter": {
     "outputs_hidden": true
    },
    "tags": []
   },
   "outputs": [
    {
     "ename": "TypeError",
     "evalue": "change_color() takes 1 positional argument but 2 were given",
     "output_type": "error",
     "traceback": [
      "\u001b[1;31m---------------------------------------------------------------------------\u001b[0m",
      "\u001b[1;31mTypeError\u001b[0m                                 Traceback (most recent call last)",
      "\u001b[1;32m~\\AppData\\Local\\Temp/ipykernel_13804/4062455041.py\u001b[0m in \u001b[0;36m<module>\u001b[1;34m\u001b[0m\n\u001b[1;32m----> 1\u001b[1;33m \u001b[0mcar3\u001b[0m\u001b[1;33m.\u001b[0m\u001b[0mchange_color\u001b[0m\u001b[1;33m(\u001b[0m\u001b[1;34m'emerald'\u001b[0m\u001b[1;33m)\u001b[0m\u001b[1;33m\u001b[0m\u001b[1;33m\u001b[0m\u001b[0m\n\u001b[0m\u001b[0;32m      2\u001b[0m \u001b[0mcar3\u001b[0m\u001b[1;33m.\u001b[0m\u001b[0mcolor\u001b[0m\u001b[1;33m\u001b[0m\u001b[1;33m\u001b[0m\u001b[0m\n",
      "\u001b[1;31mTypeError\u001b[0m: change_color() takes 1 positional argument but 2 were given"
     ]
    }
   ],
   "source": [
    "car3.change_color('emerald')\n",
    "car3.color"
   ]
  },
  {
   "cell_type": "code",
   "execution_count": 73,
   "id": "fde684d5-a7ac-4d49-9e24-542d1269cafb",
   "metadata": {},
   "outputs": [
    {
     "name": "stdout",
     "output_type": "stream",
     "text": [
      "Kia가 출발합니다\n"
     ]
    }
   ],
   "source": [
    "car3.drive()"
   ]
  },
  {
   "cell_type": "markdown",
   "id": "b4b3962a-618d-4ae6-9bc0-9832a66a9aa1",
   "metadata": {},
   "source": [
    "#### **캡슐화, 정보은닉**\n",
    "- public -> private\n",
    "- getter, setter"
   ]
  },
  {
   "cell_type": "code",
   "execution_count": 74,
   "id": "da3cc2c4-0ac6-4e5c-a118-537a931882ea",
   "metadata": {},
   "outputs": [
    {
     "data": {
      "text/plain": [
       "'red'"
      ]
     },
     "execution_count": 74,
     "metadata": {},
     "output_type": "execute_result"
    }
   ],
   "source": [
    "class Fruit:\n",
    "    color = 'red'\n",
    "    \n",
    "kiwi = Fruit()\n",
    "kiwi.color"
   ]
  },
  {
   "cell_type": "code",
   "execution_count": 75,
   "id": "da59044e-d105-408b-9e38-b5c0165b9253",
   "metadata": {},
   "outputs": [],
   "source": [
    "Fruit.color = 'black'"
   ]
  },
  {
   "cell_type": "code",
   "execution_count": 76,
   "id": "326028bb-e1a8-41e0-b302-2d47a3abddfa",
   "metadata": {},
   "outputs": [
    {
     "data": {
      "text/plain": [
       "'black'"
      ]
     },
     "execution_count": 76,
     "metadata": {},
     "output_type": "execute_result"
    }
   ],
   "source": [
    "apple = Fruit()\n",
    "apple.color"
   ]
  },
  {
   "cell_type": "markdown",
   "id": "cbc7fb59-896e-415a-ad52-1e7a1bfb199d",
   "metadata": {},
   "source": [
    "#### **get, set**\n",
    "- getter: 클래스 내 객체 변수 반환\n",
    "- setter: 클래스 내 객체 변수 설정"
   ]
  },
  {
   "cell_type": "markdown",
   "id": "a7fddfa2-d93b-4a9a-b892-be8b153559bf",
   "metadata": {},
   "source": [
    "### **1. 기본** "
   ]
  },
  {
   "cell_type": "code",
   "execution_count": 77,
   "id": "b136aa96-363a-47cc-aee8-73bd7ac74b26",
   "metadata": {},
   "outputs": [],
   "source": [
    "class Car:\n",
    "    def __init__(self, input_name):\n",
    "        self.name = input_name\n",
    "        \n",
    "    def get_name(self):\n",
    "        # 변수 반환\n",
    "        return self.name\n",
    "    \n",
    "    def set_name(self, input_name):\n",
    "        self.name = input_name\n",
    "        \n",
    "c = Car('name1')    "
   ]
  },
  {
   "cell_type": "code",
   "execution_count": 101,
   "id": "50d42aef-d61f-4963-9c9b-105b59cc9d7b",
   "metadata": {},
   "outputs": [
    {
     "data": {
      "text/plain": [
       "'name1'"
      ]
     },
     "execution_count": 101,
     "metadata": {},
     "output_type": "execute_result"
    }
   ],
   "source": [
    "c.get_name()"
   ]
  },
  {
   "cell_type": "code",
   "execution_count": 102,
   "id": "a15e51b6-4eb0-4f0d-99f3-396f262ad91a",
   "metadata": {},
   "outputs": [
    {
     "data": {
      "text/plain": [
       "'name2'"
      ]
     },
     "execution_count": 102,
     "metadata": {},
     "output_type": "execute_result"
    }
   ],
   "source": [
    "c.set_name('name2')\n",
    "c.name"
   ]
  },
  {
   "cell_type": "code",
   "execution_count": 103,
   "id": "127b6da9-2290-4d5c-aff7-30c0999dfb1f",
   "metadata": {},
   "outputs": [
    {
     "data": {
      "text/plain": [
       "'name3'"
      ]
     },
     "execution_count": 103,
     "metadata": {},
     "output_type": "execute_result"
    }
   ],
   "source": [
    "c.name = 'name3'\n",
    "c.name"
   ]
  },
  {
   "cell_type": "markdown",
   "id": "f0a4bfac-4b65-4ef6-93a5-2aadb41c5c38",
   "metadata": {},
   "source": [
    "### **2. hidden** "
   ]
  },
  {
   "cell_type": "code",
   "execution_count": 105,
   "id": "a6714566-0ab1-4a9b-9713-99cd1a4342b5",
   "metadata": {},
   "outputs": [
    {
     "data": {
      "text/plain": [
       "'name_1'"
      ]
     },
     "execution_count": 105,
     "metadata": {},
     "output_type": "execute_result"
    }
   ],
   "source": [
    "class Car:\n",
    "    def __init__(self, input_name):\n",
    "        self.hidden_name = input_name\n",
    "        \n",
    "    def get_name(self):\n",
    "        # 변수 반환\n",
    "        return self.hidden_name\n",
    "    \n",
    "    def set_name(self, input_name):\n",
    "        self.hidden_name = input_name\n",
    "        \n",
    "    name = property(get_name, set_name)\n",
    "    \n",
    "d = Car('name_1')\n",
    "d.name"
   ]
  },
  {
   "cell_type": "markdown",
   "id": "6e13f4f6-31e0-46fc-8e36-760f0c377ae4",
   "metadata": {},
   "source": [
    "### **3. decorator**  "
   ]
  },
  {
   "cell_type": "code",
   "execution_count": 80,
   "id": "51315919-44f7-4c8b-bf78-a6f22fac3fc7",
   "metadata": {},
   "outputs": [],
   "source": [
    "class Car:\n",
    "    def __init__(self, input_name):\n",
    "        self.hidden_name = input_name\n",
    "        \n",
    "    @property    \n",
    "    def name(self):\n",
    "        return self.hidden_name\n",
    "    \n",
    "    @name.setter\n",
    "    def name(self, input_name):\n",
    "        self.hidden_name = input_name"
   ]
  },
  {
   "cell_type": "code",
   "execution_count": 81,
   "id": "1e2b8bd7-e355-4cc6-bdd5-92ef1b37e3b5",
   "metadata": {},
   "outputs": [
    {
     "data": {
      "text/plain": [
       "'name a'"
      ]
     },
     "execution_count": 81,
     "metadata": {},
     "output_type": "execute_result"
    }
   ],
   "source": [
    "e = Car('name a')\n",
    "e.name"
   ]
  },
  {
   "cell_type": "code",
   "execution_count": 82,
   "id": "acaef3cf-18c0-4d0e-9502-607bd7e7b856",
   "metadata": {},
   "outputs": [
    {
     "data": {
      "text/plain": [
       "'name a'"
      ]
     },
     "execution_count": 82,
     "metadata": {},
     "output_type": "execute_result"
    }
   ],
   "source": [
    "e.hidden_name"
   ]
  },
  {
   "cell_type": "markdown",
   "id": "72f4c844-0da4-4f16-b0e6-558dd80acc12",
   "metadata": {},
   "source": [
    "### **4. 아예 가리기** "
   ]
  },
  {
   "cell_type": "code",
   "execution_count": 83,
   "id": "3ccb4bd9-018d-4f91-a0ba-d4291f656625",
   "metadata": {},
   "outputs": [],
   "source": [
    "class Car:\n",
    "    def __init__(self, input_name):\n",
    "        self.__name = input_name\n",
    "    \n",
    "    @property    \n",
    "    def name(self):\n",
    "        return self.__name\n",
    "    \n",
    "    @name.setter\n",
    "    def name(self, input_name):\n",
    "        self.__name = input_name"
   ]
  },
  {
   "cell_type": "code",
   "execution_count": 84,
   "id": "04dae0c1-ee9e-4b25-bece-e5274bd8b7c1",
   "metadata": {},
   "outputs": [
    {
     "ename": "AttributeError",
     "evalue": "'Car' object has no attribute '__name'",
     "output_type": "error",
     "traceback": [
      "\u001b[1;31m---------------------------------------------------------------------------\u001b[0m",
      "\u001b[1;31mAttributeError\u001b[0m                            Traceback (most recent call last)",
      "\u001b[1;32m~\\AppData\\Local\\Temp/ipykernel_13804/229484777.py\u001b[0m in \u001b[0;36m<module>\u001b[1;34m\u001b[0m\n\u001b[0;32m      1\u001b[0m \u001b[0mf\u001b[0m \u001b[1;33m=\u001b[0m \u001b[0mCar\u001b[0m\u001b[1;33m(\u001b[0m\u001b[1;34m'name b'\u001b[0m\u001b[1;33m)\u001b[0m\u001b[1;33m\u001b[0m\u001b[1;33m\u001b[0m\u001b[0m\n\u001b[1;32m----> 2\u001b[1;33m \u001b[0mf\u001b[0m\u001b[1;33m.\u001b[0m\u001b[0m__name\u001b[0m\u001b[1;33m\u001b[0m\u001b[1;33m\u001b[0m\u001b[0m\n\u001b[0m",
      "\u001b[1;31mAttributeError\u001b[0m: 'Car' object has no attribute '__name'"
     ]
    }
   ],
   "source": [
    "f = Car('name b')\n",
    "f.__name"
   ]
  },
  {
   "cell_type": "code",
   "execution_count": 85,
   "id": "e6428782-9a8f-448d-bc16-e23aaefc0d2a",
   "metadata": {},
   "outputs": [
    {
     "data": {
      "text/plain": [
       "10"
      ]
     },
     "execution_count": 85,
     "metadata": {},
     "output_type": "execute_result"
    }
   ],
   "source": [
    "class Circle:\n",
    "    def __init__(self,radius):\n",
    "        self.radius = radius\n",
    "        \n",
    "    @property    \n",
    "    def parameter(self):\n",
    "        return self.radius * 2\n",
    "    \n",
    "ex = Circle(5)\n",
    "ex.parameter"
   ]
  },
  {
   "cell_type": "code",
   "execution_count": 86,
   "id": "011370e3-9dd3-4703-b4ae-019d7a9a4ebe",
   "metadata": {},
   "outputs": [
    {
     "data": {
      "text/plain": [
       "38"
      ]
     },
     "execution_count": 86,
     "metadata": {},
     "output_type": "execute_result"
    }
   ],
   "source": [
    "ex.radius = 19\n",
    "ex.parameter"
   ]
  },
  {
   "cell_type": "markdown",
   "id": "dcaa6d68-938a-4e9b-89b6-dc9e4ecab897",
   "metadata": {},
   "source": [
    "### **실습**\n",
    "- 메모장, 메모 구현하기\n",
    "- 메모장  \n",
    "    - 구성: 제목, 페이지 번호, 메모\n",
    "    - 행동: 메모 추가하다, 메모 삭제하다, 페이지 번호 확인하다\n",
    "- 메모  \n",
    "    - 속성: 글귀\n",
    "    - 행동: 쓰다, 지우다\n",
    "\n",
    "- 사용  \n",
    "    - *메모 쓴다\n",
    "    - *메모장에 추가\n",
    "    - *페이지 번호가 늘어난다\n",
    "    - *메모삭제\n",
    "    - *페이지 번호 줄어든다\n",
    "    - *메모장 > 제목만 은닉시키다"
   ]
  },
  {
   "cell_type": "code",
   "execution_count": 140,
   "id": "45a5b29e-8dca-4773-b2f8-6b5d0a9111b2",
   "metadata": {},
   "outputs": [
    {
     "name": "stdout",
     "output_type": "stream",
     "text": [
      "우리 모두 스스로가 원하는 리더가 됩시다\n",
      "모두가 함께 앞으로 나아가면 성공은 저절로 따라옵니다\n",
      "혼자서는 작은 한 방울이지만 함께 모이면 바다를 이룹니다\n"
     ]
    },
    {
     "ename": "TypeError",
     "evalue": "'Note' object is not iterable",
     "output_type": "error",
     "traceback": [
      "\u001b[1;31m---------------------------------------------------------------------------\u001b[0m",
      "\u001b[1;31mTypeError\u001b[0m                                 Traceback (most recent call last)",
      "\u001b[1;32m~\\AppData\\Local\\Temp/ipykernel_13804/3704840139.py\u001b[0m in \u001b[0;36m<module>\u001b[1;34m\u001b[0m\n\u001b[0;32m     53\u001b[0m \u001b[1;31m# 메모장에 추가\u001b[0m\u001b[1;33m\u001b[0m\u001b[1;33m\u001b[0m\u001b[0m\n\u001b[0;32m     54\u001b[0m \u001b[0mmy_book\u001b[0m \u001b[1;33m=\u001b[0m \u001b[0mNotebook\u001b[0m\u001b[1;33m(\u001b[0m\u001b[1;34m'가나다라마바사'\u001b[0m\u001b[1;33m)\u001b[0m\u001b[1;33m\u001b[0m\u001b[1;33m\u001b[0m\u001b[0m\n\u001b[1;32m---> 55\u001b[1;33m \u001b[0mmy_book\u001b[0m\u001b[1;33m.\u001b[0m\u001b[0madd_note\u001b[0m\u001b[1;33m(\u001b[0m\u001b[0mmy_note\u001b[0m\u001b[1;33m)\u001b[0m\u001b[1;33m\u001b[0m\u001b[1;33m\u001b[0m\u001b[0m\n\u001b[0m\u001b[0;32m     56\u001b[0m \u001b[0mmy_book\u001b[0m\u001b[1;33m.\u001b[0m\u001b[0mprint_memo\u001b[0m\u001b[1;33m(\u001b[0m\u001b[1;33m)\u001b[0m\u001b[1;33m\u001b[0m\u001b[1;33m\u001b[0m\u001b[0m\n\u001b[0;32m     57\u001b[0m \u001b[1;33m\u001b[0m\u001b[0m\n",
      "\u001b[1;32m~\\AppData\\Local\\Temp/ipykernel_13804/3704840139.py\u001b[0m in \u001b[0;36madd_note\u001b[1;34m(self, note)\u001b[0m\n\u001b[0;32m     10\u001b[0m \u001b[1;33m\u001b[0m\u001b[0m\n\u001b[0;32m     11\u001b[0m     \u001b[1;32mdef\u001b[0m \u001b[0madd_note\u001b[0m\u001b[1;33m(\u001b[0m\u001b[0mself\u001b[0m\u001b[1;33m,\u001b[0m \u001b[0mnote\u001b[0m\u001b[1;33m)\u001b[0m\u001b[1;33m:\u001b[0m\u001b[1;33m\u001b[0m\u001b[1;33m\u001b[0m\u001b[0m\n\u001b[1;32m---> 12\u001b[1;33m         \u001b[0mself\u001b[0m\u001b[1;33m.\u001b[0m\u001b[0mmemo\u001b[0m\u001b[1;33m.\u001b[0m\u001b[0mextend\u001b[0m\u001b[1;33m(\u001b[0m\u001b[0mnote\u001b[0m\u001b[1;33m)\u001b[0m\u001b[1;33m\u001b[0m\u001b[1;33m\u001b[0m\u001b[0m\n\u001b[0m\u001b[0;32m     13\u001b[0m         \u001b[0mself\u001b[0m\u001b[1;33m.\u001b[0m\u001b[0mpage\u001b[0m \u001b[1;33m+=\u001b[0m \u001b[0mlen\u001b[0m\u001b[1;33m(\u001b[0m\u001b[0mnote\u001b[0m\u001b[1;33m)\u001b[0m\u001b[1;33m\u001b[0m\u001b[1;33m\u001b[0m\u001b[0m\n\u001b[0;32m     14\u001b[0m \u001b[1;33m\u001b[0m\u001b[0m\n",
      "\u001b[1;31mTypeError\u001b[0m: 'Note' object is not iterable"
     ]
    }
   ],
   "source": [
    "class Notebook:\n",
    "    def __init__(self, input_title, page = 1, memo = []): \n",
    "        self.__title = input_title\n",
    "        self.page = page\n",
    "        self.memo = memo    \n",
    "        \n",
    "    @property\n",
    "    def title(self):\n",
    "        return self.__title\n",
    "    \n",
    "    def add_note(self, note):\n",
    "        self.memo.extend(note)\n",
    "        self.page += 1\n",
    "    \n",
    "    def delete_note(self, note):\n",
    "        self.memo.remove(note)\n",
    "        self.page -= 1\n",
    "        \n",
    "    def check_page(self): \n",
    "         return self.page\n",
    "        \n",
    "    def print_memo(self):\n",
    "        for i, memo in enumerate(self.memo):\n",
    "            print(f'page: {i + 1} \\n' + memo, end='\\n')\n",
    "            \n",
    "class Note:\n",
    "    def __init__(self, text = []): \n",
    "        self.text = text\n",
    "        \n",
    "    def write(self, line):\n",
    "        self.text.append(line)\n",
    "        \n",
    "    \n",
    "    def erase(self, line):\n",
    "        self.text.remove(line)\n",
    "        \n",
    "    def print_notes(self):\n",
    "        for note in self.text:\n",
    "            print(note, end='\\n')\n",
    "        \n",
    "# 사용\n",
    "line1 = '우리 모두 스스로가 원하는 리더가 됩시다'\n",
    "line2 = '모두가 함께 앞으로 나아가면 성공은 저절로 따라옵니다'\n",
    "line3 = '혼자서는 작은 한 방울이지만 함께 모이면 바다를 이룹니다'\n",
    "\n",
    "# 메모 추가\n",
    "my_note = Note()\n",
    "my_note.write(line1)\n",
    "my_note.write(line2)\n",
    "my_note.write(line3)\n",
    "my_note.print_notes()\n",
    "\n",
    "# 메모장에 추가\n",
    "my_book = Notebook('가나다라마바사')\n",
    "my_book.add_note(my_note)\n",
    "my_book.print_memo()\n",
    "\n",
    "# 페이지 번호 확인하기\n",
    "my_book.get_page_num()\n",
    "\n",
    "# 메모 삭제하기\n",
    "my_book.remove_note(my_note)\n",
    "\n",
    "#페이지 번호 확인하기\n",
    "my_book.get_page_num()        "
   ]
  },
  {
   "cell_type": "code",
   "execution_count": null,
   "id": "bfde6aa0-8e7c-4e80-8d47-8fbabd9de414",
   "metadata": {},
   "outputs": [],
   "source": []
  }
 ],
 "metadata": {
  "kernelspec": {
   "display_name": "Python 3 (ipykernel)",
   "language": "python",
   "name": "python3"
  },
  "language_info": {
   "codemirror_mode": {
    "name": "ipython",
    "version": 3
   },
   "file_extension": ".py",
   "mimetype": "text/x-python",
   "name": "python",
   "nbconvert_exporter": "python",
   "pygments_lexer": "ipython3",
   "version": "3.9.7"
  }
 },
 "nbformat": 4,
 "nbformat_minor": 5
}
