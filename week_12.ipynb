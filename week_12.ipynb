{
 "cells": [
  {
   "cell_type": "markdown",
   "id": "60e1c360-c40f-4b4f-84fa-ee04769fd165",
   "metadata": {},
   "source": [
    "### **PROJECT REVIEW**"
   ]
  },
  {
   "cell_type": "code",
   "execution_count": 15,
   "id": "7f12abf7-a307-45b0-8dcc-dd5eb4a42def",
   "metadata": {},
   "outputs": [
    {
     "ename": "NameError",
     "evalue": "name 'Store' is not defined",
     "output_type": "error",
     "traceback": [
      "\u001b[1;31m---------------------------------------------------------------------------\u001b[0m",
      "\u001b[1;31mNameError\u001b[0m                                 Traceback (most recent call last)",
      "\u001b[1;32m~\\AppData\\Local\\Temp/ipykernel_5928/1092449173.py\u001b[0m in \u001b[0;36m<module>\u001b[1;34m\u001b[0m\n\u001b[1;32m----> 1\u001b[1;33m \u001b[0mStore\u001b[0m\u001b[1;33m,\u001b[0m \u001b[0mItem\u001b[0m\u001b[1;33m,\u001b[0m \u001b[0mCustomer\u001b[0m\u001b[1;33m\u001b[0m\u001b[1;33m\u001b[0m\u001b[0m\n\u001b[0m\u001b[0;32m      2\u001b[0m \u001b[1;33m\u001b[0m\u001b[0m\n\u001b[0;32m      3\u001b[0m \u001b[1;31m#1. AbCustomer -> Customer(상속)\u001b[0m\u001b[1;33m\u001b[0m\u001b[1;33m\u001b[0m\u001b[0m\n\u001b[0;32m      4\u001b[0m \u001b[1;31m#2. Person <- Customer(Person)\u001b[0m\u001b[1;33m\u001b[0m\u001b[1;33m\u001b[0m\u001b[0m\n",
      "\u001b[1;31mNameError\u001b[0m: name 'Store' is not defined"
     ]
    }
   ],
   "source": [
    "Store, Item, Customer\n",
    "\n",
    "#1. AbCustomer -> Customer(상속)\n",
    "#2. Person <- Customer(Person)"
   ]
  },
  {
   "cell_type": "code",
   "execution_count": 16,
   "id": "1769ae30-5743-44ac-bfec-adfee7586789",
   "metadata": {},
   "outputs": [
    {
     "ename": "NameError",
     "evalue": "name 'Person' is not defined",
     "output_type": "error",
     "traceback": [
      "\u001b[1;31m---------------------------------------------------------------------------\u001b[0m",
      "\u001b[1;31mNameError\u001b[0m                                 Traceback (most recent call last)",
      "\u001b[1;32m~\\AppData\\Local\\Temp/ipykernel_5928/1104004022.py\u001b[0m in \u001b[0;36m<module>\u001b[1;34m\u001b[0m\n\u001b[1;32m----> 1\u001b[1;33m \u001b[1;32mclass\u001b[0m \u001b[0mCustomer\u001b[0m\u001b[1;33m(\u001b[0m\u001b[0mPerson\u001b[0m\u001b[1;33m)\u001b[0m\u001b[1;33m:\u001b[0m \u001b[1;31m# is-a 관계(상속 관계)\u001b[0m\u001b[1;33m\u001b[0m\u001b[1;33m\u001b[0m\u001b[0m\n\u001b[0m\u001b[0;32m      2\u001b[0m     \u001b[1;32mpass\u001b[0m\u001b[1;33m\u001b[0m\u001b[1;33m\u001b[0m\u001b[0m\n\u001b[0;32m      3\u001b[0m \u001b[1;33m\u001b[0m\u001b[0m\n\u001b[0;32m      4\u001b[0m \u001b[1;32mclass\u001b[0m \u001b[0mStore\u001b[0m\u001b[1;33m:\u001b[0m\u001b[1;33m\u001b[0m\u001b[1;33m\u001b[0m\u001b[0m\n\u001b[0;32m      5\u001b[0m     \u001b[1;32mdef\u001b[0m \u001b[0m__init__\u001b[0m\u001b[1;33m(\u001b[0m\u001b[0mcustomer\u001b[0m\u001b[1;33m)\u001b[0m\u001b[1;33m:\u001b[0m\u001b[1;33m\u001b[0m\u001b[1;33m\u001b[0m\u001b[0m\n",
      "\u001b[1;31mNameError\u001b[0m: name 'Person' is not defined"
     ]
    }
   ],
   "source": [
    "class Customer(Person): # is-a 관계(상속 관계)\n",
    "    pass\n",
    "\n",
    "class Store:\n",
    "    def __init__(customer):\n",
    "        self.customer = customer  # Customer 타입, has-a 관계\n",
    "        self.item = item\n",
    "        self.item_list = self.item.name, self.item.price\n",
    "        \n",
    "class Item:\n",
    "    name\n",
    "    cnt\n",
    "    price\n",
    "    \n",
    "    pass\n"
   ]
  },
  {
   "cell_type": "markdown",
   "id": "bcfaa75c-8b3d-45cd-9a94-da0031767d77",
   "metadata": {},
   "source": [
    "### **매직 메소드**\n",
    "- special method\n",
    "- __<name>\n",
    "- str, repr"
   ]
  },
  {
   "cell_type": "code",
   "execution_count": 10,
   "id": "e3b7a2f3-711a-477d-abbf-eae1a4c3b9bc",
   "metadata": {},
   "outputs": [],
   "source": [
    "class Customer(object): # 모든 클래스는 오브젝트 상속\n",
    "    def __init__(self, name):\n",
    "        self.name = name\n",
    "        \n",
    "c = Customer('kim')"
   ]
  },
  {
   "cell_type": "code",
   "execution_count": 7,
   "id": "e935e44a-e1cb-4d51-94f2-8e434a0fb3e1",
   "metadata": {},
   "outputs": [
    {
     "data": {
      "text/plain": [
       "Customer(kim)"
      ]
     },
     "execution_count": 7,
     "metadata": {},
     "output_type": "execute_result"
    }
   ],
   "source": [
    "c"
   ]
  },
  {
   "cell_type": "code",
   "execution_count": 8,
   "id": "2f1bd114-7598-4ac3-8199-8d66ceda5310",
   "metadata": {},
   "outputs": [
    {
     "name": "stdout",
     "output_type": "stream",
     "text": [
      "kim\n"
     ]
    }
   ],
   "source": [
    "print(c)"
   ]
  },
  {
   "cell_type": "code",
   "execution_count": 11,
   "id": "0027a640-0b87-4400-8765-df63c7f47192",
   "metadata": {},
   "outputs": [],
   "source": [
    "class Customer:\n",
    "    def __init__(self, name):\n",
    "        self.name = name\n",
    "        \n",
    "    def __str__(self):\n",
    "        # print() 함수로 나온 출력값을 변경하는 것\n",
    "        return self.name\n",
    "    \n",
    "    def __repr__(self):\n",
    "        # 설정 안 하면 __str__ 동일함\n",
    "        # 인스턴스 출력하는 방식 => 사용자가 이해하는 객체의 모습을 표현\n",
    "        return f'Customer({self.name})' ### Customer (객체이름)\n",
    "        \n",
    "c = Customer('kim')"
   ]
  },
  {
   "cell_type": "code",
   "execution_count": 12,
   "id": "b3ce8c68-8d8a-465a-af03-e1dcab6faa31",
   "metadata": {},
   "outputs": [
    {
     "data": {
      "text/plain": [
       "'Customer(kim)'"
      ]
     },
     "execution_count": 12,
     "metadata": {},
     "output_type": "execute_result"
    }
   ],
   "source": [
    "repr(c)"
   ]
  },
  {
   "cell_type": "raw",
   "id": "761fa7b2-fc13-4104-95f7-3148a61a6522",
   "metadata": {},
   "source": [
    "str(c)"
   ]
  },
  {
   "cell_type": "markdown",
   "id": "7e0bf961-8394-4cd1-9e7a-9cd011228b2e",
   "metadata": {},
   "source": [
    "### **NamedTuple, DataClass**\n",
    "- 객체보다 효율적임 (간단한 속성만 가진 클래스일 경우 활용)\n",
    "- 딕셔너리의 키처럼 사용 가능하다"
   ]
  },
  {
   "cell_type": "code",
   "execution_count": 13,
   "id": "9675ac95-77f3-4fe3-97bb-21358bdb86fe",
   "metadata": {},
   "outputs": [
    {
     "data": {
      "text/plain": [
       "('lee', 44)"
      ]
     },
     "execution_count": 13,
     "metadata": {},
     "output_type": "execute_result"
    }
   ],
   "source": [
    "from collections import namedtuple\n",
    "\n",
    "Customer = namedtuple('Customer', 'name age')\n",
    "a = Customer('lee', 44)\n",
    "a.name, a.age"
   ]
  },
  {
   "cell_type": "code",
   "execution_count": 14,
   "id": "6697a4be-9c52-46c7-8620-5d253a4260d7",
   "metadata": {},
   "outputs": [
    {
     "data": {
      "text/plain": [
       "('hong', 88)"
      ]
     },
     "execution_count": 14,
     "metadata": {},
     "output_type": "execute_result"
    }
   ],
   "source": [
    "from dataclasses import dataclass\n",
    "# 3.7 이상에서만\n",
    "\n",
    "@dataclass\n",
    "class Customer2:\n",
    "    name: str\n",
    "    age: int\n",
    "    \n",
    "b = Customer2('hong', 88)\n",
    "b.name, b.age"
   ]
  },
  {
   "cell_type": "markdown",
   "id": "686c1654-fe5d-4834-85bc-37bf61200f59",
   "metadata": {},
   "source": [
    "### **함수 II**\n",
    "- *, **\n",
    "- 일급객체\n",
    "- 내부함수, 클로저\n",
    "- 익명함수\n",
    "- 제너레이터\n",
    "- 재귀함수"
   ]
  },
  {
   "cell_type": "markdown",
   "id": "76ae6b99-e3ee-48ed-9bf2-e9c2a303117e",
   "metadata": {},
   "source": [
    "asterisk: *"
   ]
  },
  {
   "cell_type": "code",
   "execution_count": 17,
   "id": "b7f48458-0e09-4bc5-9e1c-33b2035b03ab",
   "metadata": {},
   "outputs": [
    {
     "name": "stdout",
     "output_type": "stream",
     "text": [
      "1 2 3 4 5 6\n"
     ]
    }
   ],
   "source": [
    "def print_arg(*args): # 여러개의 인자 => 패킹\n",
    "    print(*args)\n",
    "    \n",
    "print_arg(1, 2, 3, 4, 5, 6)"
   ]
  },
  {
   "cell_type": "code",
   "execution_count": 18,
   "id": "eca8dc62-c444-4482-a6e9-a31b0234cd8c",
   "metadata": {},
   "outputs": [
    {
     "name": "stdout",
     "output_type": "stream",
     "text": [
      "1 2\n",
      "optional\n"
     ]
    }
   ],
   "source": [
    "def print_more(num1, num2, *args):\n",
    "    print(num1, num2)\n",
    "    print(*args, 'optional')\n",
    "    \n",
    "print_more(1, 2)"
   ]
  },
  {
   "cell_type": "code",
   "execution_count": 19,
   "id": "15e26ba3-61df-480c-a1bd-384454e6d93f",
   "metadata": {},
   "outputs": [
    {
     "name": "stdout",
     "output_type": "stream",
     "text": [
      "0 1 2 3 4 5 6 7 8 9\n"
     ]
    }
   ],
   "source": [
    "empty = list(range(10))\n",
    "print(*empty)"
   ]
  },
  {
   "cell_type": "code",
   "execution_count": 23,
   "id": "189c384d-9c70-4133-8182-aa27655be1a9",
   "metadata": {},
   "outputs": [
    {
     "name": "stdout",
     "output_type": "stream",
     "text": [
      "(1, 3, 5)\n",
      "(2, 4, 6)\n"
     ]
    }
   ],
   "source": [
    "# 행렬, 테이블 데이터\n",
    "matrix = [\n",
    "    [1, 2],\n",
    "    [3, 4],\n",
    "    [5, 6]\n",
    "]\n",
    "\n",
    "# 1, 3, 5 / 2, 4, 6 (열만 타고싶다)\n",
    "for item in zip(*matrix):\n",
    "    print(item)"
   ]
  },
  {
   "cell_type": "code",
   "execution_count": 24,
   "id": "434ee670-0edb-481f-a237-122da7d723e1",
   "metadata": {},
   "outputs": [
    {
     "name": "stdout",
     "output_type": "stream",
     "text": [
      "(1, 3, 5)\n",
      "(2, 4, 6)\n"
     ]
    }
   ],
   "source": [
    "for item in zip([1, 2], [3, 4], [5, 6]):\n",
    "    print(item)"
   ]
  },
  {
   "cell_type": "code",
   "execution_count": 26,
   "id": "d08c582a-94b3-4ae7-8b9a-28c54dae5104",
   "metadata": {},
   "outputs": [
    {
     "name": "stdout",
     "output_type": "stream",
     "text": [
      "0\n",
      "1\n",
      "2\n",
      "3\n"
     ]
    }
   ],
   "source": [
    "# 키워드 전용 인수 선언 시 사용\n",
    "def print_data(data, start, end):\n",
    "    for item in data[start:end]:\n",
    "        print(item)\n",
    "        \n",
    "print_data(empty, start=0, end=4)\n",
    "#print_data(empty, 0, 1)"
   ]
  },
  {
   "cell_type": "markdown",
   "id": "51b01e79-f788-485e-bd12-41a53689b024",
   "metadata": {},
   "source": [
    "### **kargs:****"
   ]
  },
  {
   "cell_type": "code",
   "execution_count": 31,
   "id": "fae7333f-dad2-4e08-a5a6-27fa5bbd6d7b",
   "metadata": {},
   "outputs": [
    {
     "name": "stdout",
     "output_type": "stream",
     "text": [
      "{'wine': 'crianza', 'drink': 'water'}\n"
     ]
    }
   ],
   "source": [
    "def print_kargs(**kargs): # 키:값 => 딕셔너리로 변환\n",
    "    kargs['wine'] = 'crianza' # get()\n",
    "    print(kargs)\n",
    "    #print(**kargs)\n",
    "    \n",
    "print_kargs(wine='crianza', drink='water')"
   ]
  },
  {
   "cell_type": "code",
   "execution_count": 30,
   "id": "031fa231-6270-4a4b-8c85-8622a8411307",
   "metadata": {},
   "outputs": [
    {
     "name": "stdout",
     "output_type": "stream",
     "text": [
      "{'wine': 'cabernet', 'drink': 'water'}\n",
      "{'wine': 'crianza', 'drink': 'water'}\n",
      "{'wine': 'shiraz', 'drink': 'water'}\n"
     ]
    }
   ],
   "source": [
    "for wine in ['cabernet', 'crianza', 'shiraz']:\n",
    "    print_kargs(wine=wine, drink='water')"
   ]
  },
  {
   "cell_type": "code",
   "execution_count": 33,
   "id": "bfd77b51-4600-4e6d-8aab-003d412912ba",
   "metadata": {},
   "outputs": [
    {
     "name": "stdout",
     "output_type": "stream",
     "text": [
      "1 2\n",
      "18\n",
      "{'num': 4}\n"
     ]
    }
   ],
   "source": [
    "def print_all(num1, num2, *args, **kargs):\n",
    "    print(num1, num2)\n",
    "    print(sum(args))\n",
    "    print(kargs)\n",
    "    \n",
    "print_all(1, 2, 3, 4, 5, 6, num=4)"
   ]
  },
  {
   "cell_type": "code",
   "execution_count": 35,
   "id": "c76f4c63-dff3-4b95-8418-4baa2b0c2890",
   "metadata": {},
   "outputs": [],
   "source": [
    "#딕셔너리 조인\n",
    "a = {1: 'a', 2: 'b'}\n",
    "b = {2: 'c', 3: 'd'}\n",
    "c = {**a, **b}"
   ]
  }
 ],
 "metadata": {
  "kernelspec": {
   "display_name": "Python 3 (ipykernel)",
   "language": "python",
   "name": "python3"
  },
  "language_info": {
   "codemirror_mode": {
    "name": "ipython",
    "version": 3
   },
   "file_extension": ".py",
   "mimetype": "text/x-python",
   "name": "python",
   "nbconvert_exporter": "python",
   "pygments_lexer": "ipython3",
   "version": "3.9.7"
  }
 },
 "nbformat": 4,
 "nbformat_minor": 5
}
