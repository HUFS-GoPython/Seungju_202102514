{
 "cells": [
  {
   "cell_type": "markdown",
   "id": "74696642-190e-4bac-af3f-88813bb71566",
   "metadata": {},
   "source": [
    "## **공지**\n",
    "\n",
    "- 대학원 건물 6411호\n",
    "- 토크나이저 같은 거 쓰면 안됨\n",
    "- 안 배운 부분 오늘 배울 것\n",
    "- 해리포터 텍스트 다운로드 \n",
    "- 중간고사가 아니고 국립국어원에서 정제해달라고 의뢰했을 시를 기준으로 생각하자.\n",
    "- 그 의도를 주석에 작성\n",
    "- 코드 제출하는 것 + 손코딩\n",
    "- 브라운 코퍼스 잘 한 사람 10명 이하로 뽑을 거임\n"
   ]
  },
  {
   "cell_type": "markdown",
   "id": "023381e7-db42-456b-b7f1-74817f666d8d",
   "metadata": {},
   "source": [
    "### **함수**\n",
    "1. 정의\n",
    "2. 인수\n",
    "3. 호출 방식"
   ]
  },
  {
   "cell_type": "markdown",
   "id": "7726a988-3959-4214-ac80-81c6e212df00",
   "metadata": {},
   "source": [
    "#### **1. 정의**\n",
    "- 코드의 덩어리\n",
    "- 한 줄로 재사용 가능\n",
    "- define+ call\n",
    " \n",
    "\n",
    "    - 매개변수 X 반환값 X\n",
    "    - 매개변수 O 반환값 O\n",
    "    - 매개변수 O 반환값 X\n",
    "    - 매개변수 X 반환값 O"
   ]
  },
  {
   "cell_type": "code",
   "execution_count": 7,
   "id": "3aa378c2-6998-4c52-a552-3215ca5b611b",
   "metadata": {},
   "outputs": [
    {
     "data": {
      "text/plain": [
       "5"
      ]
     },
     "execution_count": 7,
     "metadata": {},
     "output_type": "execute_result"
    }
   ],
   "source": [
    "#y = x + 1 # x = 매개변수, y = 변환값 x + 1 수행문\n",
    "\n",
    "def ex(x):\n",
    "    #y = x + 1\n",
    "    #return y\n",
    "    return x + 1\n",
    "\n",
    "ex(4)"
   ]
  },
  {
   "cell_type": "code",
   "execution_count": null,
   "id": "4183ecb4-12f1-4b82-a07c-6a06073c5b79",
   "metadata": {},
   "outputs": [],
   "source": [
    "def ex(x): \n",
    "    y = x + 1\n",
    "    return y"
   ]
  },
  {
   "cell_type": "markdown",
   "id": "89737283-e621-4800-9334-1844084f4f21",
   "metadata": {},
   "source": [
    "#### **매개변수 X 반환값 X**"
   ]
  },
  {
   "cell_type": "code",
   "execution_count": 8,
   "id": "de72c7e5-d1d5-4d2d-b2ae-235c673803bc",
   "metadata": {},
   "outputs": [
    {
     "name": "stdout",
     "output_type": "stream",
     "text": [
      "quack\n"
     ]
    }
   ],
   "source": [
    "#1.\n",
    "def make_a_sound():\n",
    "    print('quack')\n",
    "    #return None\n",
    "    \n",
    "make_a_sound()"
   ]
  },
  {
   "cell_type": "markdown",
   "id": "92027f5d-ae29-4d8f-b908-68b2136636dd",
   "metadata": {},
   "source": [
    "#### **매개변수 O 반환값 O**"
   ]
  },
  {
   "cell_type": "code",
   "execution_count": 1,
   "id": "7af5f0c0-7289-4c5c-85bc-f32bd0448736",
   "metadata": {},
   "outputs": [
    {
     "data": {
      "text/plain": [
       "'Yay'"
      ]
     },
     "execution_count": 1,
     "metadata": {},
     "output_type": "execute_result"
    }
   ],
   "source": [
    "#2. \n",
    "# 2.\n",
    "def make_a_sound(sound):\n",
    "    return sound\n",
    "\n",
    "make_a_sound('Yay')"
   ]
  },
  {
   "cell_type": "markdown",
   "id": "bcb7ee51-14a9-4c00-b68a-d5980abcb129",
   "metadata": {},
   "source": [
    "#### **매개변수 O 반환값 X**"
   ]
  },
  {
   "cell_type": "code",
   "execution_count": 2,
   "id": "73d5393c-ef97-4d93-93cf-6feab305f59e",
   "metadata": {},
   "outputs": [
    {
     "name": "stdout",
     "output_type": "stream",
     "text": [
      "yay\n"
     ]
    }
   ],
   "source": [
    "#3.\n",
    "def make_a_sound(sound): # sound = 매개변수, yay = 인수\n",
    "    print (sound)\n",
    "\n",
    "yay = 'yay'\n",
    "make_a_sound('yay')"
   ]
  },
  {
   "cell_type": "markdown",
   "id": "0e233214-413b-4362-9d5d-866bb10d6f4f",
   "metadata": {},
   "source": [
    "#### **매개변수 X 반환값 O**"
   ]
  },
  {
   "cell_type": "code",
   "execution_count": 3,
   "id": "65bad19a-0cf3-4eb8-b33e-6017b5766c00",
   "metadata": {},
   "outputs": [
    {
     "name": "stdout",
     "output_type": "stream",
     "text": [
      "Splendid\n"
     ]
    }
   ],
   "source": [
    "#4. \n",
    "def agree():\n",
    "    return True\n",
    "\n",
    "if agree():\n",
    "    print('Splendid')\n",
    "else:\n",
    "    print('unexpected!')"
   ]
  },
  {
   "cell_type": "markdown",
   "id": "d5f7305b-6018-4a8d-b721-853fe09553bd",
   "metadata": {},
   "source": [
    "#### **이름 짓기**\n",
    "- 소문자만 사용\n",
    "- split_word -> 언더바로 구분\n",
    "- \"동사+명사\"의 형태 \n",
    "- i.e., 클래스는 명사 def split_word(): (x)\n",
    "- ~~줄임말 쓰지 말 것, calc_XXXX(). 명료.~~\n",
    "        - splt_word : 사람들이 못 알아봄. \n",
    "        - calculate -> calc : 이거는 다들 많이 쓰니까 가능\n",
    "        "
   ]
  },
  {
   "cell_type": "markdown",
   "id": "72192510-8842-4e50-80b3-87a8dfd826e8",
   "metadata": {},
   "source": [
    "---------------------------------------"
   ]
  },
  {
   "cell_type": "markdown",
   "id": "b8f9895f-933f-4df1-a3f3-81ec1e1293b6",
   "metadata": {},
   "source": [
    "#### 2. **인수**\n",
    "\n",
    "- **매개변수 vs. 인수**\n",
    "    - 매개변수: 인터페이스에서 유효한 변수 -> 함수를 빠져나오면 X\n",
    "    - 인수: 실제 매개변수에 대입되는 변수 -> 함수를 빠져나와도 O\n",
    "    - \"호출 시에 인수가 매개변수에 복제된다\" yay -> sound\n",
    "    \n",
    "- **위치 인수**\n",
    "    - positional argument\n",
    "    - 매개변수를 값에 순서에 상응하게 복제\n",
    "    \n",
    "- **키워드 인수**\n",
    "    - keyword argument\n",
    "    - 매개변수 키워드에 맞는 인수로 지정 => 위치 삭\n",
    "    \n",
    "- **디폴트 인수**\n",
    "    - default argument\n",
    "    - 매개변수를 정의할 때 값을 미리 지정해놓는 것\n",
    "    - 호출 시에 값이 입력되지 않으면 디폴트값을 사용\n",
    "    - 디폴트값이 언디폴드값 앞에 위치할 수 x"
   ]
  },
  {
   "cell_type": "code",
   "execution_count": 4,
   "id": "4bb1e898-2199-41bd-9874-4a4445a5fbd0",
   "metadata": {},
   "outputs": [
    {
     "ename": "NameError",
     "evalue": "name 'sound' is not defined",
     "output_type": "error",
     "traceback": [
      "\u001b[1;31m---------------------------------------------------------------------------\u001b[0m",
      "\u001b[1;31mNameError\u001b[0m                                 Traceback (most recent call last)",
      "\u001b[1;32m~\\AppData\\Local\\Temp/ipykernel_5252/2811045289.py\u001b[0m in \u001b[0;36m<module>\u001b[1;34m\u001b[0m\n\u001b[0;32m      1\u001b[0m \u001b[1;31m# 매개변수는 함수를 빠져나온 범위에서는 무효\u001b[0m\u001b[1;33m\u001b[0m\u001b[1;33m\u001b[0m\u001b[0m\n\u001b[1;32m----> 2\u001b[1;33m \u001b[0mprint\u001b[0m\u001b[1;33m(\u001b[0m\u001b[0msound\u001b[0m\u001b[1;33m)\u001b[0m\u001b[1;33m\u001b[0m\u001b[1;33m\u001b[0m\u001b[0m\n\u001b[0m\u001b[0;32m      3\u001b[0m \u001b[1;33m\u001b[0m\u001b[0m\n\u001b[0;32m      4\u001b[0m \u001b[1;31m# 인수는 유효\u001b[0m\u001b[1;33m\u001b[0m\u001b[1;33m\u001b[0m\u001b[0m\n\u001b[0;32m      5\u001b[0m \u001b[1;31m# hey = 'yeh'\u001b[0m\u001b[1;33m\u001b[0m\u001b[1;33m\u001b[0m\u001b[0m\n",
      "\u001b[1;31mNameError\u001b[0m: name 'sound' is not defined"
     ]
    }
   ],
   "source": [
    "# 매개변수는 함수를 빠져나온 범위에서는 무효\n",
    "print(sound)\n",
    "\n",
    "# 인수는 유효\n",
    "# hey = 'yeh'\n",
    "print(hey)"
   ]
  },
  {
   "cell_type": "markdown",
   "id": "8e11f020-6972-432a-8e7c-e31484b95bf8",
   "metadata": {},
   "source": [
    "#### **매개변수와 인수**"
   ]
  },
  {
   "cell_type": "code",
   "execution_count": null,
   "id": "3daf4a45-fc71-48eb-8004-9e0476764737",
   "metadata": {},
   "outputs": [],
   "source": [
    "def make_a_sound(sound): # sound = 매개변수, yay = 인수\n",
    "    print (sound)\n",
    "    \n",
    "yay = 'yay'\n",
    "make_a_sound('yay')"
   ]
  },
  {
   "cell_type": "markdown",
   "id": "91548a20-7715-4b69-a7c3-d61367cb03f0",
   "metadata": {},
   "source": [
    "#### **함수의 사용**"
   ]
  },
  {
   "cell_type": "code",
   "execution_count": 14,
   "id": "68d15d2f-7bdb-4a8e-b400-cc868d585d85",
   "metadata": {},
   "outputs": [
    {
     "data": {
      "text/plain": [
       "'black'"
      ]
     },
     "execution_count": 14,
     "metadata": {},
     "output_type": "execute_result"
    }
   ],
   "source": [
    "def commentary(color):\n",
    "    if color == 'g':\n",
    "        return 'green'\n",
    "    else:\n",
    "        return 'black'\n",
    "    \n",
    "color = 'white'\n",
    "commentary(color)"
   ]
  },
  {
   "cell_type": "code",
   "execution_count": 15,
   "id": "d42edcb3-f698-4ca5-a24c-19c29faa16c4",
   "metadata": {},
   "outputs": [
    {
     "name": "stdout",
     "output_type": "stream",
     "text": [
      "green\n",
      "black\n",
      "black\n"
     ]
    }
   ],
   "source": [
    "colors = ['g', 'b', 't']\n",
    "\n",
    "for color in colors:\n",
    "    print(commentary(color))"
   ]
  },
  {
   "cell_type": "markdown",
   "id": "946085dc-2808-4a84-97b9-a90d446a2a3b",
   "metadata": {},
   "source": [
    "#### **위치 인수**"
   ]
  },
  {
   "cell_type": "code",
   "execution_count": 6,
   "id": "4b06ca02-0bc5-423f-92c3-d789060df58d",
   "metadata": {},
   "outputs": [
    {
     "data": {
      "text/plain": [
       "{'wine': 'a', 'entree': 'b', 'dessert': 'c'}"
      ]
     },
     "execution_count": 6,
     "metadata": {},
     "output_type": "execute_result"
    }
   ],
   "source": [
    "def menu(wine, entree, dessert):\n",
    "    return {'wine':wine, 'entree':entree, 'dessert':dessert}\n",
    "\n",
    "menu('a', 'b', 'c')"
   ]
  },
  {
   "cell_type": "markdown",
   "id": "bddf877e-8db9-4625-8237-ca1dfbfa043c",
   "metadata": {},
   "source": [
    "#### **키워드 인수**"
   ]
  },
  {
   "cell_type": "code",
   "execution_count": 7,
   "id": "4e59eb4c-e46d-43ac-be07-0849828c606c",
   "metadata": {},
   "outputs": [
    {
     "data": {
      "text/plain": [
       "{'wine': 'c', 'entree': 'a', 'dessert': 'b'}"
      ]
     },
     "execution_count": 7,
     "metadata": {},
     "output_type": "execute_result"
    }
   ],
   "source": [
    "menu(entree='a', dessert='b', wine='c')"
   ]
  },
  {
   "cell_type": "markdown",
   "id": "a24b5c85-5c85-4229-ac8d-7da8e6d7cce2",
   "metadata": {},
   "source": [
    "#### **디폴트 변수**"
   ]
  },
  {
   "cell_type": "code",
   "execution_count": 9,
   "id": "49b3ab26-5400-4400-8b8b-9eb7a0f91561",
   "metadata": {},
   "outputs": [
    {
     "data": {
      "text/plain": [
       "{'wine': 'rioja', 'entree': 'egg', 'dessert': 'strawberry'}"
      ]
     },
     "execution_count": 9,
     "metadata": {},
     "output_type": "execute_result"
    }
   ],
   "source": [
    "def menu2(wine, entree, dessert='strawberry'): # 디폴트 변수가 맨 뒤에 와야 한다.\n",
    "    return {'wine':wine, 'entree':entree, 'dessert':dessert}\n",
    "\n",
    "menu2('rioja', 'egg')"
   ]
  },
  {
   "cell_type": "code",
   "execution_count": 22,
   "id": "25433dd4-b1f1-4199-8d73-d1f447a9bb4a",
   "metadata": {},
   "outputs": [
    {
     "data": {
      "text/plain": [
       "{'wine': 'rioja', 'entree': 'egg', 'dessert': 'kiwi'}"
      ]
     },
     "execution_count": 22,
     "metadata": {},
     "output_type": "execute_result"
    }
   ],
   "source": [
    "menu2('rioja', 'egg', 'kiwi')"
   ]
  },
  {
   "cell_type": "markdown",
   "id": "8f95cd4e-4807-4a96-8549-196bd44f3cdd",
   "metadata": {},
   "source": [
    "-----------------------------------------------"
   ]
  },
  {
   "cell_type": "markdown",
   "id": "107dc75c-74ad-43a0-8dd6-ca234a64ad9a",
   "metadata": {},
   "source": [
    "#### 3. **호출방식**\n",
    "- 정의 부분은 호출 시 실행\n",
    "- 메모리에 저장\n",
    "- 매개변수 vs. 인수\n",
    "    - 참조에 의한 호출(call by reference)\n",
    "    - ~~\"매개변수 = 인수\" copy되기 때문에 나타나는 문제점~~\n",
    "        - 리스트처럼 가변 객체일 때 주소값을 공유하므로 값이 변함"
   ]
  },
  {
   "cell_type": "code",
   "execution_count": 25,
   "id": "addc252a-538c-4886-a7fc-820304662e2a",
   "metadata": {},
   "outputs": [
    {
     "name": "stdout",
     "output_type": "stream",
     "text": [
      "2\n",
      "3\n",
      "1\n",
      "4\n"
     ]
    }
   ],
   "source": [
    "def multiply(x, y):\n",
    "    print('1')\n",
    "    return x * y\n",
    "\n",
    "print('2')\n",
    "i = 2\n",
    "j = 4\n",
    "\n",
    "print('3')\n",
    "multiply(i,j) #### i=2, j=4 -> x=i, y=j -> copy\n",
    "\n",
    "print('4')"
   ]
  },
  {
   "cell_type": "markdown",
   "id": "6d839523-7a8b-45af-92a8-aa2f156aa4cc",
   "metadata": {},
   "source": [
    "#### **참조에 의한 호출**"
   ]
  },
  {
   "cell_type": "code",
   "execution_count": 4,
   "id": "5d9fdb40-3ba6-45bc-b849-ca224d6640b6",
   "metadata": {},
   "outputs": [
    {
     "name": "stdout",
     "output_type": "stream",
     "text": [
      "['a']\n",
      "['b']\n"
     ]
    }
   ],
   "source": [
    "def buggy(arg, result=[]):\n",
    "    result = [] # 쌓이는 것을 방지\n",
    "    result.append(arg)\n",
    "    print(result)\n",
    "\n",
    "a, b = 'a', 'b'\n",
    "buggy(a) # ['a']\n",
    "buggy(b) # ['b']"
   ]
  },
  {
   "cell_type": "code",
   "execution_count": 38,
   "id": "3adf32cf-8b5a-42e6-bda4-a750f90dad91",
   "metadata": {},
   "outputs": [
    {
     "name": "stdout",
     "output_type": "stream",
     "text": [
      "['c', 'a']\n",
      "['c', 'a', 'b']\n"
     ]
    }
   ],
   "source": [
    "# 둘 다 조건식으로 포함하는 함수로 변경하기\n",
    "\n",
    "def nonbuggy(arg, result=None):\n",
    "    # 리스트가 없으면 빈 리스트 생성하고, 있으면 그거 써라. \n",
    "    if result is None:\n",
    "        result = []\n",
    "        \n",
    "    result.append(arg)\n",
    "    print(result)\n",
    "    \n",
    "# \"없는 값, 아무것도 없다\" None\n",
    "empty = ['c'] # 쌓인다! 그러므로 빈 리스트 설정해줘야 함\n",
    "nonbuggy(a, empty) \n",
    "nonbuggy(b, empty)"
   ]
  },
  {
   "cell_type": "code",
   "execution_count": 32,
   "id": "89220207-9158-47fa-946c-760b4ad74583",
   "metadata": {},
   "outputs": [
    {
     "name": "stdout",
     "output_type": "stream",
     "text": [
      "None\n"
     ]
    }
   ],
   "source": [
    "thing = None\n",
    "if thing: # True\n",
    "    print('True')\n",
    "elif thing == False: # False\n",
    "    print('False')\n",
    "else:\n",
    "    print('None')"
   ]
  },
  {
   "cell_type": "code",
   "execution_count": 39,
   "id": "a9761b17-d0fe-4bdc-aef8-9a258c2ee28f",
   "metadata": {},
   "outputs": [
    {
     "name": "stdout",
     "output_type": "stream",
     "text": [
      "london\n",
      "paris == london?\n"
     ]
    }
   ],
   "source": [
    "def fx():\n",
    "    global city # 전역 변수\n",
    "    city = 'london' # 지역 변수\n",
    "    print(city)\n",
    "    \n",
    "city = 'paris'\n",
    "fx() # city = london\n",
    "print(city, '== london?')"
   ]
  },
  {
   "cell_type": "code",
   "execution_count": 40,
   "id": "17f2b05e-e7b9-43a0-ad6f-79e93f7c8e2e",
   "metadata": {},
   "outputs": [
    {
     "data": {
      "text/plain": [
       "'seoul'"
      ]
     },
     "execution_count": 40,
     "metadata": {},
     "output_type": "execute_result"
    }
   ],
   "source": [
    "city = 'seoul'\n",
    "city"
   ]
  },
  {
   "cell_type": "markdown",
   "id": "a87bcf44-4138-41d6-9e1f-7ca7df8ac2e9",
   "metadata": {},
   "source": [
    "#### **질문**\n",
    "1. 함수를 리턴값 없이 프린트만 써도 될까? 가능!\n",
    "2. 리턴값이 있고 없고의 차이\n",
    "3. 중간고사 못 풀었을 때 쪽지,,,? 18일까지만.\n",
    "4. 잘한 사람꺼 올려주는건 브라운 코퍼스!"
   ]
  },
  {
   "cell_type": "markdown",
   "id": "9d5042e0-6b45-4850-82f3-6db30f5a5257",
   "metadata": {},
   "source": [
    "#### **doc string**\n",
    "- 함수 설명\n",
    "- 매개변수 타입, 의미, 함수 기능\n",
    "- \"\"\"독스트링\"\"\""
   ]
  },
  {
   "cell_type": "code",
   "execution_count": 43,
   "id": "04e2ad8f-d1d9-4e20-8756-508d746436b5",
   "metadata": {},
   "outputs": [],
   "source": [
    "def buggy(arg, result=[]):\n",
    "    \"\"\"\n",
    "    arg: str, 꽃 이름\n",
    "    result: list, xxxxx\n",
    "    꽃 이름을 리스트에 추가한다.\n",
    "    \n",
    "    \"\"\"\n",
    "    \n",
    "    if arg == thing: ###\n",
    "        new_list = []\n",
    "        new_list.append(arg)\n",
    "    else:\n",
    "        result.append(arg)\n",
    "    "
   ]
  },
  {
   "cell_type": "code",
   "execution_count": 44,
   "id": "4ac2abfa-8b31-4ac7-9db8-dd5d9b81e8b9",
   "metadata": {},
   "outputs": [
    {
     "name": "stdout",
     "output_type": "stream",
     "text": [
      "Help on function buggy in module __main__:\n",
      "\n",
      "buggy(arg, result=[])\n",
      "    arg: str, 꽃 이름\n",
      "    result: list, xxxxx\n",
      "    꽃 이름을 리스트에 추가한다.\n",
      "\n"
     ]
    }
   ],
   "source": [
    "# 독스트링 확인\n",
    "help(buggy)"
   ]
  },
  {
   "cell_type": "code",
   "execution_count": 11,
   "id": "e1463108-5188-479d-a294-d8128b3a67c1",
   "metadata": {},
   "outputs": [],
   "source": [
    "buggy.__doc__"
   ]
  },
  {
   "cell_type": "markdown",
   "id": "7c82dcc8-8874-4b31-96b5-0d4420030371",
   "metadata": {},
   "source": [
    "### **QUIZ**\n",
    "- 나이 -> 연도\n",
    "    - 함수: 입력값=나이, 반환=연도\n",
    "    - 나이 = input 받기"
   ]
  },
  {
   "cell_type": "code",
   "execution_count": 57,
   "id": "2644cba3-48f4-415a-9475-4d94e410bd1f",
   "metadata": {},
   "outputs": [
    {
     "name": "stdin",
     "output_type": "stream",
     "text": [
      "나이를 입력하세요: 15\n"
     ]
    },
    {
     "name": "stdout",
     "output_type": "stream",
     "text": [
      "2008\n"
     ]
    }
   ],
   "source": [
    "# 나이 -> 연도\n",
    "# 함수: 입력값=나이, 반환=연도\n",
    "# 나이 = input 받기\n",
    "\n",
    "def age_to_year(age):\n",
    "    this_year = 2022\n",
    "    return this_year - age + 1\n",
    "   \n",
    "age = int(input('나이를 입력하세요:'))\n",
    "print(age_to_year(age))\n",
    "    "
   ]
  },
  {
   "cell_type": "markdown",
   "id": "a7f2477e-b65c-49f1-a86e-1fdd49bfc598",
   "metadata": {},
   "source": [
    "-----------------------------------------------"
   ]
  },
  {
   "cell_type": "markdown",
   "id": "3e820cb6-231d-4004-9bf0-75f97bb585db",
   "metadata": {},
   "source": [
    "### **브라운 정제하기**\n",
    "\n",
    "1. 문장 분절\n",
    "2. 단어 분절\n",
    "    3. 문장부호 제거\n",
    "    4. 하이픈, 's, 'nt, 'd, ...\n",
    "3. 위의 것을 함수로 만들어라"
   ]
  },
  {
   "cell_type": "code",
   "execution_count": 17,
   "id": "bdda55b2-a9ae-4f58-8ab4-6a2878b8fdc4",
   "metadata": {
    "tags": []
   },
   "outputs": [
    {
     "name": "stderr",
     "output_type": "stream",
     "text": [
      "[nltk_data] Downloading package brown to\n",
      "[nltk_data]     C:\\Users\\SJLEE\\AppData\\Roaming\\nltk_data...\n",
      "[nltk_data]   Package brown is already up-to-date!\n"
     ]
    },
    {
     "data": {
      "text/plain": [
       "'\\n\\n\\tThey/ppss neither/cc liked/vbd nor/cc disliked/vbd the/at Old/jj-tl Man/nn-tl ./.\\nTo/in them/ppo he/pps could/md have/hv been/ben the/at broken/vbn bell/nn in/in the/at church/nn tower/nn which/wdt rang/vbd before/in and/cc after/in Mass/nn-tl ,/, and/cc at/in noon/nn ,/, and/cc at/in six/cd each/dt evening/nn --/-- its/pp$ tone/nn ,/, repetitive/jj ,/, monotonous/jj ,/, never/rb breaking/vbg the/at boredom/nn of/in the/at streets/nns ./.\\nThe/at Old/jj-tl Man/nn-tl was/bedz unimportant/jj ./.'"
      ]
     },
     "execution_count": 17,
     "metadata": {},
     "output_type": "execute_result"
    }
   ],
   "source": [
    "import nltk\n",
    "nltk.download('brown')\n",
    "brown = nltk.corpus.brown\n",
    "romance = brown.raw(categories='romance') [:5000]\n",
    "romance[:500]"
   ]
  },
  {
   "cell_type": "markdown",
   "id": "7f58ae63-2348-4c15-a7ee-c5fede808e74",
   "metadata": {},
   "source": [
    "#### **문장 분절**"
   ]
  },
  {
   "cell_type": "code",
   "execution_count": 18,
   "id": "74743798-2420-4377-b40b-9422d6875aab",
   "metadata": {},
   "outputs": [
    {
     "data": {
      "text/plain": [
       "'They/ppss neither/cc liked/vbd nor/cc disliked/vbd the/at Old/jj-tl Man/nn-tl'"
      ]
     },
     "execution_count": 18,
     "metadata": {},
     "output_type": "execute_result"
    }
   ],
   "source": [
    "sentences = [sent.strip() for sent in romance.split('./.')]\n",
    "sentences = [s for s in sentences if s != '!']\n",
    "sentences[0]"
   ]
  },
  {
   "cell_type": "code",
   "execution_count": 19,
   "id": "cc6440ba-8b55-48a5-ac6c-62c8f5000502",
   "metadata": {},
   "outputs": [
    {
     "data": {
      "text/plain": [
       "[\"``/`` Eh/uh ,/, Torino/np !/. !/.\\nShe/pps gave/vbd herself/ppl fancy/jj airs/nns !/. !/.\\nJust/rb because/cs she/pps had/hvd a/at part/nn on/in the/at stage/nn in/in the/at old/jj country/nn ,/, she/pps thought/vbd she/pps could/md carry/vb her/pp$ head/nn higher/rbr than/cs ours/pp$$ ''/''\",\n",
       " \"``/`` Henh/uh ''/'' !/. !/.\\nCalloused/vbn fingers/nns ,/, caressed/vbn only/rb by/in the/at smoothness/nn of/in polished/vbn rosaries/nns ,/, had/hvd swayed/vbn excitedly/rb beneath/in puckered/vbn chins/nns where/wrb tiny/jj black/jj hairs/nns sprouted/vbd ,/, never/rb to/to be/be tweezed/vbn away/rb\",\n",
       " \"``/`` Puttana/fw-nn ''/'' !/. !/.\\n\\n\\n\\tBut/cc if/cs the/at Old/jj-tl Man/nn-tl even/rb thought/vbd about/in his/pp$ wife/nn now/rb ,/, nobody/pn cared/vbd a/at fig/nn\"]"
      ]
     },
     "execution_count": 19,
     "metadata": {},
     "output_type": "execute_result"
    }
   ],
   "source": [
    "[s for s in sentences if '!' in s if s != '!']"
   ]
  },
  {
   "cell_type": "markdown",
   "id": "c2d275de-3160-41df-a7ad-4d917fe97b56",
   "metadata": {},
   "source": [
    "#### **단어 분절**\n",
    "- sentences -> POS 제거, 단어 분절"
   ]
  },
  {
   "cell_type": "code",
   "execution_count": 22,
   "id": "7dea3896-ee2c-4548-b9d9-1481cd07a0a4",
   "metadata": {},
   "outputs": [
    {
     "data": {
      "text/plain": [
       "['They', 'neither', 'liked', 'nor', 'disliked', 'the', 'Old', 'Man']"
      ]
     },
     "execution_count": 22,
     "metadata": {},
     "output_type": "execute_result"
    }
   ],
   "source": [
    "example = sentences[0]\n",
    "[word[:word.find('/')] if word[:word.find('/')] else word for word in example.split()]"
   ]
  },
  {
   "cell_type": "code",
   "execution_count": 25,
   "id": "d19d2a7a-0a57-4160-8957-3541ea18e471",
   "metadata": {},
   "outputs": [
    {
     "data": {
      "text/plain": [
       "[['They', 'neither', 'liked', 'nor', 'disliked', 'the', 'Old', 'Man']]"
      ]
     },
     "execution_count": 25,
     "metadata": {},
     "output_type": "execute_result"
    }
   ],
   "source": [
    "# 전체문장에 적용하기\n",
    "sent_tokens = [[word[:word.find('/')] \\\n",
    "     if word[:word.find('/')] else word # punct에 있으면 버려라 \n",
    "         for word in example.split()] for example in sentences]\n",
    "\n",
    "sent_tokens [:1]"
   ]
  },
  {
   "cell_type": "markdown",
   "id": "fa00255e-a2f1-4a00-a320-d2e8d63ca896",
   "metadata": {},
   "source": [
    "#### **punctuations**"
   ]
  },
  {
   "cell_type": "code",
   "execution_count": 27,
   "id": "17576485-ff38-414c-9443-66229c8259c2",
   "metadata": {
    "collapsed": true,
    "jupyter": {
     "outputs_hidden": true
    },
    "tags": []
   },
   "outputs": [
    {
     "ename": "NameError",
     "evalue": "name 'string' is not defined",
     "output_type": "error",
     "traceback": [
      "\u001b[1;31m---------------------------------------------------------------------------\u001b[0m",
      "\u001b[1;31mNameError\u001b[0m                                 Traceback (most recent call last)",
      "\u001b[1;32m~\\AppData\\Local\\Temp/ipykernel_5252/3378251726.py\u001b[0m in \u001b[0;36m<module>\u001b[1;34m\u001b[0m\n\u001b[1;32m----> 1\u001b[1;33m \u001b[0mpunct\u001b[0m \u001b[1;33m=\u001b[0m \u001b[0mlist\u001b[0m\u001b[1;33m(\u001b[0m\u001b[0mstring\u001b[0m\u001b[1;33m.\u001b[0m\u001b[0mpunctuation\u001b[0m\u001b[1;33m)\u001b[0m\u001b[1;33m\u001b[0m\u001b[1;33m\u001b[0m\u001b[0m\n\u001b[0m",
      "\u001b[1;31mNameError\u001b[0m: name 'string' is not defined"
     ]
    }
   ],
   "source": [
    "punct = list(string.punctuation)"
   ]
  },
  {
   "cell_type": "code",
   "execution_count": 87,
   "id": "213cdd26-23ee-4916-8a4c-d9de6ccd6d0b",
   "metadata": {
    "collapsed": true,
    "jupyter": {
     "outputs_hidden": true
    },
    "tags": []
   },
   "outputs": [
    {
     "ename": "NameError",
     "evalue": "name 'punct' is not defined",
     "output_type": "error",
     "traceback": [
      "\u001b[1;31m---------------------------------------------------------------------------\u001b[0m",
      "\u001b[1;31mNameError\u001b[0m                                 Traceback (most recent call last)",
      "\u001b[1;32m~\\AppData\\Local\\Temp/ipykernel_7724/2981765423.py\u001b[0m in \u001b[0;36m<module>\u001b[1;34m\u001b[0m\n\u001b[0;32m      1\u001b[0m \u001b[1;31m# 제거하기\u001b[0m\u001b[1;33m\u001b[0m\u001b[1;33m\u001b[0m\u001b[0m\n\u001b[1;32m----> 2\u001b[1;33m \u001b[1;33m[\u001b[0m\u001b[1;33m[\u001b[0m\u001b[0mword\u001b[0m \u001b[1;32mfor\u001b[0m \u001b[0mword\u001b[0m \u001b[1;32min\u001b[0m \u001b[0msent\u001b[0m \u001b[1;32mif\u001b[0m \u001b[0mword\u001b[0m \u001b[1;32mnot\u001b[0m \u001b[1;32min\u001b[0m \u001b[0mpunct\u001b[0m\u001b[1;33m]\u001b[0m \u001b[1;32mfor\u001b[0m \u001b[0msent\u001b[0m \u001b[1;32min\u001b[0m \u001b[0msentence_tokens\u001b[0m\u001b[1;33m]\u001b[0m\u001b[1;33m\u001b[0m\u001b[1;33m\u001b[0m\u001b[0m\n\u001b[0m",
      "\u001b[1;32m~\\AppData\\Local\\Temp/ipykernel_7724/2981765423.py\u001b[0m in \u001b[0;36m<listcomp>\u001b[1;34m(.0)\u001b[0m\n\u001b[0;32m      1\u001b[0m \u001b[1;31m# 제거하기\u001b[0m\u001b[1;33m\u001b[0m\u001b[1;33m\u001b[0m\u001b[0m\n\u001b[1;32m----> 2\u001b[1;33m \u001b[1;33m[\u001b[0m\u001b[1;33m[\u001b[0m\u001b[0mword\u001b[0m \u001b[1;32mfor\u001b[0m \u001b[0mword\u001b[0m \u001b[1;32min\u001b[0m \u001b[0msent\u001b[0m \u001b[1;32mif\u001b[0m \u001b[0mword\u001b[0m \u001b[1;32mnot\u001b[0m \u001b[1;32min\u001b[0m \u001b[0mpunct\u001b[0m\u001b[1;33m]\u001b[0m \u001b[1;32mfor\u001b[0m \u001b[0msent\u001b[0m \u001b[1;32min\u001b[0m \u001b[0msentence_tokens\u001b[0m\u001b[1;33m]\u001b[0m\u001b[1;33m\u001b[0m\u001b[1;33m\u001b[0m\u001b[0m\n\u001b[0m",
      "\u001b[1;32m~\\AppData\\Local\\Temp/ipykernel_7724/2981765423.py\u001b[0m in \u001b[0;36m<listcomp>\u001b[1;34m(.0)\u001b[0m\n\u001b[0;32m      1\u001b[0m \u001b[1;31m# 제거하기\u001b[0m\u001b[1;33m\u001b[0m\u001b[1;33m\u001b[0m\u001b[0m\n\u001b[1;32m----> 2\u001b[1;33m \u001b[1;33m[\u001b[0m\u001b[1;33m[\u001b[0m\u001b[0mword\u001b[0m \u001b[1;32mfor\u001b[0m \u001b[0mword\u001b[0m \u001b[1;32min\u001b[0m \u001b[0msent\u001b[0m \u001b[1;32mif\u001b[0m \u001b[0mword\u001b[0m \u001b[1;32mnot\u001b[0m \u001b[1;32min\u001b[0m \u001b[0mpunct\u001b[0m\u001b[1;33m]\u001b[0m \u001b[1;32mfor\u001b[0m \u001b[0msent\u001b[0m \u001b[1;32min\u001b[0m \u001b[0msentence_tokens\u001b[0m\u001b[1;33m]\u001b[0m\u001b[1;33m\u001b[0m\u001b[1;33m\u001b[0m\u001b[0m\n\u001b[0m",
      "\u001b[1;31mNameError\u001b[0m: name 'punct' is not defined"
     ]
    }
   ],
   "source": [
    "# 제거하기\n",
    "[[word for word in sent if word not in punct] for sent in sentence_tokens]"
   ]
  }
 ],
 "metadata": {
  "kernelspec": {
   "display_name": "Python 3 (ipykernel)",
   "language": "python",
   "name": "python3"
  },
  "language_info": {
   "codemirror_mode": {
    "name": "ipython",
    "version": 3
   },
   "file_extension": ".py",
   "mimetype": "text/x-python",
   "name": "python",
   "nbconvert_exporter": "python",
   "pygments_lexer": "ipython3",
   "version": "3.9.7"
  }
 },
 "nbformat": 4,
 "nbformat_minor": 5
}
