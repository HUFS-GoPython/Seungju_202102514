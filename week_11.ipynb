{
 "cells": [
  {
   "cell_type": "markdown",
   "id": "02b12bf8-31ae-4188-996c-a215a6f71e0e",
   "metadata": {},
   "source": [
    "#### **객체** \n",
    "- 상속 (inheritance)\n",
    "- 재사용할 때, A vs. B\n",
    "    - \"A의 대부분을 쓰고, 나머지를 추가, 변경\"\n",
    "    - 부모의 모든 속성을 그대로 가져와서 쓰기\n",
    "- 반복되는 부분을 가져오기(물려받기)\n",
    "- A <- B\n",
    "    - \"부모, 슈퍼, 베이스\"\n",
    "    - \"자식, 서브, derived\"\n",
    "- 자식 클래스는 부모 클래스를 구체화\n",
    "- is - a 관계: Car is-a Vehicle (포함)"
   ]
  },
  {
   "cell_type": "code",
   "execution_count": 2,
   "id": "5ddc8a06-c0f9-4b55-b8cf-26a06e3e1f57",
   "metadata": {},
   "outputs": [],
   "source": [
    "class Vehicle: #parent, super\n",
    "    def __init__(self, speed):\n",
    "        self.speed = speed\n",
    "        \n",
    "    def go(self):\n",
    "        print(f'{self.speed}의 속도로 달린다.')\n",
    "        \n",
    "#child\n",
    "class Car(Vehicle): #child, sub\n",
    "    pass"
   ]
  },
  {
   "cell_type": "code",
   "execution_count": 3,
   "id": "7da744f9-4203-43d4-bb68-1ddd9dedcbba",
   "metadata": {},
   "outputs": [
    {
     "name": "stdout",
     "output_type": "stream",
     "text": [
      "20km/h의 속도로 달린다.\n"
     ]
    }
   ],
   "source": [
    "car = Car('20km/h')\n",
    "car.go()"
   ]
  },
  {
   "cell_type": "markdown",
   "id": "674bf32a-dbb0-40e3-ae40-2925d49b49c2",
   "metadata": {},
   "source": [
    "### **변수추가, 변경**"
   ]
  },
  {
   "cell_type": "markdown",
   "id": "153eda2d-35d8-47f7-8003-ec7d99b6c7e1",
   "metadata": {},
   "source": [
    "- 접근: super()\n",
    "- super().__init__(부모의 변수 중에서 가져올 것을 선택)"
   ]
  },
  {
   "cell_type": "code",
   "execution_count": 4,
   "id": "f7520d1c-ea8e-46ec-9371-cb0e92557e0f",
   "metadata": {},
   "outputs": [],
   "source": [
    "class Car(Vehicle): #child, sub\n",
    "    def __init__(self, speed, brand):\n",
    "        # speed == 부모\n",
    "        super().__init__(speed)\n",
    "        # brand == 자식\n",
    "        self.brand = brand # 나의 고유한 특성이 된다."
   ]
  },
  {
   "cell_type": "code",
   "execution_count": 5,
   "id": "b074150a-4a19-4702-92cb-16bbc4d67dab",
   "metadata": {},
   "outputs": [
    {
     "data": {
      "text/plain": [
       "'kia'"
      ]
     },
     "execution_count": 5,
     "metadata": {},
     "output_type": "execute_result"
    }
   ],
   "source": [
    "car2 = Car('20km/h', 'kia')\n",
    "car2.brand"
   ]
  },
  {
   "cell_type": "code",
   "execution_count": 7,
   "id": "5dc82dcb-4fa5-4310-ba28-a0a589387814",
   "metadata": {},
   "outputs": [
    {
     "ename": "AttributeError",
     "evalue": "'Vehicle' object has no attribute 'brand'",
     "output_type": "error",
     "traceback": [
      "\u001b[1;31m---------------------------------------------------------------------------\u001b[0m",
      "\u001b[1;31mAttributeError\u001b[0m                            Traceback (most recent call last)",
      "\u001b[1;32m~\\AppData\\Local\\Temp/ipykernel_6340/2480011798.py\u001b[0m in \u001b[0;36m<module>\u001b[1;34m\u001b[0m\n\u001b[0;32m      1\u001b[0m \u001b[0mv\u001b[0m \u001b[1;33m=\u001b[0m \u001b[0mVehicle\u001b[0m\u001b[1;33m(\u001b[0m\u001b[1;34m'33km/h'\u001b[0m\u001b[1;33m)\u001b[0m\u001b[1;33m\u001b[0m\u001b[1;33m\u001b[0m\u001b[0m\n\u001b[1;32m----> 2\u001b[1;33m \u001b[0mv\u001b[0m\u001b[1;33m.\u001b[0m\u001b[0mbrand\u001b[0m \u001b[1;31m#부모에 brand가 없어서 오류!\u001b[0m\u001b[1;33m\u001b[0m\u001b[1;33m\u001b[0m\u001b[0m\n\u001b[0m",
      "\u001b[1;31mAttributeError\u001b[0m: 'Vehicle' object has no attribute 'brand'"
     ]
    }
   ],
   "source": [
    "v = Vehicle('33km/h')\n",
    "v.brand #부모에 brand가 없어서 오류!"
   ]
  },
  {
   "cell_type": "markdown",
   "id": "864ec4d8-7567-4f3a-b4ed-6e85b869b7b3",
   "metadata": {},
   "source": [
    "### **메소드 추가, 변경**\n",
    "- override하면 부모의 메서드가 잊힌다."
   ]
  },
  {
   "cell_type": "code",
   "execution_count": 8,
   "id": "a18b4fc3-e31a-45f4-bc5b-d5a72cd70752",
   "metadata": {},
   "outputs": [],
   "source": [
    "class Car(Vehicle): #child, sub\n",
    "    def __init__(self, speed, brand):\n",
    "        super().__init__(speed)\n",
    "        self.brand = brand # 나의 고유한 특성이 된다.\n",
    "    \n",
    "    # 오버라이드(override): 재정의\n",
    "    def go(self):\n",
    "        # 부모의 go도 함께 가져가고 싶다면?\n",
    "        super().go()\n",
    "        print(f'차종 {self.brand}의 속도 {self.speed}')\n",
    "        \n",
    "        \n",
    "    # 메소드 추가\n",
    "    def stop():\n",
    "        pass"
   ]
  },
  {
   "cell_type": "code",
   "execution_count": 9,
   "id": "3a529cfc-b3d7-46a6-a249-3ac3b8107e15",
   "metadata": {},
   "outputs": [
    {
     "name": "stdout",
     "output_type": "stream",
     "text": [
      "33km/h의 속도로 달린다.\n",
      "차종 mini의 속도 33km/h\n"
     ]
    }
   ],
   "source": [
    "car3 = Car('33km/h', 'mini')\n",
    "car3.go()"
   ]
  },
  {
   "cell_type": "markdown",
   "id": "39dbb3b4-50fc-410b-acc2-e64caa68d670",
   "metadata": {},
   "source": [
    "### **실습**"
   ]
  },
  {
   "cell_type": "code",
   "execution_count": 10,
   "id": "7519d121-9e39-45b5-8cb8-babffffcf61d",
   "metadata": {},
   "outputs": [],
   "source": [
    "class Person:\n",
    "    def __init__(self, name):\n",
    "        self.name = name # pablo\n",
    "              \n",
    "class Doctor(Person):# Dr. pablo\n",
    "    def __init__(self, name):\n",
    "        super().__init__('Dr.' + name)\n",
    "        \n",
    "class Male: # Mr. pablo\n",
    "    def __init__(self, name):\n",
    "        super().__init__()\n",
    "        self.name = name\n",
    "        \n",
    "    def male(self):\n",
    "        print(f'Mr.{self.name}')\n",
    "\n",
    "class Female: # Mrs. pablo\n",
    "    def __init__(self, name):\n",
    "        super().__init__()\n",
    "        self.name = name\n",
    "        \n",
    "    def female(self):\n",
    "        print(f'Mrs.{self.name}')"
   ]
  },
  {
   "cell_type": "markdown",
   "id": "2c56e3a5-3a26-4a74-a8fc-e7b398a800c5",
   "metadata": {},
   "source": [
    "#### **다중상속**\n",
    "- method resolution order (MRO)\n",
    "- Animal <- Horse \n",
    "            <- Mule (Donkey > Horse)\n",
    "                <- Hinny (Horse > Donkey)"
   ]
  },
  {
   "cell_type": "code",
   "execution_count": 11,
   "id": "d6a89ec5-9be7-4199-9ed0-13866681d3dc",
   "metadata": {},
   "outputs": [],
   "source": [
    "class Animal:\n",
    "    def says(self):\n",
    "        return '동물이 운다.'\n",
    "    \n",
    "# 자식\n",
    "class Horse(Animal):\n",
    "    def says(self):\n",
    "        # super().says()\n",
    "        return '히히힝'\n",
    "    \n",
    "class Donkey(Animal):\n",
    "    def says(self):\n",
    "        return '히이호'\n",
    "    \n",
    "# 손주\n",
    "class Mule(Donkey, Horse):\n",
    "    pass\n",
    "\n",
    "class Hinny(Horse, Donkey):\n",
    "    pass"
   ]
  },
  {
   "cell_type": "code",
   "execution_count": 12,
   "id": "fd20d347-276e-4168-8184-9a730e365b31",
   "metadata": {},
   "outputs": [
    {
     "data": {
      "text/plain": [
       "'히이호'"
      ]
     },
     "execution_count": 12,
     "metadata": {},
     "output_type": "execute_result"
    }
   ],
   "source": [
    "m = Mule()\n",
    "m.says()"
   ]
  },
  {
   "cell_type": "code",
   "execution_count": 13,
   "id": "b078a531-9518-49a5-9897-cea6eaf12f40",
   "metadata": {},
   "outputs": [
    {
     "data": {
      "text/plain": [
       "'히히힝'"
      ]
     },
     "execution_count": 13,
     "metadata": {},
     "output_type": "execute_result"
    }
   ],
   "source": [
    "Hinny().says()"
   ]
  },
  {
   "cell_type": "code",
   "execution_count": 14,
   "id": "8398bb04-4f7c-4f91-b388-07f37115a60d",
   "metadata": {},
   "outputs": [
    {
     "data": {
      "text/plain": [
       "[__main__.Mule, __main__.Donkey, __main__.Horse, __main__.Animal, object]"
      ]
     },
     "execution_count": 14,
     "metadata": {},
     "output_type": "execute_result"
    }
   ],
   "source": [
    "Mule.mro() # 가까운 순서대로"
   ]
  },
  {
   "cell_type": "markdown",
   "id": "79063310-e601-480f-b0a1-26dc188b4bad",
   "metadata": {},
   "source": [
    "### **다형성**\n",
    "- 형태가 다른데 기능이 같다.\n",
    "- 객체가 다른데도 같은 메소드를 가지고 있으면 같은 기능 수행할 수 있다."
   ]
  },
  {
   "cell_type": "code",
   "execution_count": 15,
   "id": "3e9053b9-5096-45c9-9e99-5ef5bfffa22c",
   "metadata": {},
   "outputs": [
    {
     "name": "stdout",
     "output_type": "stream",
     "text": [
      "히이호\n",
      "히이호\n",
      "동물이 운다.\n"
     ]
    }
   ],
   "source": [
    "for animal in [Mule(), Donkey(), Animal()]:\n",
    "    print(animal.says())"
   ]
  },
  {
   "cell_type": "markdown",
   "id": "21ec8e56-0e24-4fa3-a19f-5cc3a7c3203f",
   "metadata": {},
   "source": [
    "### **메서드 타입**\n",
    "- 인스턴스 메서드\n",
    "    - self가 1번 인자\n",
    "    - 객체 생성 -> 사용 가능\n",
    "- 클래스 메서드\n",
    "    - 객체 생성하지 않아도 사용 가능\n",
    "    - 클래스에 접근하는 메서드\n",
    "    - @classmethod\n",
    "    - 예약어: cls\n",
    "    - 함수(cls) 가 첫 인자\n",
    "    - class Person, cls == Person\n",
    "- 정적 메서드\n",
    "    - 객체 생성하지 않고 접근 가능\n",
    "    - 클래스랑 전혀 상관이 없기 때문에 접근 가능한 것\n",
    "    - 내용, 기능 비슷해서 클래스 내에 묶어 둠\n",
    "- 추상 메서드\n",
    "    - 추상 클래스: abstract 이름만 존재하는 클래스\n",
    "    - 설계도 역할\n",
    "    - 상속하는 자식클래스 => 반드시 구현해야 하는 메소드를 정의한다."
   ]
  },
  {
   "cell_type": "code",
   "execution_count": 16,
   "id": "405d305c-a837-4ad7-bd14-7be7102b9bd6",
   "metadata": {},
   "outputs": [
    {
     "data": {
      "text/plain": [
       "'히이호'"
      ]
     },
     "execution_count": 16,
     "metadata": {},
     "output_type": "execute_result"
    }
   ],
   "source": [
    "a = Mule() # 객체 생성\n",
    "a.says()"
   ]
  },
  {
   "cell_type": "code",
   "execution_count": 18,
   "id": "08b6e4d1-5dfc-4807-a839-34e74fb37c3a",
   "metadata": {},
   "outputs": [
    {
     "ename": "TypeError",
     "evalue": "says() missing 1 required positional argument: 'self'",
     "output_type": "error",
     "traceback": [
      "\u001b[1;31m---------------------------------------------------------------------------\u001b[0m",
      "\u001b[1;31mTypeError\u001b[0m                                 Traceback (most recent call last)",
      "\u001b[1;32m~\\AppData\\Local\\Temp/ipykernel_6340/1635908591.py\u001b[0m in \u001b[0;36m<module>\u001b[1;34m\u001b[0m\n\u001b[1;32m----> 1\u001b[1;33m \u001b[0mMule\u001b[0m\u001b[1;33m.\u001b[0m\u001b[0msays\u001b[0m\u001b[1;33m(\u001b[0m\u001b[1;33m)\u001b[0m\u001b[1;33m\u001b[0m\u001b[1;33m\u001b[0m\u001b[0m\n\u001b[0m\u001b[0;32m      2\u001b[0m \u001b[1;31m# self가 없어서 오류 & 바로 객체 생성 불가\u001b[0m\u001b[1;33m\u001b[0m\u001b[1;33m\u001b[0m\u001b[0m\n",
      "\u001b[1;31mTypeError\u001b[0m: says() missing 1 required positional argument: 'self'"
     ]
    }
   ],
   "source": [
    "Mule.says()\n",
    "# self가 없어서 오류 & 바로 객체 생성 불가"
   ]
  },
  {
   "cell_type": "code",
   "execution_count": 58,
   "id": "bc1c8940-d57d-4ce8-84e1-91d69d8d3037",
   "metadata": {},
   "outputs": [],
   "source": [
    "class A:\n",
    "    cnt = 0\n",
    "    \n",
    "    @classmethod\n",
    "    def move(cls):\n",
    "        return cls.cnt"
   ]
  },
  {
   "cell_type": "code",
   "execution_count": 59,
   "id": "6f1c75ce-3baf-460a-8133-b2433b6037ad",
   "metadata": {},
   "outputs": [
    {
     "data": {
      "text/plain": [
       "0"
      ]
     },
     "execution_count": 59,
     "metadata": {},
     "output_type": "execute_result"
    }
   ],
   "source": [
    "A().move()"
   ]
  },
  {
   "cell_type": "code",
   "execution_count": 60,
   "id": "6209444e-e70b-43b8-89d1-53b8ab702f08",
   "metadata": {},
   "outputs": [
    {
     "data": {
      "text/plain": [
       "0"
      ]
     },
     "execution_count": 60,
     "metadata": {},
     "output_type": "execute_result"
    }
   ],
   "source": [
    "A.move()"
   ]
  },
  {
   "cell_type": "code",
   "execution_count": 63,
   "id": "a029de60-1f92-4f69-a2b8-262609434347",
   "metadata": {},
   "outputs": [
    {
     "data": {
      "text/plain": [
       "<__main__.Person at 0x251f8ffca90>"
      ]
     },
     "execution_count": 63,
     "metadata": {},
     "output_type": "execute_result"
    }
   ],
   "source": [
    "class Person:\n",
    "    def __init__ (self, name, age): # p ->\n",
    "        self.name = name\n",
    "        self.age = age\n",
    "        \n",
    "    @classmethod\n",
    "    def tuple_object(cls, args): # cls -> Person\n",
    "        return cls(args[0], args[1])\n",
    "    \n",
    "name = 'kim'\n",
    "age = 24\n",
    "#p = Person(name, age)\n",
    "\n",
    "info = name, age\n",
    "Person.tuple_object(info) # p객체 생성하게"
   ]
  },
  {
   "cell_type": "code",
   "execution_count": 64,
   "id": "faf06578-d447-4c6b-9fd2-bed72cb35f21",
   "metadata": {},
   "outputs": [
    {
     "data": {
      "text/plain": [
       "'kim'"
      ]
     },
     "execution_count": 64,
     "metadata": {},
     "output_type": "execute_result"
    }
   ],
   "source": [
    "p.name"
   ]
  },
  {
   "cell_type": "code",
   "execution_count": 72,
   "id": "4a405540-8de0-4d9a-8903-493585d3e219",
   "metadata": {},
   "outputs": [
    {
     "data": {
      "text/plain": [
       "'객체 수: 3'"
      ]
     },
     "execution_count": 72,
     "metadata": {},
     "output_type": "execute_result"
    }
   ],
   "source": [
    "class A:\n",
    "    # 붕어빵 몇 개? (\n",
    "    cnt = 0\n",
    "    \n",
    "    def __init__(cls):\n",
    "        A.cnt += 1\n",
    "        \n",
    "    @classmethod\n",
    "    def count(cls):\n",
    "        # cls.cnt += 1\n",
    "        return f'객체 수: {cls.cnt}'\n",
    "    \n",
    "A()\n",
    "A()\n",
    "A()\n",
    "A.count() # 4"
   ]
  },
  {
   "cell_type": "code",
   "execution_count": 77,
   "id": "c7b188bc-30cb-42c0-ab6b-22623cd95526",
   "metadata": {},
   "outputs": [],
   "source": [
    "class Coyote:\n",
    "    @staticmethod\n",
    "    def says(): # self 없음. 딕셔너리에 변수 저장하는 것과 비슷\n",
    "        print('hi')"
   ]
  },
  {
   "cell_type": "code",
   "execution_count": 76,
   "id": "5c4eedf6-c466-42b5-b822-f52547acba22",
   "metadata": {},
   "outputs": [
    {
     "name": "stdout",
     "output_type": "stream",
     "text": [
      "hi\n"
     ]
    }
   ],
   "source": [
    "Coyote.says()"
   ]
  },
  {
   "cell_type": "code",
   "execution_count": 81,
   "id": "ecde89a7-b52c-457e-a25e-f69b4c77b9ab",
   "metadata": {},
   "outputs": [],
   "source": [
    "from abc import *\n",
    "\n",
    "class Vehicle(metaclass=ABCMeta):\n",
    "    # 추상 클래스 설정하는 방법\n",
    "    speed = '속도'\n",
    "    \n",
    "    @abstractmethod\n",
    "    def go(self):\n",
    "        print('탈 것이 간다.')\n",
    "        \n",
    "    \"\"\"\n",
    "    def stop(self):\n",
    "        pass\"\"\"\n",
    "    \n",
    "class Car(Vehicle):\n",
    "    def go(self):\n",
    "        print(\"\")"
   ]
  },
  {
   "cell_type": "code",
   "execution_count": 82,
   "id": "c2ea6589-4925-4f16-b3a3-68dd063a2815",
   "metadata": {},
   "outputs": [
    {
     "data": {
      "text/plain": [
       "<__main__.Car at 0x251f900ee80>"
      ]
     },
     "execution_count": 82,
     "metadata": {},
     "output_type": "execute_result"
    }
   ],
   "source": [
    "Car()"
   ]
  }
 ],
 "metadata": {
  "kernelspec": {
   "display_name": "Python 3 (ipykernel)",
   "language": "python",
   "name": "python3"
  },
  "language_info": {
   "codemirror_mode": {
    "name": "ipython",
    "version": 3
   },
   "file_extension": ".py",
   "mimetype": "text/x-python",
   "name": "python",
   "nbconvert_exporter": "python",
   "pygments_lexer": "ipython3",
   "version": "3.9.7"
  }
 },
 "nbformat": 4,
 "nbformat_minor": 5
}
